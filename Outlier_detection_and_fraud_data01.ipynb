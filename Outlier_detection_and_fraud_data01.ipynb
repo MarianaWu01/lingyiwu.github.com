{
  "nbformat": 4,
  "nbformat_minor": 0,
  "metadata": {
    "colab": {
      "provenance": [],
      "authorship_tag": "ABX9TyPqT1Wr0jGJXBP4xaAaXOxl",
      "include_colab_link": true
    },
    "kernelspec": {
      "name": "python3",
      "display_name": "Python 3"
    },
    "language_info": {
      "name": "python"
    }
  },
  "cells": [
    {
      "cell_type": "markdown",
      "metadata": {
        "id": "view-in-github",
        "colab_type": "text"
      },
      "source": [
        "<a href=\"https://colab.research.google.com/github/MarianaWu01/lingyiwu.github.com/blob/main/Outlier_detection_and_fraud_data01.ipynb\" target=\"_parent\"><img src=\"https://colab.research.google.com/assets/colab-badge.svg\" alt=\"Open In Colab\"/></a>"
      ]
    },
    {
      "cell_type": "code",
      "execution_count": 14,
      "metadata": {
        "id": "HUa_qRUb2z6d"
      },
      "outputs": [],
      "source": [
        "import matplotlib.pyplot as plt\n",
        "import seaborn as sns\n",
        "import numpy as np\n",
        "from sklearn.ensemble import IsolationForest\n",
        "from scipy.stats import multivariate_normal\n",
        "from sklearn.metrics import f1_score\n",
        "import io\n",
        "import pandas as pd\n",
        "from sklearn.model_selection import train_test_split\n",
        "from sklearn.metrics import f1_score,roc_auc_score,roc_curve,precision_recall_curve,auc,make_scorer,recall_score,accuracy_score,precision_score,confusion_matrix"
      ]
    },
    {
      "cell_type": "code",
      "source": [
        "from google.colab import drive\n",
        "drive.mount('/content/drive')"
      ],
      "metadata": {
        "colab": {
          "base_uri": "https://localhost:8080/"
        },
        "id": "6nv55tBw0j9-",
        "outputId": "5fb157ff-5ad1-4846-eee9-eac06b48267a"
      },
      "execution_count": 15,
      "outputs": [
        {
          "output_type": "stream",
          "name": "stdout",
          "text": [
            "Drive already mounted at /content/drive; to attempt to forcibly remount, call drive.mount(\"/content/drive\", force_remount=True).\n"
          ]
        }
      ]
    },
    {
      "cell_type": "code",
      "source": [
        "!ls'/content/drive/My Drive/fraudData'"
      ],
      "metadata": {
        "colab": {
          "base_uri": "https://localhost:8080/"
        },
        "id": "P6qTizMz0ycw",
        "outputId": "bf4931f8-9495-47ce-ae6f-d7525d4ab595"
      },
      "execution_count": 16,
      "outputs": [
        {
          "output_type": "stream",
          "name": "stdout",
          "text": [
            "/bin/bash: line 1: ls/content/drive/My Drive/fraudData: No such file or directory\n"
          ]
        }
      ]
    },
    {
      "cell_type": "code",
      "source": [
        "creditcardDF=pd.read_csv('/content/creditcard.csv')\n",
        "creditcardDF.head()"
      ],
      "metadata": {
        "colab": {
          "base_uri": "https://localhost:8080/",
          "height": 256
        },
        "id": "LKSgzIpmMcLv",
        "outputId": "c81a7941-7852-4c82-bf41-ee23b7ac159c"
      },
      "execution_count": 17,
      "outputs": [
        {
          "output_type": "execute_result",
          "data": {
            "text/plain": [
              "   Time        V1        V2        V3        V4        V5        V6        V7  \\\n",
              "0   0.0 -1.359807 -0.072781  2.536347  1.378155 -0.338321  0.462388  0.239599   \n",
              "1   0.0  1.191857  0.266151  0.166480  0.448154  0.060018 -0.082361 -0.078803   \n",
              "2   1.0 -1.358354 -1.340163  1.773209  0.379780 -0.503198  1.800499  0.791461   \n",
              "3   1.0 -0.966272 -0.185226  1.792993 -0.863291 -0.010309  1.247203  0.237609   \n",
              "4   2.0 -1.158233  0.877737  1.548718  0.403034 -0.407193  0.095921  0.592941   \n",
              "\n",
              "         V8        V9  ...       V21       V22       V23       V24       V25  \\\n",
              "0  0.098698  0.363787  ... -0.018307  0.277838 -0.110474  0.066928  0.128539   \n",
              "1  0.085102 -0.255425  ... -0.225775 -0.638672  0.101288 -0.339846  0.167170   \n",
              "2  0.247676 -1.514654  ...  0.247998  0.771679  0.909412 -0.689281 -0.327642   \n",
              "3  0.377436 -1.387024  ... -0.108300  0.005274 -0.190321 -1.175575  0.647376   \n",
              "4 -0.270533  0.817739  ... -0.009431  0.798278 -0.137458  0.141267 -0.206010   \n",
              "\n",
              "        V26       V27       V28  Amount  Class  \n",
              "0 -0.189115  0.133558 -0.021053  149.62      0  \n",
              "1  0.125895 -0.008983  0.014724    2.69      0  \n",
              "2 -0.139097 -0.055353 -0.059752  378.66      0  \n",
              "3 -0.221929  0.062723  0.061458  123.50      0  \n",
              "4  0.502292  0.219422  0.215153   69.99      0  \n",
              "\n",
              "[5 rows x 31 columns]"
            ],
            "text/html": [
              "\n",
              "  <div id=\"df-1654f2f2-d18a-4c67-8a24-71929ca087c9\" class=\"colab-df-container\">\n",
              "    <div>\n",
              "<style scoped>\n",
              "    .dataframe tbody tr th:only-of-type {\n",
              "        vertical-align: middle;\n",
              "    }\n",
              "\n",
              "    .dataframe tbody tr th {\n",
              "        vertical-align: top;\n",
              "    }\n",
              "\n",
              "    .dataframe thead th {\n",
              "        text-align: right;\n",
              "    }\n",
              "</style>\n",
              "<table border=\"1\" class=\"dataframe\">\n",
              "  <thead>\n",
              "    <tr style=\"text-align: right;\">\n",
              "      <th></th>\n",
              "      <th>Time</th>\n",
              "      <th>V1</th>\n",
              "      <th>V2</th>\n",
              "      <th>V3</th>\n",
              "      <th>V4</th>\n",
              "      <th>V5</th>\n",
              "      <th>V6</th>\n",
              "      <th>V7</th>\n",
              "      <th>V8</th>\n",
              "      <th>V9</th>\n",
              "      <th>...</th>\n",
              "      <th>V21</th>\n",
              "      <th>V22</th>\n",
              "      <th>V23</th>\n",
              "      <th>V24</th>\n",
              "      <th>V25</th>\n",
              "      <th>V26</th>\n",
              "      <th>V27</th>\n",
              "      <th>V28</th>\n",
              "      <th>Amount</th>\n",
              "      <th>Class</th>\n",
              "    </tr>\n",
              "  </thead>\n",
              "  <tbody>\n",
              "    <tr>\n",
              "      <th>0</th>\n",
              "      <td>0.0</td>\n",
              "      <td>-1.359807</td>\n",
              "      <td>-0.072781</td>\n",
              "      <td>2.536347</td>\n",
              "      <td>1.378155</td>\n",
              "      <td>-0.338321</td>\n",
              "      <td>0.462388</td>\n",
              "      <td>0.239599</td>\n",
              "      <td>0.098698</td>\n",
              "      <td>0.363787</td>\n",
              "      <td>...</td>\n",
              "      <td>-0.018307</td>\n",
              "      <td>0.277838</td>\n",
              "      <td>-0.110474</td>\n",
              "      <td>0.066928</td>\n",
              "      <td>0.128539</td>\n",
              "      <td>-0.189115</td>\n",
              "      <td>0.133558</td>\n",
              "      <td>-0.021053</td>\n",
              "      <td>149.62</td>\n",
              "      <td>0</td>\n",
              "    </tr>\n",
              "    <tr>\n",
              "      <th>1</th>\n",
              "      <td>0.0</td>\n",
              "      <td>1.191857</td>\n",
              "      <td>0.266151</td>\n",
              "      <td>0.166480</td>\n",
              "      <td>0.448154</td>\n",
              "      <td>0.060018</td>\n",
              "      <td>-0.082361</td>\n",
              "      <td>-0.078803</td>\n",
              "      <td>0.085102</td>\n",
              "      <td>-0.255425</td>\n",
              "      <td>...</td>\n",
              "      <td>-0.225775</td>\n",
              "      <td>-0.638672</td>\n",
              "      <td>0.101288</td>\n",
              "      <td>-0.339846</td>\n",
              "      <td>0.167170</td>\n",
              "      <td>0.125895</td>\n",
              "      <td>-0.008983</td>\n",
              "      <td>0.014724</td>\n",
              "      <td>2.69</td>\n",
              "      <td>0</td>\n",
              "    </tr>\n",
              "    <tr>\n",
              "      <th>2</th>\n",
              "      <td>1.0</td>\n",
              "      <td>-1.358354</td>\n",
              "      <td>-1.340163</td>\n",
              "      <td>1.773209</td>\n",
              "      <td>0.379780</td>\n",
              "      <td>-0.503198</td>\n",
              "      <td>1.800499</td>\n",
              "      <td>0.791461</td>\n",
              "      <td>0.247676</td>\n",
              "      <td>-1.514654</td>\n",
              "      <td>...</td>\n",
              "      <td>0.247998</td>\n",
              "      <td>0.771679</td>\n",
              "      <td>0.909412</td>\n",
              "      <td>-0.689281</td>\n",
              "      <td>-0.327642</td>\n",
              "      <td>-0.139097</td>\n",
              "      <td>-0.055353</td>\n",
              "      <td>-0.059752</td>\n",
              "      <td>378.66</td>\n",
              "      <td>0</td>\n",
              "    </tr>\n",
              "    <tr>\n",
              "      <th>3</th>\n",
              "      <td>1.0</td>\n",
              "      <td>-0.966272</td>\n",
              "      <td>-0.185226</td>\n",
              "      <td>1.792993</td>\n",
              "      <td>-0.863291</td>\n",
              "      <td>-0.010309</td>\n",
              "      <td>1.247203</td>\n",
              "      <td>0.237609</td>\n",
              "      <td>0.377436</td>\n",
              "      <td>-1.387024</td>\n",
              "      <td>...</td>\n",
              "      <td>-0.108300</td>\n",
              "      <td>0.005274</td>\n",
              "      <td>-0.190321</td>\n",
              "      <td>-1.175575</td>\n",
              "      <td>0.647376</td>\n",
              "      <td>-0.221929</td>\n",
              "      <td>0.062723</td>\n",
              "      <td>0.061458</td>\n",
              "      <td>123.50</td>\n",
              "      <td>0</td>\n",
              "    </tr>\n",
              "    <tr>\n",
              "      <th>4</th>\n",
              "      <td>2.0</td>\n",
              "      <td>-1.158233</td>\n",
              "      <td>0.877737</td>\n",
              "      <td>1.548718</td>\n",
              "      <td>0.403034</td>\n",
              "      <td>-0.407193</td>\n",
              "      <td>0.095921</td>\n",
              "      <td>0.592941</td>\n",
              "      <td>-0.270533</td>\n",
              "      <td>0.817739</td>\n",
              "      <td>...</td>\n",
              "      <td>-0.009431</td>\n",
              "      <td>0.798278</td>\n",
              "      <td>-0.137458</td>\n",
              "      <td>0.141267</td>\n",
              "      <td>-0.206010</td>\n",
              "      <td>0.502292</td>\n",
              "      <td>0.219422</td>\n",
              "      <td>0.215153</td>\n",
              "      <td>69.99</td>\n",
              "      <td>0</td>\n",
              "    </tr>\n",
              "  </tbody>\n",
              "</table>\n",
              "<p>5 rows × 31 columns</p>\n",
              "</div>\n",
              "    <div class=\"colab-df-buttons\">\n",
              "\n",
              "  <div class=\"colab-df-container\">\n",
              "    <button class=\"colab-df-convert\" onclick=\"convertToInteractive('df-1654f2f2-d18a-4c67-8a24-71929ca087c9')\"\n",
              "            title=\"Convert this dataframe to an interactive table.\"\n",
              "            style=\"display:none;\">\n",
              "\n",
              "  <svg xmlns=\"http://www.w3.org/2000/svg\" height=\"24px\" viewBox=\"0 -960 960 960\">\n",
              "    <path d=\"M120-120v-720h720v720H120Zm60-500h600v-160H180v160Zm220 220h160v-160H400v160Zm0 220h160v-160H400v160ZM180-400h160v-160H180v160Zm440 0h160v-160H620v160ZM180-180h160v-160H180v160Zm440 0h160v-160H620v160Z\"/>\n",
              "  </svg>\n",
              "    </button>\n",
              "\n",
              "  <style>\n",
              "    .colab-df-container {\n",
              "      display:flex;\n",
              "      gap: 12px;\n",
              "    }\n",
              "\n",
              "    .colab-df-convert {\n",
              "      background-color: #E8F0FE;\n",
              "      border: none;\n",
              "      border-radius: 50%;\n",
              "      cursor: pointer;\n",
              "      display: none;\n",
              "      fill: #1967D2;\n",
              "      height: 32px;\n",
              "      padding: 0 0 0 0;\n",
              "      width: 32px;\n",
              "    }\n",
              "\n",
              "    .colab-df-convert:hover {\n",
              "      background-color: #E2EBFA;\n",
              "      box-shadow: 0px 1px 2px rgba(60, 64, 67, 0.3), 0px 1px 3px 1px rgba(60, 64, 67, 0.15);\n",
              "      fill: #174EA6;\n",
              "    }\n",
              "\n",
              "    .colab-df-buttons div {\n",
              "      margin-bottom: 4px;\n",
              "    }\n",
              "\n",
              "    [theme=dark] .colab-df-convert {\n",
              "      background-color: #3B4455;\n",
              "      fill: #D2E3FC;\n",
              "    }\n",
              "\n",
              "    [theme=dark] .colab-df-convert:hover {\n",
              "      background-color: #434B5C;\n",
              "      box-shadow: 0px 1px 3px 1px rgba(0, 0, 0, 0.15);\n",
              "      filter: drop-shadow(0px 1px 2px rgba(0, 0, 0, 0.3));\n",
              "      fill: #FFFFFF;\n",
              "    }\n",
              "  </style>\n",
              "\n",
              "    <script>\n",
              "      const buttonEl =\n",
              "        document.querySelector('#df-1654f2f2-d18a-4c67-8a24-71929ca087c9 button.colab-df-convert');\n",
              "      buttonEl.style.display =\n",
              "        google.colab.kernel.accessAllowed ? 'block' : 'none';\n",
              "\n",
              "      async function convertToInteractive(key) {\n",
              "        const element = document.querySelector('#df-1654f2f2-d18a-4c67-8a24-71929ca087c9');\n",
              "        const dataTable =\n",
              "          await google.colab.kernel.invokeFunction('convertToInteractive',\n",
              "                                                    [key], {});\n",
              "        if (!dataTable) return;\n",
              "\n",
              "        const docLinkHtml = 'Like what you see? Visit the ' +\n",
              "          '<a target=\"_blank\" href=https://colab.research.google.com/notebooks/data_table.ipynb>data table notebook</a>'\n",
              "          + ' to learn more about interactive tables.';\n",
              "        element.innerHTML = '';\n",
              "        dataTable['output_type'] = 'display_data';\n",
              "        await google.colab.output.renderOutput(dataTable, element);\n",
              "        const docLink = document.createElement('div');\n",
              "        docLink.innerHTML = docLinkHtml;\n",
              "        element.appendChild(docLink);\n",
              "      }\n",
              "    </script>\n",
              "  </div>\n",
              "\n",
              "\n",
              "<div id=\"df-367817f3-5b79-4e21-ab7a-e347a754e408\">\n",
              "  <button class=\"colab-df-quickchart\" onclick=\"quickchart('df-367817f3-5b79-4e21-ab7a-e347a754e408')\"\n",
              "            title=\"Suggest charts\"\n",
              "            style=\"display:none;\">\n",
              "\n",
              "<svg xmlns=\"http://www.w3.org/2000/svg\" height=\"24px\"viewBox=\"0 0 24 24\"\n",
              "     width=\"24px\">\n",
              "    <g>\n",
              "        <path d=\"M19 3H5c-1.1 0-2 .9-2 2v14c0 1.1.9 2 2 2h14c1.1 0 2-.9 2-2V5c0-1.1-.9-2-2-2zM9 17H7v-7h2v7zm4 0h-2V7h2v10zm4 0h-2v-4h2v4z\"/>\n",
              "    </g>\n",
              "</svg>\n",
              "  </button>\n",
              "\n",
              "<style>\n",
              "  .colab-df-quickchart {\n",
              "      --bg-color: #E8F0FE;\n",
              "      --fill-color: #1967D2;\n",
              "      --hover-bg-color: #E2EBFA;\n",
              "      --hover-fill-color: #174EA6;\n",
              "      --disabled-fill-color: #AAA;\n",
              "      --disabled-bg-color: #DDD;\n",
              "  }\n",
              "\n",
              "  [theme=dark] .colab-df-quickchart {\n",
              "      --bg-color: #3B4455;\n",
              "      --fill-color: #D2E3FC;\n",
              "      --hover-bg-color: #434B5C;\n",
              "      --hover-fill-color: #FFFFFF;\n",
              "      --disabled-bg-color: #3B4455;\n",
              "      --disabled-fill-color: #666;\n",
              "  }\n",
              "\n",
              "  .colab-df-quickchart {\n",
              "    background-color: var(--bg-color);\n",
              "    border: none;\n",
              "    border-radius: 50%;\n",
              "    cursor: pointer;\n",
              "    display: none;\n",
              "    fill: var(--fill-color);\n",
              "    height: 32px;\n",
              "    padding: 0;\n",
              "    width: 32px;\n",
              "  }\n",
              "\n",
              "  .colab-df-quickchart:hover {\n",
              "    background-color: var(--hover-bg-color);\n",
              "    box-shadow: 0 1px 2px rgba(60, 64, 67, 0.3), 0 1px 3px 1px rgba(60, 64, 67, 0.15);\n",
              "    fill: var(--button-hover-fill-color);\n",
              "  }\n",
              "\n",
              "  .colab-df-quickchart-complete:disabled,\n",
              "  .colab-df-quickchart-complete:disabled:hover {\n",
              "    background-color: var(--disabled-bg-color);\n",
              "    fill: var(--disabled-fill-color);\n",
              "    box-shadow: none;\n",
              "  }\n",
              "\n",
              "  .colab-df-spinner {\n",
              "    border: 2px solid var(--fill-color);\n",
              "    border-color: transparent;\n",
              "    border-bottom-color: var(--fill-color);\n",
              "    animation:\n",
              "      spin 1s steps(1) infinite;\n",
              "  }\n",
              "\n",
              "  @keyframes spin {\n",
              "    0% {\n",
              "      border-color: transparent;\n",
              "      border-bottom-color: var(--fill-color);\n",
              "      border-left-color: var(--fill-color);\n",
              "    }\n",
              "    20% {\n",
              "      border-color: transparent;\n",
              "      border-left-color: var(--fill-color);\n",
              "      border-top-color: var(--fill-color);\n",
              "    }\n",
              "    30% {\n",
              "      border-color: transparent;\n",
              "      border-left-color: var(--fill-color);\n",
              "      border-top-color: var(--fill-color);\n",
              "      border-right-color: var(--fill-color);\n",
              "    }\n",
              "    40% {\n",
              "      border-color: transparent;\n",
              "      border-right-color: var(--fill-color);\n",
              "      border-top-color: var(--fill-color);\n",
              "    }\n",
              "    60% {\n",
              "      border-color: transparent;\n",
              "      border-right-color: var(--fill-color);\n",
              "    }\n",
              "    80% {\n",
              "      border-color: transparent;\n",
              "      border-right-color: var(--fill-color);\n",
              "      border-bottom-color: var(--fill-color);\n",
              "    }\n",
              "    90% {\n",
              "      border-color: transparent;\n",
              "      border-bottom-color: var(--fill-color);\n",
              "    }\n",
              "  }\n",
              "</style>\n",
              "\n",
              "  <script>\n",
              "    async function quickchart(key) {\n",
              "      const quickchartButtonEl =\n",
              "        document.querySelector('#' + key + ' button');\n",
              "      quickchartButtonEl.disabled = true;  // To prevent multiple clicks.\n",
              "      quickchartButtonEl.classList.add('colab-df-spinner');\n",
              "      try {\n",
              "        const charts = await google.colab.kernel.invokeFunction(\n",
              "            'suggestCharts', [key], {});\n",
              "      } catch (error) {\n",
              "        console.error('Error during call to suggestCharts:', error);\n",
              "      }\n",
              "      quickchartButtonEl.classList.remove('colab-df-spinner');\n",
              "      quickchartButtonEl.classList.add('colab-df-quickchart-complete');\n",
              "    }\n",
              "    (() => {\n",
              "      let quickchartButtonEl =\n",
              "        document.querySelector('#df-367817f3-5b79-4e21-ab7a-e347a754e408 button');\n",
              "      quickchartButtonEl.style.display =\n",
              "        google.colab.kernel.accessAllowed ? 'block' : 'none';\n",
              "    })();\n",
              "  </script>\n",
              "</div>\n",
              "    </div>\n",
              "  </div>\n"
            ],
            "application/vnd.google.colaboratory.intrinsic+json": {
              "type": "dataframe",
              "variable_name": "creditcardDF"
            }
          },
          "metadata": {},
          "execution_count": 17
        }
      ]
    },
    {
      "cell_type": "code",
      "source": [
        "creditcardDF['Class'].value_counts()"
      ],
      "metadata": {
        "colab": {
          "base_uri": "https://localhost:8080/"
        },
        "id": "XJCvgiZ7NOWr",
        "outputId": "4050f323-9757-4a8f-9cf0-5f01571c1830"
      },
      "execution_count": 18,
      "outputs": [
        {
          "output_type": "execute_result",
          "data": {
            "text/plain": [
              "Class\n",
              "0    284315\n",
              "1       492\n",
              "Name: count, dtype: int64"
            ]
          },
          "metadata": {},
          "execution_count": 18
        }
      ]
    },
    {
      "cell_type": "code",
      "source": [
        "creditcardDF.shape"
      ],
      "metadata": {
        "colab": {
          "base_uri": "https://localhost:8080/"
        },
        "id": "-t_hnPp5OKc5",
        "outputId": "1d57bc3f-8b98-4997-dcf1-75408ca407d8"
      },
      "execution_count": 19,
      "outputs": [
        {
          "output_type": "execute_result",
          "data": {
            "text/plain": [
              "(284807, 31)"
            ]
          },
          "metadata": {},
          "execution_count": 19
        }
      ]
    },
    {
      "cell_type": "code",
      "source": [
        "creditcardDF.isna().sum()"
      ],
      "metadata": {
        "colab": {
          "base_uri": "https://localhost:8080/"
        },
        "id": "firsVE4hOSVg",
        "outputId": "06cfce0e-c016-4896-e18f-16a48de43fbe"
      },
      "execution_count": 20,
      "outputs": [
        {
          "output_type": "execute_result",
          "data": {
            "text/plain": [
              "Time      0\n",
              "V1        0\n",
              "V2        0\n",
              "V3        0\n",
              "V4        0\n",
              "V5        0\n",
              "V6        0\n",
              "V7        0\n",
              "V8        0\n",
              "V9        0\n",
              "V10       0\n",
              "V11       0\n",
              "V12       0\n",
              "V13       0\n",
              "V14       0\n",
              "V15       0\n",
              "V16       0\n",
              "V17       0\n",
              "V18       0\n",
              "V19       0\n",
              "V20       0\n",
              "V21       0\n",
              "V22       0\n",
              "V23       0\n",
              "V24       0\n",
              "V25       0\n",
              "V26       0\n",
              "V27       0\n",
              "V28       0\n",
              "Amount    0\n",
              "Class     0\n",
              "dtype: int64"
            ]
          },
          "metadata": {},
          "execution_count": 20
        }
      ]
    },
    {
      "cell_type": "code",
      "source": [
        "sns.distplot(creditcardDF['Time'])"
      ],
      "metadata": {
        "colab": {
          "base_uri": "https://localhost:8080/",
          "height": 679
        },
        "id": "jUbVMwV6OYmQ",
        "outputId": "ca9559cc-0981-4dfa-91f2-e286f2940f0a"
      },
      "execution_count": 21,
      "outputs": [
        {
          "output_type": "stream",
          "name": "stderr",
          "text": [
            "<ipython-input-21-16b1e7f6f4a2>:1: UserWarning: \n",
            "\n",
            "`distplot` is a deprecated function and will be removed in seaborn v0.14.0.\n",
            "\n",
            "Please adapt your code to use either `displot` (a figure-level function with\n",
            "similar flexibility) or `histplot` (an axes-level function for histograms).\n",
            "\n",
            "For a guide to updating your code to use the new functions, please see\n",
            "https://gist.github.com/mwaskom/de44147ed2974457ad6372750bbe5751\n",
            "\n",
            "  sns.distplot(creditcardDF['Time'])\n"
          ]
        },
        {
          "output_type": "execute_result",
          "data": {
            "text/plain": [
              "<Axes: xlabel='Time', ylabel='Density'>"
            ]
          },
          "metadata": {},
          "execution_count": 21
        },
        {
          "output_type": "display_data",
          "data": {
            "text/plain": [
              "<Figure size 640x480 with 1 Axes>"
            ],
            "image/png": "[encoded data removed]"
          },
          "metadata": {}
        }
      ]
    },
    {
      "cell_type": "code",
      "source": [
        "sns.distplot(creditcardDF['Amount'])"
      ],
      "metadata": {
        "colab": {
          "base_uri": "https://localhost:8080/",
          "height": 663
        },
        "id": "Ixiue-OlPTs_",
        "outputId": "8f958033-65b2-455b-f9f1-42cc3f34a3fd"
      },
      "execution_count": 22,
      "outputs": [
        {
          "output_type": "stream",
          "name": "stderr",
          "text": [
            "<ipython-input-22-8bcfe78dec34>:1: UserWarning: \n",
            "\n",
            "`distplot` is a deprecated function and will be removed in seaborn v0.14.0.\n",
            "\n",
            "Please adapt your code to use either `displot` (a figure-level function with\n",
            "similar flexibility) or `histplot` (an axes-level function for histograms).\n",
            "\n",
            "For a guide to updating your code to use the new functions, please see\n",
            "https://gist.github.com/mwaskom/de44147ed2974457ad6372750bbe5751\n",
            "\n",
            "  sns.distplot(creditcardDF['Amount'])\n"
          ]
        },
        {
          "output_type": "execute_result",
          "data": {
            "text/plain": [
              "<Axes: xlabel='Amount', ylabel='Density'>"
            ]
          },
          "metadata": {},
          "execution_count": 22
        },
        {
          "output_type": "display_data",
          "data": {
            "text/plain": [
              "<Figure size 640x480 with 1 Axes>"
            ],
            "image/png": "[encoded data removed]"
          },
          "metadata": {}
        }
      ]
    },
    {
      "cell_type": "code",
      "source": [
        "creditcardDF['Amount'] = np.log(creditcardDF['Amount']+1)\n",
        "creditcardDF['Time'] = np.log(creditcardDF['Time']+1)\n",
        "normal = creditcardDF[creditcardDF['Class']==0]\n",
        "anomaly = creditcardDF[creditcardDF['Class']==1]\n",
        "train, small_normal = train_test_split(normal, test_size=0.2, random_state=0)\n",
        "normal_valid, normal_test = train_test_split(small_normal, test_size=0.5, random_state=0)\n",
        "anomaly_valid, anomaly_test = train_test_split(anomaly, test_size=0.5, random_state=0)\n",
        "validation = pd.concat([normal_valid,anomaly_valid])\n",
        "test = pd.concat([normal_test,anomaly_test])\n",
        "print(validation.shape)\n",
        "print(test.shape)\n",
        "train = train.drop(columns = ['Class']).reset_index(drop=True)\n",
        "print(train.shape)"
      ],
      "metadata": {
        "colab": {
          "base_uri": "https://localhost:8080/"
        },
        "id": "ytUvmmLmQLPT",
        "outputId": "a7eb831c-2f87-4a98-d791-dbc6c5b9310a"
      },
      "execution_count": 23,
      "outputs": [
        {
          "output_type": "stream",
          "name": "stdout",
          "text": [
            "(28677, 31)\n",
            "(28678, 31)\n",
            "(227452, 30)\n"
          ]
        }
      ]
    },
    {
      "cell_type": "code",
      "source": [
        "featureNames = list(train.columns.values)\n",
        "valFeatures = validation[featureNames].reset_index(drop= True)\n",
        "testFeatures = test[featureNames].reset_index(drop= True)\n",
        "\n",
        "valLabel = validation['Class']\n",
        "testLabel = test['Class']"
      ],
      "metadata": {
        "id": "7VOmZs6rQylY"
      },
      "execution_count": 24,
      "outputs": []
    },
    {
      "cell_type": "code",
      "source": [
        "valFeatures.head()"
      ],
      "metadata": {
        "colab": {
          "base_uri": "https://localhost:8080/",
          "height": 256
        },
        "id": "cV9zXeuDS-rf",
        "outputId": "ead5fea5-145e-4701-d170-b549ff0016ca"
      },
      "execution_count": 25,
      "outputs": [
        {
          "output_type": "execute_result",
          "data": {
            "text/plain": [
              "        Time        V1        V2        V3        V4        V5        V6  \\\n",
              "0  11.827043 -0.248023  1.259502 -0.993999 -1.587788  1.913462 -0.630270   \n",
              "1  10.809566 -1.614505 -0.970137  1.730517 -1.715497 -0.869271 -0.171355   \n",
              "2  11.340380  1.106176  0.148096  0.424489  1.282916 -0.080275  0.146526   \n",
              "3  11.321208 -1.791995  1.102738  0.324217  1.082267 -0.303348 -1.050303   \n",
              "4  11.956784  1.924286  0.324362 -0.734639  3.370481  0.783552  1.224944   \n",
              "\n",
              "         V7        V8        V9  ...       V20       V21       V22       V23  \\\n",
              "0  1.958852 -0.659274  0.002373  ...  0.396605  0.089915  0.896611 -0.367547   \n",
              "1  1.216768 -0.031314  0.992762  ...  0.831753  0.408654  0.630537  0.382848   \n",
              "2 -0.007108  0.114953 -0.004731  ... -0.148073 -0.042488  0.071593 -0.085294   \n",
              "3  0.066270  0.613586 -0.720545  ... -0.285331  0.151935  0.514245  0.290932   \n",
              "4 -0.298881  0.291717 -0.790152  ... -0.227395 -0.022543 -0.115448  0.143200   \n",
              "\n",
              "        V24       V25       V26       V27       V28    Amount  \n",
              "0  0.143515 -0.177558  0.025269  0.271419 -0.066416  0.920283  \n",
              "1 -0.110627  0.906539 -0.618206 -0.026364  0.104561  5.874931  \n",
              "2  0.032780  0.637894 -0.331179  0.036130  0.007639  2.866193  \n",
              "3  0.403345 -0.064118 -0.318054  0.021940  0.013401  3.432373  \n",
              "4 -0.357497 -0.109288 -0.105516 -0.025440 -0.050761  2.572612  \n",
              "\n",
              "[5 rows x 30 columns]"
            ],
            "text/html": [
              "\n",
              "  <div id=\"df-a73f0257-b2ea-48ba-bfc1-6b46d9161147\" class=\"colab-df-container\">\n",
              "    <div>\n",
              "<style scoped>\n",
              "    .dataframe tbody tr th:only-of-type {\n",
              "        vertical-align: middle;\n",
              "    }\n",
              "\n",
              "    .dataframe tbody tr th {\n",
              "        vertical-align: top;\n",
              "    }\n",
              "\n",
              "    .dataframe thead th {\n",
              "        text-align: right;\n",
              "    }\n",
              "</style>\n",
              "<table border=\"1\" class=\"dataframe\">\n",
              "  <thead>\n",
              "    <tr style=\"text-align: right;\">\n",
              "      <th></th>\n",
              "      <th>Time</th>\n",
              "      <th>V1</th>\n",
              "      <th>V2</th>\n",
              "      <th>V3</th>\n",
              "      <th>V4</th>\n",
              "      <th>V5</th>\n",
              "      <th>V6</th>\n",
              "      <th>V7</th>\n",
              "      <th>V8</th>\n",
              "      <th>V9</th>\n",
              "      <th>...</th>\n",
              "      <th>V20</th>\n",
              "      <th>V21</th>\n",
              "      <th>V22</th>\n",
              "      <th>V23</th>\n",
              "      <th>V24</th>\n",
              "      <th>V25</th>\n",
              "      <th>V26</th>\n",
              "      <th>V27</th>\n",
              "      <th>V28</th>\n",
              "      <th>Amount</th>\n",
              "    </tr>\n",
              "  </thead>\n",
              "  <tbody>\n",
              "    <tr>\n",
              "      <th>0</th>\n",
              "      <td>11.827043</td>\n",
              "      <td>-0.248023</td>\n",
              "      <td>1.259502</td>\n",
              "      <td>-0.993999</td>\n",
              "      <td>-1.587788</td>\n",
              "      <td>1.913462</td>\n",
              "      <td>-0.630270</td>\n",
              "      <td>1.958852</td>\n",
              "      <td>-0.659274</td>\n",
              "      <td>0.002373</td>\n",
              "      <td>...</td>\n",
              "      <td>0.396605</td>\n",
              "      <td>0.089915</td>\n",
              "      <td>0.896611</td>\n",
              "      <td>-0.367547</td>\n",
              "      <td>0.143515</td>\n",
              "      <td>-0.177558</td>\n",
              "      <td>0.025269</td>\n",
              "      <td>0.271419</td>\n",
              "      <td>-0.066416</td>\n",
              "      <td>0.920283</td>\n",
              "    </tr>\n",
              "    <tr>\n",
              "      <th>1</th>\n",
              "      <td>10.809566</td>\n",
              "      <td>-1.614505</td>\n",
              "      <td>-0.970137</td>\n",
              "      <td>1.730517</td>\n",
              "      <td>-1.715497</td>\n",
              "      <td>-0.869271</td>\n",
              "      <td>-0.171355</td>\n",
              "      <td>1.216768</td>\n",
              "      <td>-0.031314</td>\n",
              "      <td>0.992762</td>\n",
              "      <td>...</td>\n",
              "      <td>0.831753</td>\n",
              "      <td>0.408654</td>\n",
              "      <td>0.630537</td>\n",
              "      <td>0.382848</td>\n",
              "      <td>-0.110627</td>\n",
              "      <td>0.906539</td>\n",
              "      <td>-0.618206</td>\n",
              "      <td>-0.026364</td>\n",
              "      <td>0.104561</td>\n",
              "      <td>5.874931</td>\n",
              "    </tr>\n",
              "    <tr>\n",
              "      <th>2</th>\n",
              "      <td>11.340380</td>\n",
              "      <td>1.106176</td>\n",
              "      <td>0.148096</td>\n",
              "      <td>0.424489</td>\n",
              "      <td>1.282916</td>\n",
              "      <td>-0.080275</td>\n",
              "      <td>0.146526</td>\n",
              "      <td>-0.007108</td>\n",
              "      <td>0.114953</td>\n",
              "      <td>-0.004731</td>\n",
              "      <td>...</td>\n",
              "      <td>-0.148073</td>\n",
              "      <td>-0.042488</td>\n",
              "      <td>0.071593</td>\n",
              "      <td>-0.085294</td>\n",
              "      <td>0.032780</td>\n",
              "      <td>0.637894</td>\n",
              "      <td>-0.331179</td>\n",
              "      <td>0.036130</td>\n",
              "      <td>0.007639</td>\n",
              "      <td>2.866193</td>\n",
              "    </tr>\n",
              "    <tr>\n",
              "      <th>3</th>\n",
              "      <td>11.321208</td>\n",
              "      <td>-1.791995</td>\n",
              "      <td>1.102738</td>\n",
              "      <td>0.324217</td>\n",
              "      <td>1.082267</td>\n",
              "      <td>-0.303348</td>\n",
              "      <td>-1.050303</td>\n",
              "      <td>0.066270</td>\n",
              "      <td>0.613586</td>\n",
              "      <td>-0.720545</td>\n",
              "      <td>...</td>\n",
              "      <td>-0.285331</td>\n",
              "      <td>0.151935</td>\n",
              "      <td>0.514245</td>\n",
              "      <td>0.290932</td>\n",
              "      <td>0.403345</td>\n",
              "      <td>-0.064118</td>\n",
              "      <td>-0.318054</td>\n",
              "      <td>0.021940</td>\n",
              "      <td>0.013401</td>\n",
              "      <td>3.432373</td>\n",
              "    </tr>\n",
              "    <tr>\n",
              "      <th>4</th>\n",
              "      <td>11.956784</td>\n",
              "      <td>1.924286</td>\n",
              "      <td>0.324362</td>\n",
              "      <td>-0.734639</td>\n",
              "      <td>3.370481</td>\n",
              "      <td>0.783552</td>\n",
              "      <td>1.224944</td>\n",
              "      <td>-0.298881</td>\n",
              "      <td>0.291717</td>\n",
              "      <td>-0.790152</td>\n",
              "      <td>...</td>\n",
              "      <td>-0.227395</td>\n",
              "      <td>-0.022543</td>\n",
              "      <td>-0.115448</td>\n",
              "      <td>0.143200</td>\n",
              "      <td>-0.357497</td>\n",
              "      <td>-0.109288</td>\n",
              "      <td>-0.105516</td>\n",
              "      <td>-0.025440</td>\n",
              "      <td>-0.050761</td>\n",
              "      <td>2.572612</td>\n",
              "    </tr>\n",
              "  </tbody>\n",
              "</table>\n",
              "<p>5 rows × 30 columns</p>\n",
              "</div>\n",
              "    <div class=\"colab-df-buttons\">\n",
              "\n",
              "  <div class=\"colab-df-container\">\n",
              "    <button class=\"colab-df-convert\" onclick=\"convertToInteractive('df-a73f0257-b2ea-48ba-bfc1-6b46d9161147')\"\n",
              "            title=\"Convert this dataframe to an interactive table.\"\n",
              "            style=\"display:none;\">\n",
              "\n",
              "  <svg xmlns=\"http://www.w3.org/2000/svg\" height=\"24px\" viewBox=\"0 -960 960 960\">\n",
              "    <path d=\"M120-120v-720h720v720H120Zm60-500h600v-160H180v160Zm220 220h160v-160H400v160Zm0 220h160v-160H400v160ZM180-400h160v-160H180v160Zm440 0h160v-160H620v160ZM180-180h160v-160H180v160Zm440 0h160v-160H620v160Z\"/>\n",
              "  </svg>\n",
              "    </button>\n",
              "\n",
              "  <style>\n",
              "    .colab-df-container {\n",
              "      display:flex;\n",
              "      gap: 12px;\n",
              "    }\n",
              "\n",
              "    .colab-df-convert {\n",
              "      background-color: #E8F0FE;\n",
              "      border: none;\n",
              "      border-radius: 50%;\n",
              "      cursor: pointer;\n",
              "      display: none;\n",
              "      fill: #1967D2;\n",
              "      height: 32px;\n",
              "      padding: 0 0 0 0;\n",
              "      width: 32px;\n",
              "    }\n",
              "\n",
              "    .colab-df-convert:hover {\n",
              "      background-color: #E2EBFA;\n",
              "      box-shadow: 0px 1px 2px rgba(60, 64, 67, 0.3), 0px 1px 3px 1px rgba(60, 64, 67, 0.15);\n",
              "      fill: #174EA6;\n",
              "    }\n",
              "\n",
              "    .colab-df-buttons div {\n",
              "      margin-bottom: 4px;\n",
              "    }\n",
              "\n",
              "    [theme=dark] .colab-df-convert {\n",
              "      background-color: #3B4455;\n",
              "      fill: #D2E3FC;\n",
              "    }\n",
              "\n",
              "    [theme=dark] .colab-df-convert:hover {\n",
              "      background-color: #434B5C;\n",
              "      box-shadow: 0px 1px 3px 1px rgba(0, 0, 0, 0.15);\n",
              "      filter: drop-shadow(0px 1px 2px rgba(0, 0, 0, 0.3));\n",
              "      fill: #FFFFFF;\n",
              "    }\n",
              "  </style>\n",
              "\n",
              "    <script>\n",
              "      const buttonEl =\n",
              "        document.querySelector('#df-a73f0257-b2ea-48ba-bfc1-6b46d9161147 button.colab-df-convert');\n",
              "      buttonEl.style.display =\n",
              "        google.colab.kernel.accessAllowed ? 'block' : 'none';\n",
              "\n",
              "      async function convertToInteractive(key) {\n",
              "        const element = document.querySelector('#df-a73f0257-b2ea-48ba-bfc1-6b46d9161147');\n",
              "        const dataTable =\n",
              "          await google.colab.kernel.invokeFunction('convertToInteractive',\n",
              "                                                    [key], {});\n",
              "        if (!dataTable) return;\n",
              "\n",
              "        const docLinkHtml = 'Like what you see? Visit the ' +\n",
              "          '<a target=\"_blank\" href=https://colab.research.google.com/notebooks/data_table.ipynb>data table notebook</a>'\n",
              "          + ' to learn more about interactive tables.';\n",
              "        element.innerHTML = '';\n",
              "        dataTable['output_type'] = 'display_data';\n",
              "        await google.colab.output.renderOutput(dataTable, element);\n",
              "        const docLink = document.createElement('div');\n",
              "        docLink.innerHTML = docLinkHtml;\n",
              "        element.appendChild(docLink);\n",
              "      }\n",
              "    </script>\n",
              "  </div>\n",
              "\n",
              "\n",
              "<div id=\"df-c892a366-1592-4e7b-a227-a98df9ff7a60\">\n",
              "  <button class=\"colab-df-quickchart\" onclick=\"quickchart('df-c892a366-1592-4e7b-a227-a98df9ff7a60')\"\n",
              "            title=\"Suggest charts\"\n",
              "            style=\"display:none;\">\n",
              "\n",
              "<svg xmlns=\"http://www.w3.org/2000/svg\" height=\"24px\"viewBox=\"0 0 24 24\"\n",
              "     width=\"24px\">\n",
              "    <g>\n",
              "        <path d=\"M19 3H5c-1.1 0-2 .9-2 2v14c0 1.1.9 2 2 2h14c1.1 0 2-.9 2-2V5c0-1.1-.9-2-2-2zM9 17H7v-7h2v7zm4 0h-2V7h2v10zm4 0h-2v-4h2v4z\"/>\n",
              "    </g>\n",
              "</svg>\n",
              "  </button>\n",
              "\n",
              "<style>\n",
              "  .colab-df-quickchart {\n",
              "      --bg-color: #E8F0FE;\n",
              "      --fill-color: #1967D2;\n",
              "      --hover-bg-color: #E2EBFA;\n",
              "      --hover-fill-color: #174EA6;\n",
              "      --disabled-fill-color: #AAA;\n",
              "      --disabled-bg-color: #DDD;\n",
              "  }\n",
              "\n",
              "  [theme=dark] .colab-df-quickchart {\n",
              "      --bg-color: #3B4455;\n",
              "      --fill-color: #D2E3FC;\n",
              "      --hover-bg-color: #434B5C;\n",
              "      --hover-fill-color: #FFFFFF;\n",
              "      --disabled-bg-color: #3B4455;\n",
              "      --disabled-fill-color: #666;\n",
              "  }\n",
              "\n",
              "  .colab-df-quickchart {\n",
              "    background-color: var(--bg-color);\n",
              "    border: none;\n",
              "    border-radius: 50%;\n",
              "    cursor: pointer;\n",
              "    display: none;\n",
              "    fill: var(--fill-color);\n",
              "    height: 32px;\n",
              "    padding: 0;\n",
              "    width: 32px;\n",
              "  }\n",
              "\n",
              "  .colab-df-quickchart:hover {\n",
              "    background-color: var(--hover-bg-color);\n",
              "    box-shadow: 0 1px 2px rgba(60, 64, 67, 0.3), 0 1px 3px 1px rgba(60, 64, 67, 0.15);\n",
              "    fill: var(--button-hover-fill-color);\n",
              "  }\n",
              "\n",
              "  .colab-df-quickchart-complete:disabled,\n",
              "  .colab-df-quickchart-complete:disabled:hover {\n",
              "    background-color: var(--disabled-bg-color);\n",
              "    fill: var(--disabled-fill-color);\n",
              "    box-shadow: none;\n",
              "  }\n",
              "\n",
              "  .colab-df-spinner {\n",
              "    border: 2px solid var(--fill-color);\n",
              "    border-color: transparent;\n",
              "    border-bottom-color: var(--fill-color);\n",
              "    animation:\n",
              "      spin 1s steps(1) infinite;\n",
              "  }\n",
              "\n",
              "  @keyframes spin {\n",
              "    0% {\n",
              "      border-color: transparent;\n",
              "      border-bottom-color: var(--fill-color);\n",
              "      border-left-color: var(--fill-color);\n",
              "    }\n",
              "    20% {\n",
              "      border-color: transparent;\n",
              "      border-left-color: var(--fill-color);\n",
              "      border-top-color: var(--fill-color);\n",
              "    }\n",
              "    30% {\n",
              "      border-color: transparent;\n",
              "      border-left-color: var(--fill-color);\n",
              "      border-top-color: var(--fill-color);\n",
              "      border-right-color: var(--fill-color);\n",
              "    }\n",
              "    40% {\n",
              "      border-color: transparent;\n",
              "      border-right-color: var(--fill-color);\n",
              "      border-top-color: var(--fill-color);\n",
              "    }\n",
              "    60% {\n",
              "      border-color: transparent;\n",
              "      border-right-color: var(--fill-color);\n",
              "    }\n",
              "    80% {\n",
              "      border-color: transparent;\n",
              "      border-right-color: var(--fill-color);\n",
              "      border-bottom-color: var(--fill-color);\n",
              "    }\n",
              "    90% {\n",
              "      border-color: transparent;\n",
              "      border-bottom-color: var(--fill-color);\n",
              "    }\n",
              "  }\n",
              "</style>\n",
              "\n",
              "  <script>\n",
              "    async function quickchart(key) {\n",
              "      const quickchartButtonEl =\n",
              "        document.querySelector('#' + key + ' button');\n",
              "      quickchartButtonEl.disabled = true;  // To prevent multiple clicks.\n",
              "      quickchartButtonEl.classList.add('colab-df-spinner');\n",
              "      try {\n",
              "        const charts = await google.colab.kernel.invokeFunction(\n",
              "            'suggestCharts', [key], {});\n",
              "      } catch (error) {\n",
              "        console.error('Error during call to suggestCharts:', error);\n",
              "      }\n",
              "      quickchartButtonEl.classList.remove('colab-df-spinner');\n",
              "      quickchartButtonEl.classList.add('colab-df-quickchart-complete');\n",
              "    }\n",
              "    (() => {\n",
              "      let quickchartButtonEl =\n",
              "        document.querySelector('#df-c892a366-1592-4e7b-a227-a98df9ff7a60 button');\n",
              "      quickchartButtonEl.style.display =\n",
              "        google.colab.kernel.accessAllowed ? 'block' : 'none';\n",
              "    })();\n",
              "  </script>\n",
              "</div>\n",
              "    </div>\n",
              "  </div>\n"
            ],
            "application/vnd.google.colaboratory.intrinsic+json": {
              "type": "dataframe",
              "variable_name": "valFeatures"
            }
          },
          "metadata": {},
          "execution_count": 25
        }
      ]
    },
    {
      "cell_type": "code",
      "source": [
        "validation['Class'].value_counts()"
      ],
      "metadata": {
        "colab": {
          "base_uri": "https://localhost:8080/"
        },
        "id": "E7-0hnSvTmJl",
        "outputId": "d2c854c3-383c-49f9-8359-13b4a030916a"
      },
      "execution_count": 26,
      "outputs": [
        {
          "output_type": "execute_result",
          "data": {
            "text/plain": [
              "Class\n",
              "0    28431\n",
              "1      246\n",
              "Name: count, dtype: int64"
            ]
          },
          "metadata": {},
          "execution_count": 26
        }
      ]
    },
    {
      "cell_type": "code",
      "source": [
        "test['Class'].value_counts()"
      ],
      "metadata": {
        "colab": {
          "base_uri": "https://localhost:8080/"
        },
        "id": "BhXrSpk8Tukt",
        "outputId": "b2829c71-27f4-4c2d-9ca3-9f9a18706fd1"
      },
      "execution_count": 27,
      "outputs": [
        {
          "output_type": "execute_result",
          "data": {
            "text/plain": [
              "Class\n",
              "0    28432\n",
              "1      246\n",
              "Name: count, dtype: int64"
            ]
          },
          "metadata": {},
          "execution_count": 27
        }
      ]
    },
    {
      "cell_type": "code",
      "source": [
        "plt.figure()\n",
        "plt.title(\"train data of V1 and V2\")\n",
        "plt.xlabel(\"V1\")\n",
        "plt.ylabel(\"V2\")\n",
        "plt.plot(train.iloc[:, 1],train.iloc[:,2],\"bx\")\n",
        "plt.show()"
      ],
      "metadata": {
        "colab": {
          "base_uri": "https://localhost:8080/",
          "height": 472
        },
        "id": "hoykWcwoVJuu",
        "outputId": "386911b3-4f24-4b96-fb87-04c842b8f2c9"
      },
      "execution_count": 28,
      "outputs": [
        {
          "output_type": "display_data",
          "data": {
            "text/plain": [
              "<Figure size 640x480 with 1 Axes>"
            ],
            "image/png": "[encoded data removed]"
          },
          "metadata": {}
        }
      ]
    },
    {
      "cell_type": "code",
      "source": [
        "plt.figure()\n",
        "plt.title(\"validation data of V1 and V2\")\n",
        "plt.xlabel(\"V1\")\n",
        "plt.ylabel(\"V2\")\n",
        "plt.plot(validation.iloc[:, 1],validation.iloc[:,2],\"bx\")\n",
        "plt.show()"
      ],
      "metadata": {
        "colab": {
          "base_uri": "https://localhost:8080/",
          "height": 472
        },
        "id": "QAQel-toVlY9",
        "outputId": "208910ba-d403-4dcd-d999-db012abce443"
      },
      "execution_count": 29,
      "outputs": [
        {
          "output_type": "display_data",
          "data": {
            "text/plain": [
              "<Figure size 640x480 with 1 Axes>"
            ],
            "image/png": "[encoded data removed]"
          },
          "metadata": {}
        }
      ]
    },
    {
      "cell_type": "code",
      "source": [
        "plt.figure()\n",
        "plt.title(\"test data of V1 and V2\")\n",
        "plt.xlabel(\"V1\")\n",
        "plt.ylabel(\"V2\")\n",
        "plt.plot(test.iloc[:, 1],test.iloc[:,2],\"bx\")\n",
        "plt.show()"
      ],
      "metadata": {
        "colab": {
          "base_uri": "https://localhost:8080/",
          "height": 472
        },
        "id": "sy_q_zR1XBrt",
        "outputId": "71cf1bd9-ca4e-4cd0-afc0-2ddc18d2a96f"
      },
      "execution_count": 30,
      "outputs": [
        {
          "output_type": "display_data",
          "data": {
            "text/plain": [
              "<Figure size 640x480 with 1 Axes>"
            ],
            "image/png": "[encoded data removed]"
          },
          "metadata": {}
        }
      ]
    },
    {
      "cell_type": "code",
      "source": [
        "np.arange(1,20,2)"
      ],
      "metadata": {
        "colab": {
          "base_uri": "https://localhost:8080/"
        },
        "id": "Ov3f7J9IXMSP",
        "outputId": "5aba593c-31a5-4392-ea2b-6511e24353f6"
      },
      "execution_count": 31,
      "outputs": [
        {
          "output_type": "execute_result",
          "data": {
            "text/plain": [
              "array([ 1,  3,  5,  7,  9, 11, 13, 15, 17, 19])"
            ]
          },
          "metadata": {},
          "execution_count": 31
        }
      ]
    },
    {
      "cell_type": "code",
      "source": [
        "def estimateGaussian(dataset):\n",
        "  mu = np.mean(dataset,axis = 0)\n",
        "  sigma = np.cov(dataset.T)\n",
        "  return mu,sigma"
      ],
      "metadata": {
        "id": "yBBUh2WJX13J"
      },
      "execution_count": 32,
      "outputs": []
    },
    {
      "cell_type": "code",
      "source": [
        "np.linspace(1,21,10,endpoint = False)"
      ],
      "metadata": {
        "colab": {
          "base_uri": "https://localhost:8080/"
        },
        "id": "4xWVXBSUXTW1",
        "outputId": "3c81ebbd-3242-48aa-a88c-65b7bb8692a4"
      },
      "execution_count": 34,
      "outputs": [
        {
          "output_type": "execute_result",
          "data": {
            "text/plain": [
              "array([ 1.,  3.,  5.,  7.,  9., 11., 13., 15., 17., 19.])"
            ]
          },
          "metadata": {},
          "execution_count": 34
        }
      ]
    },
    {
      "cell_type": "code",
      "source": [
        "mu,sigma = estimateGaussian(train)\n",
        "model = multivariate_normal(mean = mu,cov = sigma,allow_singular = True)"
      ],
      "metadata": {
        "id": "YmnZJcksab6O"
      },
      "execution_count": 35,
      "outputs": []
    },
    {
      "cell_type": "code",
      "source": [
        "pdfVal = model.pdf(valFeatures)\n",
        "print(max(pdfVal))\n",
        "print(min(pdfVal))\n",
        "\n",
        "p_val = model.logpdf(valFeatures)\n",
        "print(max(p_val))\n",
        "print(min(p_val))"
      ],
      "metadata": {
        "colab": {
          "base_uri": "https://localhost:8080/"
        },
        "id": "XfzVhRRPawwW",
        "outputId": "d19a4ab4-4a85-4fbf-a9bd-3be953652af2"
      },
      "execution_count": 36,
      "outputs": [
        {
          "output_type": "stream",
          "name": "stdout",
          "text": [
            "3.936022689245927e-12\n",
            "0.0\n",
            "-26.260850372210967\n",
            "-7554.270217704669\n"
          ]
        }
      ]
    },
    {
      "cell_type": "code",
      "source": [
        "p = model.logpdf(train)\n",
        "print(p.shape)\n",
        "print((p_val.shape))"
      ],
      "metadata": {
        "colab": {
          "base_uri": "https://localhost:8080/"
        },
        "id": "d5UiH9zjbcJL",
        "outputId": "a0be3ec4-f042-4b4d-cff6-90a810cb75fa"
      },
      "execution_count": 37,
      "outputs": [
        {
          "output_type": "stream",
          "name": "stdout",
          "text": [
            "(227452,)\n",
            "(28677,)\n"
          ]
        }
      ]
    },
    {
      "cell_type": "code",
      "source": [
        "print(p_val)\n",
        "print(p_val < -500)"
      ],
      "metadata": {
        "colab": {
          "base_uri": "https://localhost:8080/"
        },
        "id": "srqTV9d8b9le",
        "outputId": "13d32985-6785-4a87-bf06-a76875d031b6"
      },
      "execution_count": 38,
      "outputs": [
        {
          "output_type": "stream",
          "name": "stdout",
          "text": [
            "[  -31.28574735   -34.94205051   -27.79402451 ... -5175.93656039\n",
            " -4545.5057626    -29.7152192 ]\n",
            "[False False False ...  True  True False]\n"
          ]
        }
      ]
    },
    {
      "cell_type": "code",
      "source": [
        "[[1],[2],[3]]"
      ],
      "metadata": {
        "colab": {
          "base_uri": "https://localhost:8080/"
        },
        "id": "HynONHbtcGDo",
        "outputId": "8fbeadb7-a888-4d14-9c32-2a87d55dd470"
      },
      "execution_count": 39,
      "outputs": [
        {
          "output_type": "execute_result",
          "data": {
            "text/plain": [
              "[[1], [2], [3]]"
            ]
          },
          "metadata": {},
          "execution_count": 39
        }
      ]
    },
    {
      "cell_type": "code",
      "source": [
        "scores = []\n",
        "p_val = model.logpdf(valFeatures)\n",
        "thresholds = np.linspace(min(p_val),max(p_val),200)\n",
        "\n",
        "for threshold in thresholds:\n",
        "  y_pred = (p_val<threshold).astype(int)\n",
        "  scores.append([recall_score(valLabel, y_pred),\n",
        "                precision_score(valLabel, y_pred),\n",
        "                f1_score(valLabel, y_pred, average = \"binary\")])\n",
        "\n",
        "scores = np.array(scores)\n",
        "maxIndex = scores[...,2].ravel().argmax()#maxIndex of the 3rd column (f1_score) #193, #.ravel return a flattened array\n",
        "bestThreshold = thresholds[maxIndex]\n",
        "print(scores.shape)#each row is a pair of (recall, precision, f1) corresponding to a threshold"
      ],
      "metadata": {
        "colab": {
          "base_uri": "https://localhost:8080/"
        },
        "id": "uLu-k53Idq51",
        "outputId": "ad69933e-5101-413a-9898-c52bf404faea"
      },
      "execution_count": 40,
      "outputs": [
        {
          "output_type": "stream",
          "name": "stderr",
          "text": [
            "/usr/local/lib/python3.10/dist-packages/sklearn/metrics/_classification.py:1344: UndefinedMetricWarning: Precision is ill-defined and being set to 0.0 due to no predicted samples. Use `zero_division` parameter to control this behavior.\n",
            "  _warn_prf(average, modifier, msg_start, len(result))\n"
          ]
        },
        {
          "output_type": "stream",
          "name": "stdout",
          "text": [
            "(200, 3)\n"
          ]
        }
      ]
    },
    {
      "cell_type": "code",
      "source": [
        "print(scores)"
      ],
      "metadata": {
        "colab": {
          "base_uri": "https://localhost:8080/"
        },
        "id": "IZ5DZaRAeBIb",
        "outputId": "474c7ea6-6a39-493a-f853-021b58655b23"
      },
      "execution_count": 41,
      "outputs": [
        {
          "output_type": "stream",
          "name": "stdout",
          "text": [
            "[[0.         0.         0.        ]\n",
            " [0.00406504 1.         0.00809717]\n",
            " [0.00406504 1.         0.00809717]\n",
            " [0.00406504 1.         0.00809717]\n",
            " [0.00406504 1.         0.00809717]\n",
            " [0.00406504 1.         0.00809717]\n",
            " [0.00406504 1.         0.00809717]\n",
            " [0.00406504 1.         0.00809717]\n",
            " [0.00406504 1.         0.00809717]\n",
            " [0.00406504 1.         0.00809717]\n",
            " [0.00406504 1.         0.00809717]\n",
            " [0.00406504 1.         0.00809717]\n",
            " [0.00406504 1.         0.00809717]\n",
            " [0.00406504 1.         0.00809717]\n",
            " [0.00406504 1.         0.00809717]\n",
            " [0.00406504 1.         0.00809717]\n",
            " [0.00406504 1.         0.00809717]\n",
            " [0.00406504 1.         0.00809717]\n",
            " [0.00406504 1.         0.00809717]\n",
            " [0.00406504 1.         0.00809717]\n",
            " [0.00406504 1.         0.00809717]\n",
            " [0.00406504 1.         0.00809717]\n",
            " [0.00406504 1.         0.00809717]\n",
            " [0.00813008 1.         0.01612903]\n",
            " [0.00813008 1.         0.01612903]\n",
            " [0.00813008 1.         0.01612903]\n",
            " [0.00813008 1.         0.01612903]\n",
            " [0.00813008 1.         0.01612903]\n",
            " [0.00813008 1.         0.01612903]\n",
            " [0.00813008 1.         0.01612903]\n",
            " [0.00813008 1.         0.01612903]\n",
            " [0.00813008 1.         0.01612903]\n",
            " [0.00813008 1.         0.01612903]\n",
            " [0.00813008 1.         0.01612903]\n",
            " [0.00813008 1.         0.01612903]\n",
            " [0.01219512 1.         0.02409639]\n",
            " [0.01219512 1.         0.02409639]\n",
            " [0.01219512 1.         0.02409639]\n",
            " [0.01219512 1.         0.02409639]\n",
            " [0.01219512 1.         0.02409639]\n",
            " [0.01219512 1.         0.02409639]\n",
            " [0.01626016 1.         0.032     ]\n",
            " [0.01626016 1.         0.032     ]\n",
            " [0.01626016 1.         0.032     ]\n",
            " [0.01626016 1.         0.032     ]\n",
            " [0.01626016 1.         0.032     ]\n",
            " [0.01626016 1.         0.032     ]\n",
            " [0.01626016 1.         0.032     ]\n",
            " [0.01626016 1.         0.032     ]\n",
            " [0.01626016 1.         0.032     ]\n",
            " [0.0203252  1.         0.03984064]\n",
            " [0.0203252  1.         0.03984064]\n",
            " [0.0203252  1.         0.03984064]\n",
            " [0.0203252  1.         0.03984064]\n",
            " [0.0203252  1.         0.03984064]\n",
            " [0.0203252  1.         0.03984064]\n",
            " [0.02439024 1.         0.04761905]\n",
            " [0.02845528 1.         0.05533597]\n",
            " [0.03658537 1.         0.07058824]\n",
            " [0.04471545 1.         0.08560311]\n",
            " [0.04471545 1.         0.08560311]\n",
            " [0.04471545 1.         0.08560311]\n",
            " [0.05284553 1.         0.1003861 ]\n",
            " [0.09756098 1.         0.17777778]\n",
            " [0.12601626 1.         0.22382671]\n",
            " [0.1300813  1.         0.23021583]\n",
            " [0.1300813  1.         0.23021583]\n",
            " [0.1300813  1.         0.23021583]\n",
            " [0.1300813  1.         0.23021583]\n",
            " [0.1300813  1.         0.23021583]\n",
            " [0.1300813  1.         0.23021583]\n",
            " [0.1300813  1.         0.23021583]\n",
            " [0.1300813  1.         0.23021583]\n",
            " [0.1300813  1.         0.23021583]\n",
            " [0.1300813  1.         0.23021583]\n",
            " [0.1300813  1.         0.23021583]\n",
            " [0.1300813  1.         0.23021583]\n",
            " [0.1300813  1.         0.23021583]\n",
            " [0.1300813  1.         0.23021583]\n",
            " [0.13414634 1.         0.23655914]\n",
            " [0.15853659 1.         0.27368421]\n",
            " [0.17479675 1.         0.29757785]\n",
            " [0.17479675 1.         0.29757785]\n",
            " [0.17479675 1.         0.29757785]\n",
            " [0.17479675 1.         0.29757785]\n",
            " [0.17479675 1.         0.29757785]\n",
            " [0.17479675 1.         0.29757785]\n",
            " [0.17479675 1.         0.29757785]\n",
            " [0.17479675 1.         0.29757785]\n",
            " [0.17479675 1.         0.29757785]\n",
            " [0.17479675 1.         0.29757785]\n",
            " [0.17479675 1.         0.29757785]\n",
            " [0.17479675 1.         0.29757785]\n",
            " [0.17479675 1.         0.29757785]\n",
            " [0.17479675 1.         0.29757785]\n",
            " [0.17479675 1.         0.29757785]\n",
            " [0.17479675 1.         0.29757785]\n",
            " [0.17886179 1.         0.30344828]\n",
            " [0.18292683 1.         0.30927835]\n",
            " [0.18699187 1.         0.31506849]\n",
            " [0.18699187 1.         0.31506849]\n",
            " [0.19512195 1.         0.32653061]\n",
            " [0.19918699 1.         0.33220339]\n",
            " [0.20325203 1.         0.33783784]\n",
            " [0.20731707 1.         0.34343434]\n",
            " [0.21544715 1.         0.35451505]\n",
            " [0.21544715 1.         0.35451505]\n",
            " [0.21544715 1.         0.35451505]\n",
            " [0.21544715 1.         0.35451505]\n",
            " [0.21544715 1.         0.35451505]\n",
            " [0.21544715 1.         0.35451505]\n",
            " [0.21544715 1.         0.35451505]\n",
            " [0.21544715 1.         0.35451505]\n",
            " [0.21544715 1.         0.35451505]\n",
            " [0.21544715 1.         0.35451505]\n",
            " [0.21544715 1.         0.35451505]\n",
            " [0.21544715 1.         0.35451505]\n",
            " [0.21544715 1.         0.35451505]\n",
            " [0.21544715 1.         0.35451505]\n",
            " [0.21544715 1.         0.35451505]\n",
            " [0.21544715 1.         0.35451505]\n",
            " [0.21544715 1.         0.35451505]\n",
            " [0.21544715 1.         0.35451505]\n",
            " [0.22764228 1.         0.37086093]\n",
            " [0.22764228 1.         0.37086093]\n",
            " [0.22764228 1.         0.37086093]\n",
            " [0.22764228 1.         0.37086093]\n",
            " [0.22764228 1.         0.37086093]\n",
            " [0.22764228 1.         0.37086093]\n",
            " [0.22764228 1.         0.37086093]\n",
            " [0.22764228 1.         0.37086093]\n",
            " [0.22764228 1.         0.37086093]\n",
            " [0.22764228 1.         0.37086093]\n",
            " [0.22764228 1.         0.37086093]\n",
            " [0.22764228 1.         0.37086093]\n",
            " [0.22764228 1.         0.37086093]\n",
            " [0.22764228 1.         0.37086093]\n",
            " [0.22764228 1.         0.37086093]\n",
            " [0.22764228 1.         0.37086093]\n",
            " [0.22764228 1.         0.37086093]\n",
            " [0.22764228 1.         0.37086093]\n",
            " [0.22764228 1.         0.37086093]\n",
            " [0.22764228 1.         0.37086093]\n",
            " [0.22764228 1.         0.37086093]\n",
            " [0.22764228 1.         0.37086093]\n",
            " [0.25203252 1.         0.4025974 ]\n",
            " [0.27642276 1.         0.43312102]\n",
            " [0.27642276 1.         0.43312102]\n",
            " [0.27642276 1.         0.43312102]\n",
            " [0.27642276 1.         0.43312102]\n",
            " [0.27642276 1.         0.43312102]\n",
            " [0.28861789 0.98611111 0.44654088]\n",
            " [0.28861789 0.98611111 0.44654088]\n",
            " [0.28861789 0.95945946 0.44375   ]\n",
            " [0.29268293 0.94736842 0.44720497]\n",
            " [0.31300813 0.95061728 0.47094801]\n",
            " [0.31300813 0.93902439 0.4695122 ]\n",
            " [0.31300813 0.93902439 0.4695122 ]\n",
            " [0.31300813 0.93902439 0.4695122 ]\n",
            " [0.31300813 0.93902439 0.4695122 ]\n",
            " [0.31300813 0.93902439 0.4695122 ]\n",
            " [0.31300813 0.93902439 0.4695122 ]\n",
            " [0.31707317 0.93975904 0.47416413]\n",
            " [0.33333333 0.94252874 0.49249249]\n",
            " [0.33739837 0.94318182 0.49700599]\n",
            " [0.33739837 0.94318182 0.49700599]\n",
            " [0.3495935  0.93478261 0.50887574]\n",
            " [0.3495935  0.93478261 0.50887574]\n",
            " [0.3495935  0.93478261 0.50887574]\n",
            " [0.35365854 0.93548387 0.51327434]\n",
            " [0.37804878 0.93939394 0.53913043]\n",
            " [0.37804878 0.93939394 0.53913043]\n",
            " [0.37804878 0.93939394 0.53913043]\n",
            " [0.37804878 0.93939394 0.53913043]\n",
            " [0.37804878 0.93939394 0.53913043]\n",
            " [0.3902439  0.94117647 0.55172414]\n",
            " [0.41463415 0.94444444 0.57627119]\n",
            " [0.44308943 0.92372881 0.5989011 ]\n",
            " [0.44715447 0.92436975 0.60273973]\n",
            " [0.44715447 0.89430894 0.59620596]\n",
            " [0.44715447 0.88709677 0.59459459]\n",
            " [0.46747967 0.8778626  0.61007958]\n",
            " [0.50406504 0.87943262 0.64082687]\n",
            " [0.51219512 0.85714286 0.64122137]\n",
            " [0.52439024 0.84313725 0.64661654]\n",
            " [0.52439024 0.83766234 0.645     ]\n",
            " [0.54065041 0.83647799 0.65679012]\n",
            " [0.54878049 0.82317073 0.65853659]\n",
            " [0.55691057 0.82035928 0.66343826]\n",
            " [0.58130081 0.8079096  0.67612293]\n",
            " [0.61788618 0.75621891 0.68008949]\n",
            " [0.71138211 0.75431034 0.73221757]\n",
            " [0.72764228 0.72764228 0.72764228]\n",
            " [0.78861789 0.7080292  0.74615385]\n",
            " [0.78861789 0.62580645 0.69784173]\n",
            " [0.80894309 0.57183908 0.67003367]\n",
            " [0.82113821 0.45190157 0.58297258]\n",
            " [0.84146341 0.34214876 0.48648649]\n",
            " [0.85365854 0.19337017 0.31531532]\n",
            " [1.         0.0085786  0.01701127]]\n"
          ]
        }
      ]
    },
    {
      "cell_type": "code",
      "source": [
        "print(maxIndex)\n",
        "print(bestThreshold)"
      ],
      "metadata": {
        "colab": {
          "base_uri": "https://localhost:8080/"
        },
        "id": "4AbWPq3Keq7E",
        "outputId": "47aecfa1-58a5-49f2-80e8-ad3e01c7192a"
      },
      "execution_count": 42,
      "outputs": [
        {
          "output_type": "stream",
          "name": "stdout",
          "text": [
            "193\n",
            "-253.23600717620593\n"
          ]
        }
      ]
    },
    {
      "cell_type": "code",
      "source": [
        "np.mean(train.iloc[:,1])"
      ],
      "metadata": {
        "colab": {
          "base_uri": "https://localhost:8080/"
        },
        "id": "7ruRmznfex9Y",
        "outputId": "5ecf1d15-9ffb-4b29-b14f-fe1be4a72752"
      },
      "execution_count": 43,
      "outputs": [
        {
          "output_type": "execute_result",
          "data": {
            "text/plain": [
              "0.00524675542006222"
            ]
          },
          "metadata": {},
          "execution_count": 43
        }
      ]
    },
    {
      "cell_type": "code",
      "source": [
        "mu[1]"
      ],
      "metadata": {
        "colab": {
          "base_uri": "https://localhost:8080/"
        },
        "id": "wH4fPCHce5L0",
        "outputId": "713cf24e-8ef4-4914-ebbd-a918b83c1e5c"
      },
      "execution_count": 44,
      "outputs": [
        {
          "output_type": "execute_result",
          "data": {
            "text/plain": [
              "0.00524675542006222"
            ]
          },
          "metadata": {},
          "execution_count": 44
        }
      ]
    },
    {
      "cell_type": "code",
      "source": [
        "print(mu)"
      ],
      "metadata": {
        "colab": {
          "base_uri": "https://localhost:8080/"
        },
        "id": "M_ovv72Ae7S_",
        "outputId": "a6f96e16-6c07-4856-d909-4e6e5007bcf8"
      },
      "execution_count": 45,
      "outputs": [
        {
          "output_type": "stream",
          "name": "stdout",
          "text": [
            "Time      11.252384\n",
            "V1         0.005247\n",
            "V2        -0.005416\n",
            "V3         0.010293\n",
            "V4        -0.008144\n",
            "V5         0.004281\n",
            "V6         0.001813\n",
            "V7         0.010354\n",
            "V8        -0.001103\n",
            "V9         0.006351\n",
            "V10        0.009573\n",
            "V11       -0.007736\n",
            "V12        0.009943\n",
            "V13        0.001084\n",
            "V14        0.010816\n",
            "V15        0.001082\n",
            "V16        0.007216\n",
            "V17        0.012364\n",
            "V18        0.003412\n",
            "V19       -0.001811\n",
            "V20       -0.001092\n",
            "V21       -0.001302\n",
            "V22       -0.000354\n",
            "V23        0.000209\n",
            "V24        0.000288\n",
            "V25        0.000375\n",
            "V26        0.000457\n",
            "V27       -0.000509\n",
            "V28       -0.000119\n",
            "Amount     3.152259\n",
            "dtype: float64\n"
          ]
        }
      ]
    },
    {
      "cell_type": "code",
      "source": [
        "y_test_pred_raw = model.logpdf(testFeatures)\n",
        "y_pred_test = y_test_pred_raw < bestThreshold\n",
        "\n",
        "f1_score(testLabel, y_pred_test, average = \"binary\")"
      ],
      "metadata": {
        "colab": {
          "base_uri": "https://localhost:8080/"
        },
        "id": "SXMW0hl1foiP",
        "outputId": "503bd200-1f8d-44e5-9cf3-beb4432f0c5e"
      },
      "execution_count": 46,
      "outputs": [
        {
          "output_type": "execute_result",
          "data": {
            "text/plain": [
              "0.7401574803149606"
            ]
          },
          "metadata": {},
          "execution_count": 46
        }
      ]
    },
    {
      "cell_type": "code",
      "source": [
        "y_pred_test"
      ],
      "metadata": {
        "colab": {
          "base_uri": "https://localhost:8080/"
        },
        "id": "HUD9RG9mfucP",
        "outputId": "f0cf3143-8db2-406b-f019-42ca019db892"
      },
      "execution_count": 47,
      "outputs": [
        {
          "output_type": "execute_result",
          "data": {
            "text/plain": [
              "array([False, False, False, ...,  True, False,  True])"
            ]
          },
          "metadata": {},
          "execution_count": 47
        }
      ]
    },
    {
      "cell_type": "code",
      "source": [
        "predoutliersTest = np.asarray(np.where(y_pred_test))\n",
        "len(predoutliersTest[0])"
      ],
      "metadata": {
        "colab": {
          "base_uri": "https://localhost:8080/"
        },
        "id": "8KhTHUZdfxje",
        "outputId": "a5f242c8-7bf8-4677-e9a0-14beef427cb6"
      },
      "execution_count": 48,
      "outputs": [
        {
          "output_type": "execute_result",
          "data": {
            "text/plain": [
              "262"
            ]
          },
          "metadata": {},
          "execution_count": 48
        }
      ]
    },
    {
      "cell_type": "code",
      "source": [
        "predoutliersTest"
      ],
      "metadata": {
        "colab": {
          "base_uri": "https://localhost:8080/"
        },
        "id": "-SEkfXVDgQh3",
        "outputId": "ab2802a9-9b34-45ff-b279-e2f0a63ee736"
      },
      "execution_count": 49,
      "outputs": [
        {
          "output_type": "execute_result",
          "data": {
            "text/plain": [
              "array([[  248,   437,   605,  1007,  1353,  1451,  1462,  1546,  1988,\n",
              "         2461,  3674,  3928,  4216,  4928,  5144,  5846,  5975,  6022,\n",
              "         6682,  6706,  6858,  7017,  7138,  8267,  8452,  8611,  8677,\n",
              "         8936,  8996,  9207,  9443,  9807,  9988, 10263, 10391, 10657,\n",
              "        11224, 12205, 13539, 13935, 14050, 14573, 14579, 14802, 14869,\n",
              "        15740, 16061, 16888, 17322, 17663, 19352, 19902, 20680, 20800,\n",
              "        21748, 22366, 22552, 22859, 23217, 23456, 23742, 24639, 24819,\n",
              "        25654, 25678, 26035, 27282, 27293, 27314, 27587, 27723, 28117,\n",
              "        28178, 28396, 28432, 28433, 28434, 28435, 28436, 28437, 28438,\n",
              "        28440, 28443, 28444, 28445, 28446, 28447, 28449, 28450, 28453,\n",
              "        28454, 28455, 28456, 28457, 28458, 28459, 28460, 28461, 28462,\n",
              "        28463, 28464, 28465, 28466, 28467, 28468, 28469, 28470, 28471,\n",
              "        28472, 28473, 28475, 28479, 28480, 28481, 28482, 28483, 28484,\n",
              "        28486, 28487, 28490, 28492, 28493, 28494, 28496, 28497, 28498,\n",
              "        28499, 28500, 28501, 28502, 28503, 28505, 28506, 28507, 28508,\n",
              "        28510, 28511, 28512, 28513, 28517, 28521, 28523, 28525, 28526,\n",
              "        28527, 28528, 28529, 28530, 28531, 28532, 28536, 28538, 28539,\n",
              "        28540, 28542, 28543, 28544, 28546, 28547, 28549, 28550, 28551,\n",
              "        28552, 28553, 28554, 28555, 28556, 28558, 28559, 28560, 28561,\n",
              "        28562, 28564, 28565, 28566, 28567, 28568, 28570, 28572, 28574,\n",
              "        28575, 28576, 28577, 28578, 28579, 28580, 28581, 28583, 28584,\n",
              "        28585, 28586, 28588, 28589, 28591, 28592, 28594, 28596, 28598,\n",
              "        28599, 28600, 28601, 28602, 28603, 28604, 28605, 28606, 28607,\n",
              "        28609, 28610, 28612, 28615, 28617, 28618, 28619, 28620, 28621,\n",
              "        28622, 28623, 28625, 28626, 28628, 28629, 28630, 28631, 28632,\n",
              "        28633, 28636, 28637, 28638, 28639, 28640, 28641, 28642, 28643,\n",
              "        28645, 28646, 28647, 28648, 28649, 28650, 28651, 28652, 28653,\n",
              "        28654, 28656, 28657, 28658, 28659, 28660, 28661, 28662, 28663,\n",
              "        28664, 28666, 28669, 28670, 28671, 28672, 28673, 28674, 28675,\n",
              "        28677]])"
            ]
          },
          "metadata": {},
          "execution_count": 49
        }
      ]
    },
    {
      "cell_type": "code",
      "source": [
        "plt.figure()\n",
        "plt.title(\"test_data with outlier flaged red\")\n",
        "plt.xlabel(\"V2\")\n",
        "plt.ylabel(\"V3\")\n",
        "plt.plot(testFeatures.iloc[:, 2],testFeatures.iloc[:,3],\"bx\")\n",
        "plt.plot(testFeatures.iloc[predoutliersTest[0],1],testFeatures.iloc[predoutliersTest[0],2],\"ro\")\n",
        "plt.show()"
      ],
      "metadata": {
        "colab": {
          "base_uri": "https://localhost:8080/",
          "height": 472
        },
        "id": "oHYgWaGbgqpZ",
        "outputId": "37aad677-4146-4a31-c216-820c0f635a3a"
      },
      "execution_count": 50,
      "outputs": [
        {
          "output_type": "display_data",
          "data": {
            "text/plain": [
              "<Figure size 640x480 with 1 Axes>"
            ],
            "image/png": "[encoded data removed]"
          },
          "metadata": {}
        }
      ]
    },
    {
      "cell_type": "code",
      "source": [
        "print(\"%s: %r\" % (\"accuracy_score is: \", accuracy_score(testLabel, y_pred_test)))\n",
        "print(\"%s: %r\" % (\"roc_auc_score is: \", roc_auc_score(testLabel, y_test_pred_raw)))#correction: should be y_pred_test instead of y_test_pred_raw\n",
        "print(\"%s: %r\" % (\"f1_score is: \", f1_score(testLabel, y_pred_test )))#string to int\n",
        "\n",
        "print (\"confusion_matrix is: \")\n",
        "cm = confusion_matrix(testLabel, y_pred_test)\n",
        "cmDF = pd.DataFrame(cm, columns=['pred_0', 'pred_1'], index=['true_0', 'true_1'])\n",
        "print(cmDF)\n",
        "print('recall =',float(cm[1,1])/(cm[1,0]+cm[1,1]))\n",
        "print('precision =', float(cm[1,1])/(cm[1,1] + cm[0,1]))#1.0"
      ],
      "metadata": {
        "colab": {
          "base_uri": "https://localhost:8080/"
        },
        "id": "8B1krk9Vg4Bh",
        "outputId": "47344bc9-687b-4f4f-db64-745434a54327"
      },
      "execution_count": 51,
      "outputs": [
        {
          "output_type": "stream",
          "name": "stdout",
          "text": [
            "accuracy_score is: : 0.9953971685612665\n",
            "roc_auc_score is: : 0.03898289914947546\n",
            "f1_score is: : 0.7401574803149606\n",
            "confusion_matrix is: \n",
            "        pred_0  pred_1\n",
            "true_0   28358      74\n",
            "true_1      58     188\n",
            "recall = 0.7642276422764228\n",
            "precision = 0.7175572519083969\n"
          ]
        }
      ]
    },
    {
      "cell_type": "code",
      "source": [
        "IFModel = IsolationForest(random_state=0, contamination = 0.01, n_estimators = 200, max_features = 2).fit(train)\n",
        "IFModel#（isolate normal and inormal）"
      ],
      "metadata": {
        "colab": {
          "base_uri": "https://localhost:8080/",
          "height": 148
        },
        "id": "PIrhigQ9hIbF",
        "outputId": "57b99a01-472d-4e9e-b818-6524256ff09e"
      },
      "execution_count": 52,
      "outputs": [
        {
          "output_type": "stream",
          "name": "stderr",
          "text": [
            "/usr/local/lib/python3.10/dist-packages/sklearn/base.py:439: UserWarning: X does not have valid feature names, but IsolationForest was fitted with feature names\n",
            "  warnings.warn(\n"
          ]
        },
        {
          "output_type": "execute_result",
          "data": {
            "text/plain": [
              "IsolationForest(contamination=0.01, max_features=2, n_estimators=200,\n",
              "                random_state=0)"
            ],
            "text/html": [
              "<style>#sk-container-id-1 {color: black;background-color: white;}#sk-container-id-1 pre{padding: 0;}#sk-container-id-1 div.sk-toggleable {background-color: white;}#sk-container-id-1 label.sk-toggleable__label {cursor: pointer;display: block;width: 100%;margin-bottom: 0;padding: 0.3em;box-sizing: border-box;text-align: center;}#sk-container-id-1 label.sk-toggleable__label-arrow:before {content: \"▸\";float: left;margin-right: 0.25em;color: #696969;}#sk-container-id-1 label.sk-toggleable__label-arrow:hover:before {color: black;}#sk-container-id-1 div.sk-estimator:hover label.sk-toggleable__label-arrow:before {color: black;}#sk-container-id-1 div.sk-toggleable__content {max-height: 0;max-width: 0;overflow: hidden;text-align: left;background-color: #f0f8ff;}#sk-container-id-1 div.sk-toggleable__content pre {margin: 0.2em;color: black;border-radius: 0.25em;background-color: #f0f8ff;}#sk-container-id-1 input.sk-toggleable__control:checked~div.sk-toggleable__content {max-height: 200px;max-width: 100%;overflow: auto;}#sk-container-id-1 input.sk-toggleable__control:checked~label.sk-toggleable__label-arrow:before {content: \"▾\";}#sk-container-id-1 div.sk-estimator input.sk-toggleable__control:checked~label.sk-toggleable__label {background-color: #d4ebff;}#sk-container-id-1 div.sk-label input.sk-toggleable__control:checked~label.sk-toggleable__label {background-color: #d4ebff;}#sk-container-id-1 input.sk-hidden--visually {border: 0;clip: rect(1px 1px 1px 1px);clip: rect(1px, 1px, 1px, 1px);height: 1px;margin: -1px;overflow: hidden;padding: 0;position: absolute;width: 1px;}#sk-container-id-1 div.sk-estimator {font-family: monospace;background-color: #f0f8ff;border: 1px dotted black;border-radius: 0.25em;box-sizing: border-box;margin-bottom: 0.5em;}#sk-container-id-1 div.sk-estimator:hover {background-color: #d4ebff;}#sk-container-id-1 div.sk-parallel-item::after {content: \"\";width: 100%;border-bottom: 1px solid gray;flex-grow: 1;}#sk-container-id-1 div.sk-label:hover label.sk-toggleable__label {background-color: #d4ebff;}#sk-container-id-1 div.sk-serial::before {content: \"\";position: absolute;border-left: 1px solid gray;box-sizing: border-box;top: 0;bottom: 0;left: 50%;z-index: 0;}#sk-container-id-1 div.sk-serial {display: flex;flex-direction: column;align-items: center;background-color: white;padding-right: 0.2em;padding-left: 0.2em;position: relative;}#sk-container-id-1 div.sk-item {position: relative;z-index: 1;}#sk-container-id-1 div.sk-parallel {display: flex;align-items: stretch;justify-content: center;background-color: white;position: relative;}#sk-container-id-1 div.sk-item::before, #sk-container-id-1 div.sk-parallel-item::before {content: \"\";position: absolute;border-left: 1px solid gray;box-sizing: border-box;top: 0;bottom: 0;left: 50%;z-index: -1;}#sk-container-id-1 div.sk-parallel-item {display: flex;flex-direction: column;z-index: 1;position: relative;background-color: white;}#sk-container-id-1 div.sk-parallel-item:first-child::after {align-self: flex-end;width: 50%;}#sk-container-id-1 div.sk-parallel-item:last-child::after {align-self: flex-start;width: 50%;}#sk-container-id-1 div.sk-parallel-item:only-child::after {width: 0;}#sk-container-id-1 div.sk-dashed-wrapped {border: 1px dashed gray;margin: 0 0.4em 0.5em 0.4em;box-sizing: border-box;padding-bottom: 0.4em;background-color: white;}#sk-container-id-1 div.sk-label label {font-family: monospace;font-weight: bold;display: inline-block;line-height: 1.2em;}#sk-container-id-1 div.sk-label-container {text-align: center;}#sk-container-id-1 div.sk-container {/* jupyter's `normalize.less` sets `[hidden] { display: none; }` but bootstrap.min.css set `[hidden] { display: none !important; }` so we also need the `!important` here to be able to override the default hidden behavior on the sphinx rendered scikit-learn.org. See: https://github.com/scikit-learn/scikit-learn/issues/21755 */display: inline-block !important;position: relative;}#sk-container-id-1 div.sk-text-repr-fallback {display: none;}</style><div id=\"sk-container-id-1\" class=\"sk-top-container\"><div class=\"sk-text-repr-fallback\"><pre>IsolationForest(contamination=0.01, max_features=2, n_estimators=200,\n",
              "                random_state=0)</pre><b>In a Jupyter environment, please rerun this cell to show the HTML representation or trust the notebook. <br />On GitHub, the HTML representation is unable to render, please try loading this page with nbviewer.org.</b></div><div class=\"sk-container\" hidden><div class=\"sk-item\"><div class=\"sk-estimator sk-toggleable\"><input class=\"sk-toggleable__control sk-hidden--visually\" id=\"sk-estimator-id-1\" type=\"checkbox\" checked><label for=\"sk-estimator-id-1\" class=\"sk-toggleable__label sk-toggleable__label-arrow\">IsolationForest</label><div class=\"sk-toggleable__content\"><pre>IsolationForest(contamination=0.01, max_features=2, n_estimators=200,\n",
              "                random_state=0)</pre></div></div></div></div></div>"
            ]
          },
          "metadata": {},
          "execution_count": 52
        }
      ]
    },
    {
      "cell_type": "code",
      "source": [
        "def convert(x):\n",
        "  if x == 1:\n",
        "    return 0\n",
        "  else:\n",
        "    return 1\n",
        "pred = IFModel.predict(testFeatures) #1 for inliers, -1 for outliers.\n",
        "pred2 = list(map(convert, pred))\n",
        "# pred2\n",
        "import collections\n",
        "\n",
        "counter=collections.Counter(pred2)\n",
        "print(counter)#\n",
        "\n",
        "f1_score(testLabel, pred2, average = \"binary\")#0.48 when added parameters"
      ],
      "metadata": {
        "colab": {
          "base_uri": "https://localhost:8080/"
        },
        "id": "Bvcz-MNQhP-z",
        "outputId": "82baa38f-f2af-4c6d-cd68-8603ce8dc5d8"
      },
      "execution_count": 53,
      "outputs": [
        {
          "output_type": "stream",
          "name": "stdout",
          "text": [
            "Counter({0: 28283, 1: 395})\n"
          ]
        },
        {
          "output_type": "execute_result",
          "data": {
            "text/plain": [
              "0.48049921996879874"
            ]
          },
          "metadata": {},
          "execution_count": 53
        }
      ]
    }
  ]
}