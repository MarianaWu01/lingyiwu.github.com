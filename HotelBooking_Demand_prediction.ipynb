{
  "nbformat": 4,
  "nbformat_minor": 0,
  "metadata": {
    "colab": {
      "provenance": [],
      "authorship_tag": "ABX9TyMcR1MOj8JkiNiZKJHlj7ST",
      "include_colab_link": true
    },
    "kernelspec": {
      "name": "python3",
      "display_name": "Python 3"
    },
    "language_info": {
      "name": "python"
    }
  },
  "cells": [
    {
      "cell_type": "markdown",
      "metadata": {
        "id": "view-in-github",
        "colab_type": "text"
      },
      "source": [
        "<a href=\"https://colab.research.google.com/github/MarianaWu01/lingyiwu.github.com/blob/main/HotelBooking_Demand_prediction.ipynb\" target=\"_parent\"><img src=\"https://colab.research.google.com/assets/colab-badge.svg\" alt=\"Open In Colab\"/></a>"
      ]
    },
    {
      "cell_type": "code",
      "source": [
        "import pandas as pd\n",
        "import numpy as np\n",
        "import seaborn as sns\n",
        "import matplotlib.pyplot as plt\n",
        "data = pd.read_csv(\"/content/hotel_bookings.csv\")\n",
        "data.head()\n",
        "\n",
        "missing_values = data.isnull().sum()\n",
        "print(\"Missing Value：\")\n",
        "print(missing_values)\n",
        "\n",
        "data.dropna(inplace=True)\n",
        "\n",
        "duplicate_rows = data.duplicated().sum()\n",
        "print(\"Duplicated rows：\", duplicate_rows)\n",
        "data.drop_duplicates(inplace=True)"
      ],
      "metadata": {
        "colab": {
          "base_uri": "https://localhost:8080/",
          "height": 0
        },
        "id": "2TLd3xxhoHfm",
        "outputId": "f4e6c09d-587e-480f-ec31-389d83eff381"
      },
      "execution_count": 276,
      "outputs": [
        {
          "output_type": "stream",
          "name": "stdout",
          "text": [
            "Missing Value：\n",
            "hotel                                  0\n",
            "is_canceled                            0\n",
            "lead_time                              0\n",
            "arrival_date_year                      0\n",
            "arrival_date_month                     0\n",
            "arrival_date_week_number               0\n",
            "arrival_date_day_of_month              0\n",
            "stays_in_weekend_nights                0\n",
            "stays_in_week_nights                   0\n",
            "adults                                 0\n",
            "children                               4\n",
            "babies                                 0\n",
            "meal                                   0\n",
            "country                              488\n",
            "market_segment                         0\n",
            "distribution_channel                   0\n",
            "is_repeated_guest                      0\n",
            "previous_cancellations                 0\n",
            "previous_bookings_not_canceled         0\n",
            "reserved_room_type                     0\n",
            "assigned_room_type                     0\n",
            "booking_changes                        0\n",
            "deposit_type                           0\n",
            "agent                              16340\n",
            "company                           112593\n",
            "days_in_waiting_list                   0\n",
            "customer_type                          0\n",
            "adr                                    0\n",
            "required_car_parking_spaces            0\n",
            "total_of_special_requests              0\n",
            "reservation_status                     0\n",
            "reservation_status_date                0\n",
            "dtype: int64\n",
            "Duplicated rows： 28\n"
          ]
        }
      ]
    },
    {
      "cell_type": "code",
      "execution_count": 277,
      "metadata": {
        "colab": {
          "base_uri": "https://localhost:8080/",
          "height": 0
        },
        "id": "l9qfU19wjw5q",
        "outputId": "a1213bd2-ab1f-4972-b52a-da4141ec39d4"
      },
      "outputs": [
        {
          "output_type": "stream",
          "name": "stdout",
          "text": [
            "<class 'pandas.core.frame.DataFrame'>\n",
            "Index: 189 entries, 2392 to 116451\n",
            "Data columns (total 32 columns):\n",
            " #   Column                          Non-Null Count  Dtype  \n",
            "---  ------                          --------------  -----  \n",
            " 0   hotel                           189 non-null    object \n",
            " 1   is_canceled                     189 non-null    int64  \n",
            " 2   lead_time                       189 non-null    int64  \n",
            " 3   arrival_date_year               189 non-null    int64  \n",
            " 4   arrival_date_month              189 non-null    object \n",
            " 5   arrival_date_week_number        189 non-null    int64  \n",
            " 6   arrival_date_day_of_month       189 non-null    int64  \n",
            " 7   stays_in_weekend_nights         189 non-null    int64  \n",
            " 8   stays_in_week_nights            189 non-null    int64  \n",
            " 9   adults                          189 non-null    int64  \n",
            " 10  children                        189 non-null    float64\n",
            " 11  babies                          189 non-null    int64  \n",
            " 12  meal                            189 non-null    object \n",
            " 13  country                         189 non-null    object \n",
            " 14  market_segment                  189 non-null    object \n",
            " 15  distribution_channel            189 non-null    object \n",
            " 16  is_repeated_guest               189 non-null    int64  \n",
            " 17  previous_cancellations          189 non-null    int64  \n",
            " 18  previous_bookings_not_canceled  189 non-null    int64  \n",
            " 19  reserved_room_type              189 non-null    object \n",
            " 20  assigned_room_type              189 non-null    object \n",
            " 21  booking_changes                 189 non-null    int64  \n",
            " 22  deposit_type                    189 non-null    object \n",
            " 23  agent                           189 non-null    float64\n",
            " 24  company                         189 non-null    float64\n",
            " 25  days_in_waiting_list            189 non-null    int64  \n",
            " 26  customer_type                   189 non-null    object \n",
            " 27  adr                             189 non-null    float64\n",
            " 28  required_car_parking_spaces     189 non-null    int64  \n",
            " 29  total_of_special_requests       189 non-null    int64  \n",
            " 30  reservation_status              189 non-null    object \n",
            " 31  reservation_status_date         189 non-null    object \n",
            "dtypes: float64(4), int64(16), object(12)\n",
            "memory usage: 48.7+ KB\n"
          ]
        }
      ],
      "source": [
        "data.info()"
      ]
    },
    {
      "cell_type": "code",
      "source": [
        "data.nunique()"
      ],
      "metadata": {
        "colab": {
          "base_uri": "https://localhost:8080/",
          "height": 0
        },
        "id": "c7sYvidosfju",
        "outputId": "6e13b1d3-e7f2-490d-f940-d7386f82ff72"
      },
      "execution_count": 278,
      "outputs": [
        {
          "output_type": "execute_result",
          "data": {
            "text/plain": [
              "hotel                              2\n",
              "is_canceled                        2\n",
              "lead_time                         50\n",
              "arrival_date_year                  3\n",
              "arrival_date_month                12\n",
              "arrival_date_week_number          38\n",
              "arrival_date_day_of_month         29\n",
              "stays_in_weekend_nights            8\n",
              "stays_in_week_nights              13\n",
              "adults                             3\n",
              "children                           3\n",
              "babies                             1\n",
              "meal                               4\n",
              "country                           18\n",
              "market_segment                     6\n",
              "distribution_channel               4\n",
              "is_repeated_guest                  2\n",
              "previous_cancellations             2\n",
              "previous_bookings_not_canceled     6\n",
              "reserved_room_type                 5\n",
              "assigned_room_type                 9\n",
              "booking_changes                    7\n",
              "deposit_type                       3\n",
              "agent                             28\n",
              "company                           46\n",
              "days_in_waiting_list               1\n",
              "customer_type                      4\n",
              "adr                               70\n",
              "required_car_parking_spaces        2\n",
              "total_of_special_requests          4\n",
              "reservation_status                 3\n",
              "reservation_status_date           76\n",
              "dtype: int64"
            ]
          },
          "metadata": {},
          "execution_count": 278
        }
      ]
    },
    {
      "cell_type": "code",
      "source": [
        "data.dtypes"
      ],
      "metadata": {
        "colab": {
          "base_uri": "https://localhost:8080/",
          "height": 0
        },
        "id": "vaxbuUNfuE_q",
        "outputId": "70461c5d-f6a1-40b0-cb34-8f030e875868"
      },
      "execution_count": 279,
      "outputs": [
        {
          "output_type": "execute_result",
          "data": {
            "text/plain": [
              "hotel                              object\n",
              "is_canceled                         int64\n",
              "lead_time                           int64\n",
              "arrival_date_year                   int64\n",
              "arrival_date_month                 object\n",
              "arrival_date_week_number            int64\n",
              "arrival_date_day_of_month           int64\n",
              "stays_in_weekend_nights             int64\n",
              "stays_in_week_nights                int64\n",
              "adults                              int64\n",
              "children                          float64\n",
              "babies                              int64\n",
              "meal                               object\n",
              "country                            object\n",
              "market_segment                     object\n",
              "distribution_channel               object\n",
              "is_repeated_guest                   int64\n",
              "previous_cancellations              int64\n",
              "previous_bookings_not_canceled      int64\n",
              "reserved_room_type                 object\n",
              "assigned_room_type                 object\n",
              "booking_changes                     int64\n",
              "deposit_type                       object\n",
              "agent                             float64\n",
              "company                           float64\n",
              "days_in_waiting_list                int64\n",
              "customer_type                      object\n",
              "adr                               float64\n",
              "required_car_parking_spaces         int64\n",
              "total_of_special_requests           int64\n",
              "reservation_status                 object\n",
              "reservation_status_date            object\n",
              "dtype: object"
            ]
          },
          "metadata": {},
          "execution_count": 279
        }
      ]
    },
    {
      "cell_type": "code",
      "source": [
        "data.describe()"
      ],
      "metadata": {
        "colab": {
          "base_uri": "https://localhost:8080/",
          "height": 320
        },
        "id": "szBVCVnIuRt7",
        "outputId": "e03c3996-0686-4d90-972e-d4d42f04afcb"
      },
      "execution_count": 280,
      "outputs": [
        {
          "output_type": "execute_result",
          "data": {
            "text/plain": [
              "       is_canceled   lead_time  arrival_date_year  arrival_date_week_number  \\\n",
              "count   189.000000  189.000000         189.000000                189.000000   \n",
              "mean      0.084656   33.883598        2015.486772                 37.555556   \n",
              "std       0.279109   50.797022           0.740963                 13.317854   \n",
              "min       0.000000    0.000000        2015.000000                  1.000000   \n",
              "25%       0.000000   11.000000        2015.000000                 33.000000   \n",
              "50%       0.000000   24.000000        2015.000000                 45.000000   \n",
              "75%       0.000000   36.000000        2016.000000                 46.000000   \n",
              "max       1.000000  364.000000        2017.000000                 53.000000   \n",
              "\n",
              "       arrival_date_day_of_month  stays_in_weekend_nights  \\\n",
              "count                 189.000000               189.000000   \n",
              "mean                   11.121693                 1.439153   \n",
              "std                     7.735728                 1.481356   \n",
              "min                     1.000000                 0.000000   \n",
              "25%                     6.000000                 0.000000   \n",
              "50%                     9.000000                 1.000000   \n",
              "75%                    13.000000                 2.000000   \n",
              "max                    31.000000                 9.000000   \n",
              "\n",
              "       stays_in_week_nights      adults    children  babies  \\\n",
              "count            189.000000  189.000000  189.000000   189.0   \n",
              "mean               4.365079    1.423280    0.042328     0.0   \n",
              "std                3.526352    0.526619    0.249055     0.0   \n",
              "min                0.000000    1.000000    0.000000     0.0   \n",
              "25%                2.000000    1.000000    0.000000     0.0   \n",
              "50%                3.000000    1.000000    0.000000     0.0   \n",
              "75%                6.000000    2.000000    0.000000     0.0   \n",
              "max               21.000000    3.000000    2.000000     0.0   \n",
              "\n",
              "       is_repeated_guest  previous_cancellations  \\\n",
              "count         189.000000              189.000000   \n",
              "mean            0.079365                0.010582   \n",
              "std             0.271026                0.145479   \n",
              "min             0.000000                0.000000   \n",
              "25%             0.000000                0.000000   \n",
              "50%             0.000000                0.000000   \n",
              "75%             0.000000                0.000000   \n",
              "max             1.000000                2.000000   \n",
              "\n",
              "       previous_bookings_not_canceled  booking_changes       agent  \\\n",
              "count                      189.000000       189.000000  189.000000   \n",
              "mean                         0.169312         1.312169  207.306878   \n",
              "std                          0.766943         1.297670  109.707837   \n",
              "min                          0.000000         0.000000    5.000000   \n",
              "25%                          0.000000         0.000000  185.000000   \n",
              "50%                          0.000000         1.000000  185.000000   \n",
              "75%                          0.000000         2.000000  324.000000   \n",
              "max                          7.000000         6.000000  444.000000   \n",
              "\n",
              "          company  days_in_waiting_list         adr  \\\n",
              "count  189.000000                 189.0  189.000000   \n",
              "mean   260.153439                   0.0   64.804180   \n",
              "std    107.122781                   0.0   40.186506   \n",
              "min      9.000000                   0.0    0.000000   \n",
              "25%    281.000000                   0.0   40.000000   \n",
              "50%    281.000000                   0.0   48.000000   \n",
              "75%    281.000000                   0.0   85.000000   \n",
              "max    499.000000                   0.0  246.000000   \n",
              "\n",
              "       required_car_parking_spaces  total_of_special_requests  \n",
              "count                   189.000000                 189.000000  \n",
              "mean                      0.100529                   0.222222  \n",
              "std                       0.301503                   0.577350  \n",
              "min                       0.000000                   0.000000  \n",
              "25%                       0.000000                   0.000000  \n",
              "50%                       0.000000                   0.000000  \n",
              "75%                       0.000000                   0.000000  \n",
              "max                       1.000000                   3.000000  "
            ],
            "text/html": [
              "\n",
              "  <div id=\"df-50fe6df7-68dc-441a-b3af-2caaecc35027\" class=\"colab-df-container\">\n",
              "    <div>\n",
              "<style scoped>\n",
              "    .dataframe tbody tr th:only-of-type {\n",
              "        vertical-align: middle;\n",
              "    }\n",
              "\n",
              "    .dataframe tbody tr th {\n",
              "        vertical-align: top;\n",
              "    }\n",
              "\n",
              "    .dataframe thead th {\n",
              "        text-align: right;\n",
              "    }\n",
              "</style>\n",
              "<table border=\"1\" class=\"dataframe\">\n",
              "  <thead>\n",
              "    <tr style=\"text-align: right;\">\n",
              "      <th></th>\n",
              "      <th>is_canceled</th>\n",
              "      <th>lead_time</th>\n",
              "      <th>arrival_date_year</th>\n",
              "      <th>arrival_date_week_number</th>\n",
              "      <th>arrival_date_day_of_month</th>\n",
              "      <th>stays_in_weekend_nights</th>\n",
              "      <th>stays_in_week_nights</th>\n",
              "      <th>adults</th>\n",
              "      <th>children</th>\n",
              "      <th>babies</th>\n",
              "      <th>is_repeated_guest</th>\n",
              "      <th>previous_cancellations</th>\n",
              "      <th>previous_bookings_not_canceled</th>\n",
              "      <th>booking_changes</th>\n",
              "      <th>agent</th>\n",
              "      <th>company</th>\n",
              "      <th>days_in_waiting_list</th>\n",
              "      <th>adr</th>\n",
              "      <th>required_car_parking_spaces</th>\n",
              "      <th>total_of_special_requests</th>\n",
              "    </tr>\n",
              "  </thead>\n",
              "  <tbody>\n",
              "    <tr>\n",
              "      <th>count</th>\n",
              "      <td>189.000000</td>\n",
              "      <td>189.000000</td>\n",
              "      <td>189.000000</td>\n",
              "      <td>189.000000</td>\n",
              "      <td>189.000000</td>\n",
              "      <td>189.000000</td>\n",
              "      <td>189.000000</td>\n",
              "      <td>189.000000</td>\n",
              "      <td>189.000000</td>\n",
              "      <td>189.0</td>\n",
              "      <td>189.000000</td>\n",
              "      <td>189.000000</td>\n",
              "      <td>189.000000</td>\n",
              "      <td>189.000000</td>\n",
              "      <td>189.000000</td>\n",
              "      <td>189.000000</td>\n",
              "      <td>189.0</td>\n",
              "      <td>189.000000</td>\n",
              "      <td>189.000000</td>\n",
              "      <td>189.000000</td>\n",
              "    </tr>\n",
              "    <tr>\n",
              "      <th>mean</th>\n",
              "      <td>0.084656</td>\n",
              "      <td>33.883598</td>\n",
              "      <td>2015.486772</td>\n",
              "      <td>37.555556</td>\n",
              "      <td>11.121693</td>\n",
              "      <td>1.439153</td>\n",
              "      <td>4.365079</td>\n",
              "      <td>1.423280</td>\n",
              "      <td>0.042328</td>\n",
              "      <td>0.0</td>\n",
              "      <td>0.079365</td>\n",
              "      <td>0.010582</td>\n",
              "      <td>0.169312</td>\n",
              "      <td>1.312169</td>\n",
              "      <td>207.306878</td>\n",
              "      <td>260.153439</td>\n",
              "      <td>0.0</td>\n",
              "      <td>64.804180</td>\n",
              "      <td>0.100529</td>\n",
              "      <td>0.222222</td>\n",
              "    </tr>\n",
              "    <tr>\n",
              "      <th>std</th>\n",
              "      <td>0.279109</td>\n",
              "      <td>50.797022</td>\n",
              "      <td>0.740963</td>\n",
              "      <td>13.317854</td>\n",
              "      <td>7.735728</td>\n",
              "      <td>1.481356</td>\n",
              "      <td>3.526352</td>\n",
              "      <td>0.526619</td>\n",
              "      <td>0.249055</td>\n",
              "      <td>0.0</td>\n",
              "      <td>0.271026</td>\n",
              "      <td>0.145479</td>\n",
              "      <td>0.766943</td>\n",
              "      <td>1.297670</td>\n",
              "      <td>109.707837</td>\n",
              "      <td>107.122781</td>\n",
              "      <td>0.0</td>\n",
              "      <td>40.186506</td>\n",
              "      <td>0.301503</td>\n",
              "      <td>0.577350</td>\n",
              "    </tr>\n",
              "    <tr>\n",
              "      <th>min</th>\n",
              "      <td>0.000000</td>\n",
              "      <td>0.000000</td>\n",
              "      <td>2015.000000</td>\n",
              "      <td>1.000000</td>\n",
              "      <td>1.000000</td>\n",
              "      <td>0.000000</td>\n",
              "      <td>0.000000</td>\n",
              "      <td>1.000000</td>\n",
              "      <td>0.000000</td>\n",
              "      <td>0.0</td>\n",
              "      <td>0.000000</td>\n",
              "      <td>0.000000</td>\n",
              "      <td>0.000000</td>\n",
              "      <td>0.000000</td>\n",
              "      <td>5.000000</td>\n",
              "      <td>9.000000</td>\n",
              "      <td>0.0</td>\n",
              "      <td>0.000000</td>\n",
              "      <td>0.000000</td>\n",
              "      <td>0.000000</td>\n",
              "    </tr>\n",
              "    <tr>\n",
              "      <th>25%</th>\n",
              "      <td>0.000000</td>\n",
              "      <td>11.000000</td>\n",
              "      <td>2015.000000</td>\n",
              "      <td>33.000000</td>\n",
              "      <td>6.000000</td>\n",
              "      <td>0.000000</td>\n",
              "      <td>2.000000</td>\n",
              "      <td>1.000000</td>\n",
              "      <td>0.000000</td>\n",
              "      <td>0.0</td>\n",
              "      <td>0.000000</td>\n",
              "      <td>0.000000</td>\n",
              "      <td>0.000000</td>\n",
              "      <td>0.000000</td>\n",
              "      <td>185.000000</td>\n",
              "      <td>281.000000</td>\n",
              "      <td>0.0</td>\n",
              "      <td>40.000000</td>\n",
              "      <td>0.000000</td>\n",
              "      <td>0.000000</td>\n",
              "    </tr>\n",
              "    <tr>\n",
              "      <th>50%</th>\n",
              "      <td>0.000000</td>\n",
              "      <td>24.000000</td>\n",
              "      <td>2015.000000</td>\n",
              "      <td>45.000000</td>\n",
              "      <td>9.000000</td>\n",
              "      <td>1.000000</td>\n",
              "      <td>3.000000</td>\n",
              "      <td>1.000000</td>\n",
              "      <td>0.000000</td>\n",
              "      <td>0.0</td>\n",
              "      <td>0.000000</td>\n",
              "      <td>0.000000</td>\n",
              "      <td>0.000000</td>\n",
              "      <td>1.000000</td>\n",
              "      <td>185.000000</td>\n",
              "      <td>281.000000</td>\n",
              "      <td>0.0</td>\n",
              "      <td>48.000000</td>\n",
              "      <td>0.000000</td>\n",
              "      <td>0.000000</td>\n",
              "    </tr>\n",
              "    <tr>\n",
              "      <th>75%</th>\n",
              "      <td>0.000000</td>\n",
              "      <td>36.000000</td>\n",
              "      <td>2016.000000</td>\n",
              "      <td>46.000000</td>\n",
              "      <td>13.000000</td>\n",
              "      <td>2.000000</td>\n",
              "      <td>6.000000</td>\n",
              "      <td>2.000000</td>\n",
              "      <td>0.000000</td>\n",
              "      <td>0.0</td>\n",
              "      <td>0.000000</td>\n",
              "      <td>0.000000</td>\n",
              "      <td>0.000000</td>\n",
              "      <td>2.000000</td>\n",
              "      <td>324.000000</td>\n",
              "      <td>281.000000</td>\n",
              "      <td>0.0</td>\n",
              "      <td>85.000000</td>\n",
              "      <td>0.000000</td>\n",
              "      <td>0.000000</td>\n",
              "    </tr>\n",
              "    <tr>\n",
              "      <th>max</th>\n",
              "      <td>1.000000</td>\n",
              "      <td>364.000000</td>\n",
              "      <td>2017.000000</td>\n",
              "      <td>53.000000</td>\n",
              "      <td>31.000000</td>\n",
              "      <td>9.000000</td>\n",
              "      <td>21.000000</td>\n",
              "      <td>3.000000</td>\n",
              "      <td>2.000000</td>\n",
              "      <td>0.0</td>\n",
              "      <td>1.000000</td>\n",
              "      <td>2.000000</td>\n",
              "      <td>7.000000</td>\n",
              "      <td>6.000000</td>\n",
              "      <td>444.000000</td>\n",
              "      <td>499.000000</td>\n",
              "      <td>0.0</td>\n",
              "      <td>246.000000</td>\n",
              "      <td>1.000000</td>\n",
              "      <td>3.000000</td>\n",
              "    </tr>\n",
              "  </tbody>\n",
              "</table>\n",
              "</div>\n",
              "    <div class=\"colab-df-buttons\">\n",
              "\n",
              "  <div class=\"colab-df-container\">\n",
              "    <button class=\"colab-df-convert\" onclick=\"convertToInteractive('df-50fe6df7-68dc-441a-b3af-2caaecc35027')\"\n",
              "            title=\"Convert this dataframe to an interactive table.\"\n",
              "            style=\"display:none;\">\n",
              "\n",
              "  <svg xmlns=\"http://www.w3.org/2000/svg\" height=\"24px\" viewBox=\"0 -960 960 960\">\n",
              "    <path d=\"M120-120v-720h720v720H120Zm60-500h600v-160H180v160Zm220 220h160v-160H400v160Zm0 220h160v-160H400v160ZM180-400h160v-160H180v160Zm440 0h160v-160H620v160ZM180-180h160v-160H180v160Zm440 0h160v-160H620v160Z\"/>\n",
              "  </svg>\n",
              "    </button>\n",
              "\n",
              "  <style>\n",
              "    .colab-df-container {\n",
              "      display:flex;\n",
              "      gap: 12px;\n",
              "    }\n",
              "\n",
              "    .colab-df-convert {\n",
              "      background-color: #E8F0FE;\n",
              "      border: none;\n",
              "      border-radius: 50%;\n",
              "      cursor: pointer;\n",
              "      display: none;\n",
              "      fill: #1967D2;\n",
              "      height: 32px;\n",
              "      padding: 0 0 0 0;\n",
              "      width: 32px;\n",
              "    }\n",
              "\n",
              "    .colab-df-convert:hover {\n",
              "      background-color: #E2EBFA;\n",
              "      box-shadow: 0px 1px 2px rgba(60, 64, 67, 0.3), 0px 1px 3px 1px rgba(60, 64, 67, 0.15);\n",
              "      fill: #174EA6;\n",
              "    }\n",
              "\n",
              "    .colab-df-buttons div {\n",
              "      margin-bottom: 4px;\n",
              "    }\n",
              "\n",
              "    [theme=dark] .colab-df-convert {\n",
              "      background-color: #3B4455;\n",
              "      fill: #D2E3FC;\n",
              "    }\n",
              "\n",
              "    [theme=dark] .colab-df-convert:hover {\n",
              "      background-color: #434B5C;\n",
              "      box-shadow: 0px 1px 3px 1px rgba(0, 0, 0, 0.15);\n",
              "      filter: drop-shadow(0px 1px 2px rgba(0, 0, 0, 0.3));\n",
              "      fill: #FFFFFF;\n",
              "    }\n",
              "  </style>\n",
              "\n",
              "    <script>\n",
              "      const buttonEl =\n",
              "        document.querySelector('#df-50fe6df7-68dc-441a-b3af-2caaecc35027 button.colab-df-convert');\n",
              "      buttonEl.style.display =\n",
              "        google.colab.kernel.accessAllowed ? 'block' : 'none';\n",
              "\n",
              "      async function convertToInteractive(key) {\n",
              "        const element = document.querySelector('#df-50fe6df7-68dc-441a-b3af-2caaecc35027');\n",
              "        const dataTable =\n",
              "          await google.colab.kernel.invokeFunction('convertToInteractive',\n",
              "                                                    [key], {});\n",
              "        if (!dataTable) return;\n",
              "\n",
              "        const docLinkHtml = 'Like what you see? Visit the ' +\n",
              "          '<a target=\"_blank\" href=https://colab.research.google.com/notebooks/data_table.ipynb>data table notebook</a>'\n",
              "          + ' to learn more about interactive tables.';\n",
              "        element.innerHTML = '';\n",
              "        dataTable['output_type'] = 'display_data';\n",
              "        await google.colab.output.renderOutput(dataTable, element);\n",
              "        const docLink = document.createElement('div');\n",
              "        docLink.innerHTML = docLinkHtml;\n",
              "        element.appendChild(docLink);\n",
              "      }\n",
              "    </script>\n",
              "  </div>\n",
              "\n",
              "\n",
              "<div id=\"df-b90383c9-9347-46bf-a9c9-d3e6b05f02e5\">\n",
              "  <button class=\"colab-df-quickchart\" onclick=\"quickchart('df-b90383c9-9347-46bf-a9c9-d3e6b05f02e5')\"\n",
              "            title=\"Suggest charts\"\n",
              "            style=\"display:none;\">\n",
              "\n",
              "<svg xmlns=\"http://www.w3.org/2000/svg\" height=\"24px\"viewBox=\"0 0 24 24\"\n",
              "     width=\"24px\">\n",
              "    <g>\n",
              "        <path d=\"M19 3H5c-1.1 0-2 .9-2 2v14c0 1.1.9 2 2 2h14c1.1 0 2-.9 2-2V5c0-1.1-.9-2-2-2zM9 17H7v-7h2v7zm4 0h-2V7h2v10zm4 0h-2v-4h2v4z\"/>\n",
              "    </g>\n",
              "</svg>\n",
              "  </button>\n",
              "\n",
              "<style>\n",
              "  .colab-df-quickchart {\n",
              "      --bg-color: #E8F0FE;\n",
              "      --fill-color: #1967D2;\n",
              "      --hover-bg-color: #E2EBFA;\n",
              "      --hover-fill-color: #174EA6;\n",
              "      --disabled-fill-color: #AAA;\n",
              "      --disabled-bg-color: #DDD;\n",
              "  }\n",
              "\n",
              "  [theme=dark] .colab-df-quickchart {\n",
              "      --bg-color: #3B4455;\n",
              "      --fill-color: #D2E3FC;\n",
              "      --hover-bg-color: #434B5C;\n",
              "      --hover-fill-color: #FFFFFF;\n",
              "      --disabled-bg-color: #3B4455;\n",
              "      --disabled-fill-color: #666;\n",
              "  }\n",
              "\n",
              "  .colab-df-quickchart {\n",
              "    background-color: var(--bg-color);\n",
              "    border: none;\n",
              "    border-radius: 50%;\n",
              "    cursor: pointer;\n",
              "    display: none;\n",
              "    fill: var(--fill-color);\n",
              "    height: 32px;\n",
              "    padding: 0;\n",
              "    width: 32px;\n",
              "  }\n",
              "\n",
              "  .colab-df-quickchart:hover {\n",
              "    background-color: var(--hover-bg-color);\n",
              "    box-shadow: 0 1px 2px rgba(60, 64, 67, 0.3), 0 1px 3px 1px rgba(60, 64, 67, 0.15);\n",
              "    fill: var(--button-hover-fill-color);\n",
              "  }\n",
              "\n",
              "  .colab-df-quickchart-complete:disabled,\n",
              "  .colab-df-quickchart-complete:disabled:hover {\n",
              "    background-color: var(--disabled-bg-color);\n",
              "    fill: var(--disabled-fill-color);\n",
              "    box-shadow: none;\n",
              "  }\n",
              "\n",
              "  .colab-df-spinner {\n",
              "    border: 2px solid var(--fill-color);\n",
              "    border-color: transparent;\n",
              "    border-bottom-color: var(--fill-color);\n",
              "    animation:\n",
              "      spin 1s steps(1) infinite;\n",
              "  }\n",
              "\n",
              "  @keyframes spin {\n",
              "    0% {\n",
              "      border-color: transparent;\n",
              "      border-bottom-color: var(--fill-color);\n",
              "      border-left-color: var(--fill-color);\n",
              "    }\n",
              "    20% {\n",
              "      border-color: transparent;\n",
              "      border-left-color: var(--fill-color);\n",
              "      border-top-color: var(--fill-color);\n",
              "    }\n",
              "    30% {\n",
              "      border-color: transparent;\n",
              "      border-left-color: var(--fill-color);\n",
              "      border-top-color: var(--fill-color);\n",
              "      border-right-color: var(--fill-color);\n",
              "    }\n",
              "    40% {\n",
              "      border-color: transparent;\n",
              "      border-right-color: var(--fill-color);\n",
              "      border-top-color: var(--fill-color);\n",
              "    }\n",
              "    60% {\n",
              "      border-color: transparent;\n",
              "      border-right-color: var(--fill-color);\n",
              "    }\n",
              "    80% {\n",
              "      border-color: transparent;\n",
              "      border-right-color: var(--fill-color);\n",
              "      border-bottom-color: var(--fill-color);\n",
              "    }\n",
              "    90% {\n",
              "      border-color: transparent;\n",
              "      border-bottom-color: var(--fill-color);\n",
              "    }\n",
              "  }\n",
              "</style>\n",
              "\n",
              "  <script>\n",
              "    async function quickchart(key) {\n",
              "      const quickchartButtonEl =\n",
              "        document.querySelector('#' + key + ' button');\n",
              "      quickchartButtonEl.disabled = true;  // To prevent multiple clicks.\n",
              "      quickchartButtonEl.classList.add('colab-df-spinner');\n",
              "      try {\n",
              "        const charts = await google.colab.kernel.invokeFunction(\n",
              "            'suggestCharts', [key], {});\n",
              "      } catch (error) {\n",
              "        console.error('Error during call to suggestCharts:', error);\n",
              "      }\n",
              "      quickchartButtonEl.classList.remove('colab-df-spinner');\n",
              "      quickchartButtonEl.classList.add('colab-df-quickchart-complete');\n",
              "    }\n",
              "    (() => {\n",
              "      let quickchartButtonEl =\n",
              "        document.querySelector('#df-b90383c9-9347-46bf-a9c9-d3e6b05f02e5 button');\n",
              "      quickchartButtonEl.style.display =\n",
              "        google.colab.kernel.accessAllowed ? 'block' : 'none';\n",
              "    })();\n",
              "  </script>\n",
              "</div>\n",
              "    </div>\n",
              "  </div>\n"
            ],
            "application/vnd.google.colaboratory.intrinsic+json": {
              "type": "dataframe",
              "summary": "{\n  \"name\": \"data\",\n  \"rows\": 8,\n  \"fields\": [\n    {\n      \"column\": \"is_canceled\",\n      \"properties\": {\n        \"dtype\": \"number\",\n        \"std\": 66.75358706810592,\n        \"min\": 0.0,\n        \"max\": 189.0,\n        \"num_unique_values\": 5,\n        \"samples\": [\n          0.08465608465608465,\n          1.0,\n          0.2791085986072508\n        ],\n        \"semantic_type\": \"\",\n        \"description\": \"\"\n      }\n    },\n    {\n      \"column\": \"lead_time\",\n      \"properties\": {\n        \"dtype\": \"number\",\n        \"std\": 126.01581988333973,\n        \"min\": 0.0,\n        \"max\": 364.0,\n        \"num_unique_values\": 8,\n        \"samples\": [\n          33.883597883597886,\n          24.0,\n          189.0\n        ],\n        \"semantic_type\": \"\",\n        \"description\": \"\"\n      }\n    },\n    {\n      \"column\": \"arrival_date_year\",\n      \"properties\": {\n        \"dtype\": \"number\",\n        \"std\": 890.5390044186652,\n        \"min\": 0.7409630421804408,\n        \"max\": 2017.0,\n        \"num_unique_values\": 6,\n        \"samples\": [\n          189.0,\n          2015.4867724867725,\n          2017.0\n        ],\n        \"semantic_type\": \"\",\n        \"description\": \"\"\n      }\n    },\n    {\n      \"column\": \"arrival_date_week_number\",\n      \"properties\": {\n        \"dtype\": \"number\",\n        \"std\": 57.9673696985591,\n        \"min\": 1.0,\n        \"max\": 189.0,\n        \"num_unique_values\": 8,\n        \"samples\": [\n          37.55555555555556,\n          45.0,\n          189.0\n        ],\n        \"semantic_type\": \"\",\n        \"description\": \"\"\n      }\n    },\n    {\n      \"column\": \"arrival_date_day_of_month\",\n      \"properties\": {\n        \"dtype\": \"number\",\n        \"std\": 63.45311403485239,\n        \"min\": 1.0,\n        \"max\": 189.0,\n        \"num_unique_values\": 8,\n        \"samples\": [\n          11.121693121693122,\n          9.0,\n          189.0\n        ],\n        \"semantic_type\": \"\",\n        \"description\": \"\"\n      }\n    },\n    {\n      \"column\": \"stays_in_weekend_nights\",\n      \"properties\": {\n        \"dtype\": \"number\",\n        \"std\": 66.13116705846384,\n        \"min\": 0.0,\n        \"max\": 189.0,\n        \"num_unique_values\": 7,\n        \"samples\": [\n          189.0,\n          1.439153439153439,\n          2.0\n        ],\n        \"semantic_type\": \"\",\n        \"description\": \"\"\n      }\n    },\n    {\n      \"column\": \"stays_in_week_nights\",\n      \"properties\": {\n        \"dtype\": \"number\",\n        \"std\": 65.13017532725084,\n        \"min\": 0.0,\n        \"max\": 189.0,\n        \"num_unique_values\": 8,\n        \"samples\": [\n          4.365079365079365,\n          3.0,\n          189.0\n        ],\n        \"semantic_type\": \"\",\n        \"description\": \"\"\n      }\n    },\n    {\n      \"column\": \"adults\",\n      \"properties\": {\n        \"dtype\": \"number\",\n        \"std\": 66.32352550609855,\n        \"min\": 0.5266189129295862,\n        \"max\": 189.0,\n        \"num_unique_values\": 6,\n        \"samples\": [\n          189.0,\n          1.4232804232804233,\n          3.0\n        ],\n        \"semantic_type\": \"\",\n        \"description\": \"\"\n      }\n    },\n    {\n      \"column\": \"children\",\n      \"properties\": {\n        \"dtype\": \"number\",\n        \"std\": 66.70940675549052,\n        \"min\": 0.0,\n        \"max\": 189.0,\n        \"num_unique_values\": 5,\n        \"samples\": [\n          0.042328042328042326,\n          2.0,\n          0.24905540336135565\n        ],\n        \"semantic_type\": \"\",\n        \"description\": \"\"\n      }\n    },\n    {\n      \"column\": \"babies\",\n      \"properties\": {\n        \"dtype\": \"number\",\n        \"std\": 66.82159082212874,\n        \"min\": 0.0,\n        \"max\": 189.0,\n        \"num_unique_values\": 2,\n        \"samples\": [\n          0.0,\n          189.0\n        ],\n        \"semantic_type\": \"\",\n        \"description\": \"\"\n      }\n    },\n    {\n      \"column\": \"is_repeated_guest\",\n      \"properties\": {\n        \"dtype\": \"number\",\n        \"std\": 66.75426240689274,\n        \"min\": 0.0,\n        \"max\": 189.0,\n        \"num_unique_values\": 5,\n        \"samples\": [\n          0.07936507936507936,\n          1.0\n        ],\n        \"semantic_type\": \"\",\n        \"description\": \"\"\n      }\n    },\n    {\n      \"column\": \"previous_cancellations\",\n      \"properties\": {\n        \"dtype\": \"number\",\n        \"std\": 66.7162877283797,\n        \"min\": 0.0,\n        \"max\": 189.0,\n        \"num_unique_values\": 5,\n        \"samples\": [\n          0.010582010582010581,\n          2.0\n        ],\n        \"semantic_type\": \"\",\n        \"description\": \"\"\n      }\n    },\n    {\n      \"column\": \"previous_bookings_not_canceled\",\n      \"properties\": {\n        \"dtype\": \"number\",\n        \"std\": 66.46441666026142,\n        \"min\": 0.0,\n        \"max\": 189.0,\n        \"num_unique_values\": 5,\n        \"samples\": [\n          0.1693121693121693,\n          7.0\n        ],\n        \"semantic_type\": \"\",\n        \"description\": \"\"\n      }\n    },\n    {\n      \"column\": \"booking_changes\",\n      \"properties\": {\n        \"dtype\": \"number\",\n        \"std\": 66.26232208046022,\n        \"min\": 0.0,\n        \"max\": 189.0,\n        \"num_unique_values\": 7,\n        \"samples\": [\n          189.0,\n          1.312169312169312\n        ],\n        \"semantic_type\": \"\",\n        \"description\": \"\"\n      }\n    },\n    {\n      \"column\": \"agent\",\n      \"properties\": {\n        \"dtype\": \"number\",\n        \"std\": 131.69974498790353,\n        \"min\": 5.0,\n        \"max\": 444.0,\n        \"num_unique_values\": 7,\n        \"samples\": [\n          189.0,\n          207.3068783068783\n        ],\n        \"semantic_type\": \"\",\n        \"description\": \"\"\n      }\n    },\n    {\n      \"column\": \"company\",\n      \"properties\": {\n        \"dtype\": \"number\",\n        \"std\": 144.48345415714093,\n        \"min\": 9.0,\n        \"max\": 499.0,\n        \"num_unique_values\": 6,\n        \"samples\": [\n          189.0,\n          260.15343915343914\n        ],\n        \"semantic_type\": \"\",\n        \"description\": \"\"\n      }\n    },\n    {\n      \"column\": \"days_in_waiting_list\",\n      \"properties\": {\n        \"dtype\": \"number\",\n        \"std\": 66.82159082212874,\n        \"min\": 0.0,\n        \"max\": 189.0,\n        \"num_unique_values\": 2,\n        \"samples\": [\n          0.0,\n          189.0\n        ],\n        \"semantic_type\": \"\",\n        \"description\": \"\"\n      }\n    },\n    {\n      \"column\": \"adr\",\n      \"properties\": {\n        \"dtype\": \"number\",\n        \"std\": 84.20728862985133,\n        \"min\": 0.0,\n        \"max\": 246.0,\n        \"num_unique_values\": 8,\n        \"samples\": [\n          64.8041798941799,\n          48.0\n        ],\n        \"semantic_type\": \"\",\n        \"description\": \"\"\n      }\n    },\n    {\n      \"column\": \"required_car_parking_spaces\",\n      \"properties\": {\n        \"dtype\": \"number\",\n        \"std\": 66.75165518364355,\n        \"min\": 0.0,\n        \"max\": 189.0,\n        \"num_unique_values\": 5,\n        \"samples\": [\n          0.10052910052910052,\n          1.0\n        ],\n        \"semantic_type\": \"\",\n        \"description\": \"\"\n      }\n    },\n    {\n      \"column\": \"total_of_special_requests\",\n      \"properties\": {\n        \"dtype\": \"number\",\n        \"std\": 66.63753052569496,\n        \"min\": 0.0,\n        \"max\": 189.0,\n        \"num_unique_values\": 5,\n        \"samples\": [\n          0.2222222222222222,\n          3.0\n        ],\n        \"semantic_type\": \"\",\n        \"description\": \"\"\n      }\n    }\n  ]\n}"
            }
          },
          "metadata": {},
          "execution_count": 280
        }
      ]
    },
    {
      "cell_type": "code",
      "source": [
        "to_drop = ['country', 'market_segment',\n",
        "       'distribution_channel', 'reserved_room_type', 'assigned_room_type',\n",
        "       'deposit_type', 'customer_type', 'reservation_status',\n",
        "       'reservation_status_date','hotel']\n",
        "X=data.drop(to_drop,axis=1)\n",
        "X.head()"
      ],
      "metadata": {
        "colab": {
          "base_uri": "https://localhost:8080/",
          "height": 256
        },
        "id": "km4NFq3w5V5k",
        "outputId": "e07c886b-4c9e-431f-b5da-3ffecf4d9a0d"
      },
      "execution_count": 281,
      "outputs": [
        {
          "output_type": "execute_result",
          "data": {
            "text/plain": [
              "      is_canceled  lead_time  arrival_date_year arrival_date_month  \\\n",
              "2392            0          6               2015            October   \n",
              "2697            0         24               2015            October   \n",
              "2867            0         24               2015           November   \n",
              "2877            0         24               2015           November   \n",
              "2878            0         24               2015           November   \n",
              "\n",
              "      arrival_date_week_number  arrival_date_day_of_month  \\\n",
              "2392                        42                         11   \n",
              "2697                        44                         26   \n",
              "2867                        45                          3   \n",
              "2877                        45                          3   \n",
              "2878                        45                          3   \n",
              "\n",
              "      stays_in_weekend_nights  stays_in_week_nights  adults  children  ...  \\\n",
              "2392                        2                     0       2       0.0  ...   \n",
              "2697                        7                    15       1       0.0  ...   \n",
              "2867                        0                     3       2       0.0  ...   \n",
              "2877                        2                    10       1       0.0  ...   \n",
              "2878                        3                    10       2       0.0  ...   \n",
              "\n",
              "      is_repeated_guest previous_cancellations  \\\n",
              "2392                  0                      0   \n",
              "2697                  0                      0   \n",
              "2867                  0                      0   \n",
              "2877                  0                      0   \n",
              "2878                  0                      0   \n",
              "\n",
              "      previous_bookings_not_canceled  booking_changes  agent  company  \\\n",
              "2392                               0                1  240.0    113.0   \n",
              "2697                               0                2  185.0    281.0   \n",
              "2867                               0                1  334.0    281.0   \n",
              "2877                               0                2  328.0    281.0   \n",
              "2878                               0                2  326.0    281.0   \n",
              "\n",
              "      days_in_waiting_list   adr  required_car_parking_spaces  \\\n",
              "2392                     0  82.0                            1   \n",
              "2697                     0  52.2                            0   \n",
              "2867                     0  48.0                            0   \n",
              "2877                     0  40.0                            0   \n",
              "2878                     0  48.0                            0   \n",
              "\n",
              "      total_of_special_requests  \n",
              "2392                          1  \n",
              "2697                          0  \n",
              "2867                          0  \n",
              "2877                          0  \n",
              "2878                          0  \n",
              "\n",
              "[5 rows x 22 columns]"
            ],
            "text/html": [
              "\n",
              "  <div id=\"df-3260589f-af40-4a3e-a6d3-7ddd6be159c9\" class=\"colab-df-container\">\n",
              "    <div>\n",
              "<style scoped>\n",
              "    .dataframe tbody tr th:only-of-type {\n",
              "        vertical-align: middle;\n",
              "    }\n",
              "\n",
              "    .dataframe tbody tr th {\n",
              "        vertical-align: top;\n",
              "    }\n",
              "\n",
              "    .dataframe thead th {\n",
              "        text-align: right;\n",
              "    }\n",
              "</style>\n",
              "<table border=\"1\" class=\"dataframe\">\n",
              "  <thead>\n",
              "    <tr style=\"text-align: right;\">\n",
              "      <th></th>\n",
              "      <th>is_canceled</th>\n",
              "      <th>lead_time</th>\n",
              "      <th>arrival_date_year</th>\n",
              "      <th>arrival_date_month</th>\n",
              "      <th>arrival_date_week_number</th>\n",
              "      <th>arrival_date_day_of_month</th>\n",
              "      <th>stays_in_weekend_nights</th>\n",
              "      <th>stays_in_week_nights</th>\n",
              "      <th>adults</th>\n",
              "      <th>children</th>\n",
              "      <th>...</th>\n",
              "      <th>is_repeated_guest</th>\n",
              "      <th>previous_cancellations</th>\n",
              "      <th>previous_bookings_not_canceled</th>\n",
              "      <th>booking_changes</th>\n",
              "      <th>agent</th>\n",
              "      <th>company</th>\n",
              "      <th>days_in_waiting_list</th>\n",
              "      <th>adr</th>\n",
              "      <th>required_car_parking_spaces</th>\n",
              "      <th>total_of_special_requests</th>\n",
              "    </tr>\n",
              "  </thead>\n",
              "  <tbody>\n",
              "    <tr>\n",
              "      <th>2392</th>\n",
              "      <td>0</td>\n",
              "      <td>6</td>\n",
              "      <td>2015</td>\n",
              "      <td>October</td>\n",
              "      <td>42</td>\n",
              "      <td>11</td>\n",
              "      <td>2</td>\n",
              "      <td>0</td>\n",
              "      <td>2</td>\n",
              "      <td>0.0</td>\n",
              "      <td>...</td>\n",
              "      <td>0</td>\n",
              "      <td>0</td>\n",
              "      <td>0</td>\n",
              "      <td>1</td>\n",
              "      <td>240.0</td>\n",
              "      <td>113.0</td>\n",
              "      <td>0</td>\n",
              "      <td>82.0</td>\n",
              "      <td>1</td>\n",
              "      <td>1</td>\n",
              "    </tr>\n",
              "    <tr>\n",
              "      <th>2697</th>\n",
              "      <td>0</td>\n",
              "      <td>24</td>\n",
              "      <td>2015</td>\n",
              "      <td>October</td>\n",
              "      <td>44</td>\n",
              "      <td>26</td>\n",
              "      <td>7</td>\n",
              "      <td>15</td>\n",
              "      <td>1</td>\n",
              "      <td>0.0</td>\n",
              "      <td>...</td>\n",
              "      <td>0</td>\n",
              "      <td>0</td>\n",
              "      <td>0</td>\n",
              "      <td>2</td>\n",
              "      <td>185.0</td>\n",
              "      <td>281.0</td>\n",
              "      <td>0</td>\n",
              "      <td>52.2</td>\n",
              "      <td>0</td>\n",
              "      <td>0</td>\n",
              "    </tr>\n",
              "    <tr>\n",
              "      <th>2867</th>\n",
              "      <td>0</td>\n",
              "      <td>24</td>\n",
              "      <td>2015</td>\n",
              "      <td>November</td>\n",
              "      <td>45</td>\n",
              "      <td>3</td>\n",
              "      <td>0</td>\n",
              "      <td>3</td>\n",
              "      <td>2</td>\n",
              "      <td>0.0</td>\n",
              "      <td>...</td>\n",
              "      <td>0</td>\n",
              "      <td>0</td>\n",
              "      <td>0</td>\n",
              "      <td>1</td>\n",
              "      <td>334.0</td>\n",
              "      <td>281.0</td>\n",
              "      <td>0</td>\n",
              "      <td>48.0</td>\n",
              "      <td>0</td>\n",
              "      <td>0</td>\n",
              "    </tr>\n",
              "    <tr>\n",
              "      <th>2877</th>\n",
              "      <td>0</td>\n",
              "      <td>24</td>\n",
              "      <td>2015</td>\n",
              "      <td>November</td>\n",
              "      <td>45</td>\n",
              "      <td>3</td>\n",
              "      <td>2</td>\n",
              "      <td>10</td>\n",
              "      <td>1</td>\n",
              "      <td>0.0</td>\n",
              "      <td>...</td>\n",
              "      <td>0</td>\n",
              "      <td>0</td>\n",
              "      <td>0</td>\n",
              "      <td>2</td>\n",
              "      <td>328.0</td>\n",
              "      <td>281.0</td>\n",
              "      <td>0</td>\n",
              "      <td>40.0</td>\n",
              "      <td>0</td>\n",
              "      <td>0</td>\n",
              "    </tr>\n",
              "    <tr>\n",
              "      <th>2878</th>\n",
              "      <td>0</td>\n",
              "      <td>24</td>\n",
              "      <td>2015</td>\n",
              "      <td>November</td>\n",
              "      <td>45</td>\n",
              "      <td>3</td>\n",
              "      <td>3</td>\n",
              "      <td>10</td>\n",
              "      <td>2</td>\n",
              "      <td>0.0</td>\n",
              "      <td>...</td>\n",
              "      <td>0</td>\n",
              "      <td>0</td>\n",
              "      <td>0</td>\n",
              "      <td>2</td>\n",
              "      <td>326.0</td>\n",
              "      <td>281.0</td>\n",
              "      <td>0</td>\n",
              "      <td>48.0</td>\n",
              "      <td>0</td>\n",
              "      <td>0</td>\n",
              "    </tr>\n",
              "  </tbody>\n",
              "</table>\n",
              "<p>5 rows × 22 columns</p>\n",
              "</div>\n",
              "    <div class=\"colab-df-buttons\">\n",
              "\n",
              "  <div class=\"colab-df-container\">\n",
              "    <button class=\"colab-df-convert\" onclick=\"convertToInteractive('df-3260589f-af40-4a3e-a6d3-7ddd6be159c9')\"\n",
              "            title=\"Convert this dataframe to an interactive table.\"\n",
              "            style=\"display:none;\">\n",
              "\n",
              "  <svg xmlns=\"http://www.w3.org/2000/svg\" height=\"24px\" viewBox=\"0 -960 960 960\">\n",
              "    <path d=\"M120-120v-720h720v720H120Zm60-500h600v-160H180v160Zm220 220h160v-160H400v160Zm0 220h160v-160H400v160ZM180-400h160v-160H180v160Zm440 0h160v-160H620v160ZM180-180h160v-160H180v160Zm440 0h160v-160H620v160Z\"/>\n",
              "  </svg>\n",
              "    </button>\n",
              "\n",
              "  <style>\n",
              "    .colab-df-container {\n",
              "      display:flex;\n",
              "      gap: 12px;\n",
              "    }\n",
              "\n",
              "    .colab-df-convert {\n",
              "      background-color: #E8F0FE;\n",
              "      border: none;\n",
              "      border-radius: 50%;\n",
              "      cursor: pointer;\n",
              "      display: none;\n",
              "      fill: #1967D2;\n",
              "      height: 32px;\n",
              "      padding: 0 0 0 0;\n",
              "      width: 32px;\n",
              "    }\n",
              "\n",
              "    .colab-df-convert:hover {\n",
              "      background-color: #E2EBFA;\n",
              "      box-shadow: 0px 1px 2px rgba(60, 64, 67, 0.3), 0px 1px 3px 1px rgba(60, 64, 67, 0.15);\n",
              "      fill: #174EA6;\n",
              "    }\n",
              "\n",
              "    .colab-df-buttons div {\n",
              "      margin-bottom: 4px;\n",
              "    }\n",
              "\n",
              "    [theme=dark] .colab-df-convert {\n",
              "      background-color: #3B4455;\n",
              "      fill: #D2E3FC;\n",
              "    }\n",
              "\n",
              "    [theme=dark] .colab-df-convert:hover {\n",
              "      background-color: #434B5C;\n",
              "      box-shadow: 0px 1px 3px 1px rgba(0, 0, 0, 0.15);\n",
              "      filter: drop-shadow(0px 1px 2px rgba(0, 0, 0, 0.3));\n",
              "      fill: #FFFFFF;\n",
              "    }\n",
              "  </style>\n",
              "\n",
              "    <script>\n",
              "      const buttonEl =\n",
              "        document.querySelector('#df-3260589f-af40-4a3e-a6d3-7ddd6be159c9 button.colab-df-convert');\n",
              "      buttonEl.style.display =\n",
              "        google.colab.kernel.accessAllowed ? 'block' : 'none';\n",
              "\n",
              "      async function convertToInteractive(key) {\n",
              "        const element = document.querySelector('#df-3260589f-af40-4a3e-a6d3-7ddd6be159c9');\n",
              "        const dataTable =\n",
              "          await google.colab.kernel.invokeFunction('convertToInteractive',\n",
              "                                                    [key], {});\n",
              "        if (!dataTable) return;\n",
              "\n",
              "        const docLinkHtml = 'Like what you see? Visit the ' +\n",
              "          '<a target=\"_blank\" href=https://colab.research.google.com/notebooks/data_table.ipynb>data table notebook</a>'\n",
              "          + ' to learn more about interactive tables.';\n",
              "        element.innerHTML = '';\n",
              "        dataTable['output_type'] = 'display_data';\n",
              "        await google.colab.output.renderOutput(dataTable, element);\n",
              "        const docLink = document.createElement('div');\n",
              "        docLink.innerHTML = docLinkHtml;\n",
              "        element.appendChild(docLink);\n",
              "      }\n",
              "    </script>\n",
              "  </div>\n",
              "\n",
              "\n",
              "<div id=\"df-4d65d351-355a-4d92-beca-b3119360df51\">\n",
              "  <button class=\"colab-df-quickchart\" onclick=\"quickchart('df-4d65d351-355a-4d92-beca-b3119360df51')\"\n",
              "            title=\"Suggest charts\"\n",
              "            style=\"display:none;\">\n",
              "\n",
              "<svg xmlns=\"http://www.w3.org/2000/svg\" height=\"24px\"viewBox=\"0 0 24 24\"\n",
              "     width=\"24px\">\n",
              "    <g>\n",
              "        <path d=\"M19 3H5c-1.1 0-2 .9-2 2v14c0 1.1.9 2 2 2h14c1.1 0 2-.9 2-2V5c0-1.1-.9-2-2-2zM9 17H7v-7h2v7zm4 0h-2V7h2v10zm4 0h-2v-4h2v4z\"/>\n",
              "    </g>\n",
              "</svg>\n",
              "  </button>\n",
              "\n",
              "<style>\n",
              "  .colab-df-quickchart {\n",
              "      --bg-color: #E8F0FE;\n",
              "      --fill-color: #1967D2;\n",
              "      --hover-bg-color: #E2EBFA;\n",
              "      --hover-fill-color: #174EA6;\n",
              "      --disabled-fill-color: #AAA;\n",
              "      --disabled-bg-color: #DDD;\n",
              "  }\n",
              "\n",
              "  [theme=dark] .colab-df-quickchart {\n",
              "      --bg-color: #3B4455;\n",
              "      --fill-color: #D2E3FC;\n",
              "      --hover-bg-color: #434B5C;\n",
              "      --hover-fill-color: #FFFFFF;\n",
              "      --disabled-bg-color: #3B4455;\n",
              "      --disabled-fill-color: #666;\n",
              "  }\n",
              "\n",
              "  .colab-df-quickchart {\n",
              "    background-color: var(--bg-color);\n",
              "    border: none;\n",
              "    border-radius: 50%;\n",
              "    cursor: pointer;\n",
              "    display: none;\n",
              "    fill: var(--fill-color);\n",
              "    height: 32px;\n",
              "    padding: 0;\n",
              "    width: 32px;\n",
              "  }\n",
              "\n",
              "  .colab-df-quickchart:hover {\n",
              "    background-color: var(--hover-bg-color);\n",
              "    box-shadow: 0 1px 2px rgba(60, 64, 67, 0.3), 0 1px 3px 1px rgba(60, 64, 67, 0.15);\n",
              "    fill: var(--button-hover-fill-color);\n",
              "  }\n",
              "\n",
              "  .colab-df-quickchart-complete:disabled,\n",
              "  .colab-df-quickchart-complete:disabled:hover {\n",
              "    background-color: var(--disabled-bg-color);\n",
              "    fill: var(--disabled-fill-color);\n",
              "    box-shadow: none;\n",
              "  }\n",
              "\n",
              "  .colab-df-spinner {\n",
              "    border: 2px solid var(--fill-color);\n",
              "    border-color: transparent;\n",
              "    border-bottom-color: var(--fill-color);\n",
              "    animation:\n",
              "      spin 1s steps(1) infinite;\n",
              "  }\n",
              "\n",
              "  @keyframes spin {\n",
              "    0% {\n",
              "      border-color: transparent;\n",
              "      border-bottom-color: var(--fill-color);\n",
              "      border-left-color: var(--fill-color);\n",
              "    }\n",
              "    20% {\n",
              "      border-color: transparent;\n",
              "      border-left-color: var(--fill-color);\n",
              "      border-top-color: var(--fill-color);\n",
              "    }\n",
              "    30% {\n",
              "      border-color: transparent;\n",
              "      border-left-color: var(--fill-color);\n",
              "      border-top-color: var(--fill-color);\n",
              "      border-right-color: var(--fill-color);\n",
              "    }\n",
              "    40% {\n",
              "      border-color: transparent;\n",
              "      border-right-color: var(--fill-color);\n",
              "      border-top-color: var(--fill-color);\n",
              "    }\n",
              "    60% {\n",
              "      border-color: transparent;\n",
              "      border-right-color: var(--fill-color);\n",
              "    }\n",
              "    80% {\n",
              "      border-color: transparent;\n",
              "      border-right-color: var(--fill-color);\n",
              "      border-bottom-color: var(--fill-color);\n",
              "    }\n",
              "    90% {\n",
              "      border-color: transparent;\n",
              "      border-bottom-color: var(--fill-color);\n",
              "    }\n",
              "  }\n",
              "</style>\n",
              "\n",
              "  <script>\n",
              "    async function quickchart(key) {\n",
              "      const quickchartButtonEl =\n",
              "        document.querySelector('#' + key + ' button');\n",
              "      quickchartButtonEl.disabled = true;  // To prevent multiple clicks.\n",
              "      quickchartButtonEl.classList.add('colab-df-spinner');\n",
              "      try {\n",
              "        const charts = await google.colab.kernel.invokeFunction(\n",
              "            'suggestCharts', [key], {});\n",
              "      } catch (error) {\n",
              "        console.error('Error during call to suggestCharts:', error);\n",
              "      }\n",
              "      quickchartButtonEl.classList.remove('colab-df-spinner');\n",
              "      quickchartButtonEl.classList.add('colab-df-quickchart-complete');\n",
              "    }\n",
              "    (() => {\n",
              "      let quickchartButtonEl =\n",
              "        document.querySelector('#df-4d65d351-355a-4d92-beca-b3119360df51 button');\n",
              "      quickchartButtonEl.style.display =\n",
              "        google.colab.kernel.accessAllowed ? 'block' : 'none';\n",
              "    })();\n",
              "  </script>\n",
              "</div>\n",
              "    </div>\n",
              "  </div>\n"
            ],
            "application/vnd.google.colaboratory.intrinsic+json": {
              "type": "dataframe",
              "variable_name": "X"
            }
          },
          "metadata": {},
          "execution_count": 281
        }
      ]
    },
    {
      "cell_type": "code",
      "source": [
        "cat_cols=X.columns[X.dtypes == \"object\"]\n",
        "num_cols=X.columns[(X.dtypes == \"float64\")|(X.dtypes ==\"int64\")]"
      ],
      "metadata": {
        "id": "w-LiMu_k5bsk"
      },
      "execution_count": 282,
      "outputs": []
    },
    {
      "cell_type": "code",
      "source": [
        "num_cols"
      ],
      "metadata": {
        "colab": {
          "base_uri": "https://localhost:8080/",
          "height": 0
        },
        "id": "zlYlbrmivPd8",
        "outputId": "0bf87a7c-9c5c-46aa-c481-1606e1ca898d"
      },
      "execution_count": 283,
      "outputs": [
        {
          "output_type": "execute_result",
          "data": {
            "text/plain": [
              "Index(['is_canceled', 'lead_time', 'arrival_date_year',\n",
              "       'arrival_date_week_number', 'arrival_date_day_of_month',\n",
              "       'stays_in_weekend_nights', 'stays_in_week_nights', 'adults', 'children',\n",
              "       'babies', 'is_repeated_guest', 'previous_cancellations',\n",
              "       'previous_bookings_not_canceled', 'booking_changes', 'agent', 'company',\n",
              "       'days_in_waiting_list', 'adr', 'required_car_parking_spaces',\n",
              "       'total_of_special_requests'],\n",
              "      dtype='object')"
            ]
          },
          "metadata": {},
          "execution_count": 283
        }
      ]
    },
    {
      "cell_type": "code",
      "source": [
        "cat_cols"
      ],
      "metadata": {
        "colab": {
          "base_uri": "https://localhost:8080/",
          "height": 0
        },
        "id": "w6-WcMV_vT9a",
        "outputId": "5e47edfb-baed-42d3-a83c-2c97208baeac"
      },
      "execution_count": 284,
      "outputs": [
        {
          "output_type": "execute_result",
          "data": {
            "text/plain": [
              "Index(['arrival_date_month', 'meal'], dtype='object')"
            ]
          },
          "metadata": {},
          "execution_count": 284
        }
      ]
    },
    {
      "cell_type": "code",
      "source": [
        "from sklearn import model_selection\n",
        "y = data['is_canceled']\n",
        "X_train,X_test,y_train,y_test = model_selection.train_test_split(X,y,test_size=0.25,stratify = y,random_state=1)\n",
        "print(\"train data has\"+ str(X_train.shape[0])+\"observation with\"+ str(X_train.shape[1])+ \"features\")\n",
        "print(\"test data has\"+str(X_test.shape[0])+\"observation with\"+str(X_test.shape[1])+ \"features\")"
      ],
      "metadata": {
        "colab": {
          "base_uri": "https://localhost:8080/",
          "height": 0
        },
        "id": "CnN4LkcDwJPk",
        "outputId": "96fd053b-3985-4887-ad66-f0103bd3f2ef"
      },
      "execution_count": 285,
      "outputs": [
        {
          "output_type": "stream",
          "name": "stdout",
          "text": [
            "train data has141observation with22features\n",
            "test data has48observation with22features\n"
          ]
        }
      ]
    },
    {
      "cell_type": "code",
      "source": [
        "data_train.head()"
      ],
      "metadata": {
        "colab": {
          "base_uri": "https://localhost:8080/",
          "height": 360
        },
        "id": "w6l0Wos8yJvc",
        "outputId": "1b2433b7-76c7-4218-d724-cc91635d6d1a"
      },
      "execution_count": 286,
      "outputs": [
        {
          "output_type": "execute_result",
          "data": {
            "text/plain": [
              "          hotel  is_canceled  lead_time  arrival_date_year arrival_date_month  \\\n",
              "0  Resort Hotel    -0.304997   0.056076          -0.699663           November   \n",
              "1  Resort Hotel    -0.304997   4.598244           2.003144               June   \n",
              "2    City Hotel    -0.304997  -0.712968          -0.699663             August   \n",
              "3  Resort Hotel    -0.304997  -0.592805           2.003144            January   \n",
              "4  Resort Hotel    -0.304997  -0.688935           0.651741               July   \n",
              "\n",
              "   arrival_date_week_number  arrival_date_day_of_month  \\\n",
              "0                  0.631829                   0.071093   \n",
              "1                 -0.922441                   0.194848   \n",
              "2                 -0.286603                  -0.176417   \n",
              "3                 -2.335414                   1.556154   \n",
              "4                 -0.639846                  -0.300172   \n",
              "\n",
              "   stays_in_weekend_nights  stays_in_week_nights    adults  ...       adr  \\\n",
              "0                -0.927984             -0.646335 -0.755911  ... -0.704206   \n",
              "1                 0.387048              0.192314  1.181970  ...  0.822928   \n",
              "2                -0.270468             -0.925884  1.181970  ...  1.267921   \n",
              "3                -0.927984             -0.925884 -0.755911  ... -0.527220   \n",
              "4                -0.927984             -0.925884  1.181970  ...  4.605366   \n",
              "\n",
              "   required_car_parking_spaces total_of_special_requests reservation_status  \\\n",
              "0                    -0.382546                 -0.401394          Check-Out   \n",
              "1                    -0.382546                 -0.401394          Check-Out   \n",
              "2                    -0.382546                 -0.401394          Check-Out   \n",
              "3                    -0.382546                 -0.401394          Check-Out   \n",
              "4                    -0.382546                 -0.401394          Check-Out   \n",
              "\n",
              "  reservation_status_date  market_segment_Complementary  \\\n",
              "0              2015-11-14                           0.0   \n",
              "1              2017-06-20                           0.0   \n",
              "2              2015-08-12                           0.0   \n",
              "3              2017-01-25                           0.0   \n",
              "4              2016-07-10                           0.0   \n",
              "\n",
              "   market_segment_Corporate  market_segment_Direct  \\\n",
              "0                       1.0                    0.0   \n",
              "1                       0.0                    0.0   \n",
              "2                       0.0                    0.0   \n",
              "3                       0.0                    0.0   \n",
              "4                       0.0                    1.0   \n",
              "\n",
              "  market_segment_Offline TA/TO market_segment_Online TA  \n",
              "0                          0.0                      0.0  \n",
              "1                          1.0                      0.0  \n",
              "2                          0.0                      1.0  \n",
              "3                          0.0                      1.0  \n",
              "4                          0.0                      0.0  \n",
              "\n",
              "[5 rows x 36 columns]"
            ],
            "text/html": [
              "\n",
              "  <div id=\"df-60255431-e540-4ecf-9833-c2f7ed30308a\" class=\"colab-df-container\">\n",
              "    <div>\n",
              "<style scoped>\n",
              "    .dataframe tbody tr th:only-of-type {\n",
              "        vertical-align: middle;\n",
              "    }\n",
              "\n",
              "    .dataframe tbody tr th {\n",
              "        vertical-align: top;\n",
              "    }\n",
              "\n",
              "    .dataframe thead th {\n",
              "        text-align: right;\n",
              "    }\n",
              "</style>\n",
              "<table border=\"1\" class=\"dataframe\">\n",
              "  <thead>\n",
              "    <tr style=\"text-align: right;\">\n",
              "      <th></th>\n",
              "      <th>hotel</th>\n",
              "      <th>is_canceled</th>\n",
              "      <th>lead_time</th>\n",
              "      <th>arrival_date_year</th>\n",
              "      <th>arrival_date_month</th>\n",
              "      <th>arrival_date_week_number</th>\n",
              "      <th>arrival_date_day_of_month</th>\n",
              "      <th>stays_in_weekend_nights</th>\n",
              "      <th>stays_in_week_nights</th>\n",
              "      <th>adults</th>\n",
              "      <th>...</th>\n",
              "      <th>adr</th>\n",
              "      <th>required_car_parking_spaces</th>\n",
              "      <th>total_of_special_requests</th>\n",
              "      <th>reservation_status</th>\n",
              "      <th>reservation_status_date</th>\n",
              "      <th>market_segment_Complementary</th>\n",
              "      <th>market_segment_Corporate</th>\n",
              "      <th>market_segment_Direct</th>\n",
              "      <th>market_segment_Offline TA/TO</th>\n",
              "      <th>market_segment_Online TA</th>\n",
              "    </tr>\n",
              "  </thead>\n",
              "  <tbody>\n",
              "    <tr>\n",
              "      <th>0</th>\n",
              "      <td>Resort Hotel</td>\n",
              "      <td>-0.304997</td>\n",
              "      <td>0.056076</td>\n",
              "      <td>-0.699663</td>\n",
              "      <td>November</td>\n",
              "      <td>0.631829</td>\n",
              "      <td>0.071093</td>\n",
              "      <td>-0.927984</td>\n",
              "      <td>-0.646335</td>\n",
              "      <td>-0.755911</td>\n",
              "      <td>...</td>\n",
              "      <td>-0.704206</td>\n",
              "      <td>-0.382546</td>\n",
              "      <td>-0.401394</td>\n",
              "      <td>Check-Out</td>\n",
              "      <td>2015-11-14</td>\n",
              "      <td>0.0</td>\n",
              "      <td>1.0</td>\n",
              "      <td>0.0</td>\n",
              "      <td>0.0</td>\n",
              "      <td>0.0</td>\n",
              "    </tr>\n",
              "    <tr>\n",
              "      <th>1</th>\n",
              "      <td>Resort Hotel</td>\n",
              "      <td>-0.304997</td>\n",
              "      <td>4.598244</td>\n",
              "      <td>2.003144</td>\n",
              "      <td>June</td>\n",
              "      <td>-0.922441</td>\n",
              "      <td>0.194848</td>\n",
              "      <td>0.387048</td>\n",
              "      <td>0.192314</td>\n",
              "      <td>1.181970</td>\n",
              "      <td>...</td>\n",
              "      <td>0.822928</td>\n",
              "      <td>-0.382546</td>\n",
              "      <td>-0.401394</td>\n",
              "      <td>Check-Out</td>\n",
              "      <td>2017-06-20</td>\n",
              "      <td>0.0</td>\n",
              "      <td>0.0</td>\n",
              "      <td>0.0</td>\n",
              "      <td>1.0</td>\n",
              "      <td>0.0</td>\n",
              "    </tr>\n",
              "    <tr>\n",
              "      <th>2</th>\n",
              "      <td>City Hotel</td>\n",
              "      <td>-0.304997</td>\n",
              "      <td>-0.712968</td>\n",
              "      <td>-0.699663</td>\n",
              "      <td>August</td>\n",
              "      <td>-0.286603</td>\n",
              "      <td>-0.176417</td>\n",
              "      <td>-0.270468</td>\n",
              "      <td>-0.925884</td>\n",
              "      <td>1.181970</td>\n",
              "      <td>...</td>\n",
              "      <td>1.267921</td>\n",
              "      <td>-0.382546</td>\n",
              "      <td>-0.401394</td>\n",
              "      <td>Check-Out</td>\n",
              "      <td>2015-08-12</td>\n",
              "      <td>0.0</td>\n",
              "      <td>0.0</td>\n",
              "      <td>0.0</td>\n",
              "      <td>0.0</td>\n",
              "      <td>1.0</td>\n",
              "    </tr>\n",
              "    <tr>\n",
              "      <th>3</th>\n",
              "      <td>Resort Hotel</td>\n",
              "      <td>-0.304997</td>\n",
              "      <td>-0.592805</td>\n",
              "      <td>2.003144</td>\n",
              "      <td>January</td>\n",
              "      <td>-2.335414</td>\n",
              "      <td>1.556154</td>\n",
              "      <td>-0.927984</td>\n",
              "      <td>-0.925884</td>\n",
              "      <td>-0.755911</td>\n",
              "      <td>...</td>\n",
              "      <td>-0.527220</td>\n",
              "      <td>-0.382546</td>\n",
              "      <td>-0.401394</td>\n",
              "      <td>Check-Out</td>\n",
              "      <td>2017-01-25</td>\n",
              "      <td>0.0</td>\n",
              "      <td>0.0</td>\n",
              "      <td>0.0</td>\n",
              "      <td>0.0</td>\n",
              "      <td>1.0</td>\n",
              "    </tr>\n",
              "    <tr>\n",
              "      <th>4</th>\n",
              "      <td>Resort Hotel</td>\n",
              "      <td>-0.304997</td>\n",
              "      <td>-0.688935</td>\n",
              "      <td>0.651741</td>\n",
              "      <td>July</td>\n",
              "      <td>-0.639846</td>\n",
              "      <td>-0.300172</td>\n",
              "      <td>-0.927984</td>\n",
              "      <td>-0.925884</td>\n",
              "      <td>1.181970</td>\n",
              "      <td>...</td>\n",
              "      <td>4.605366</td>\n",
              "      <td>-0.382546</td>\n",
              "      <td>-0.401394</td>\n",
              "      <td>Check-Out</td>\n",
              "      <td>2016-07-10</td>\n",
              "      <td>0.0</td>\n",
              "      <td>0.0</td>\n",
              "      <td>1.0</td>\n",
              "      <td>0.0</td>\n",
              "      <td>0.0</td>\n",
              "    </tr>\n",
              "  </tbody>\n",
              "</table>\n",
              "<p>5 rows × 36 columns</p>\n",
              "</div>\n",
              "    <div class=\"colab-df-buttons\">\n",
              "\n",
              "  <div class=\"colab-df-container\">\n",
              "    <button class=\"colab-df-convert\" onclick=\"convertToInteractive('df-60255431-e540-4ecf-9833-c2f7ed30308a')\"\n",
              "            title=\"Convert this dataframe to an interactive table.\"\n",
              "            style=\"display:none;\">\n",
              "\n",
              "  <svg xmlns=\"http://www.w3.org/2000/svg\" height=\"24px\" viewBox=\"0 -960 960 960\">\n",
              "    <path d=\"M120-120v-720h720v720H120Zm60-500h600v-160H180v160Zm220 220h160v-160H400v160Zm0 220h160v-160H400v160ZM180-400h160v-160H180v160Zm440 0h160v-160H620v160ZM180-180h160v-160H180v160Zm440 0h160v-160H620v160Z\"/>\n",
              "  </svg>\n",
              "    </button>\n",
              "\n",
              "  <style>\n",
              "    .colab-df-container {\n",
              "      display:flex;\n",
              "      gap: 12px;\n",
              "    }\n",
              "\n",
              "    .colab-df-convert {\n",
              "      background-color: #E8F0FE;\n",
              "      border: none;\n",
              "      border-radius: 50%;\n",
              "      cursor: pointer;\n",
              "      display: none;\n",
              "      fill: #1967D2;\n",
              "      height: 32px;\n",
              "      padding: 0 0 0 0;\n",
              "      width: 32px;\n",
              "    }\n",
              "\n",
              "    .colab-df-convert:hover {\n",
              "      background-color: #E2EBFA;\n",
              "      box-shadow: 0px 1px 2px rgba(60, 64, 67, 0.3), 0px 1px 3px 1px rgba(60, 64, 67, 0.15);\n",
              "      fill: #174EA6;\n",
              "    }\n",
              "\n",
              "    .colab-df-buttons div {\n",
              "      margin-bottom: 4px;\n",
              "    }\n",
              "\n",
              "    [theme=dark] .colab-df-convert {\n",
              "      background-color: #3B4455;\n",
              "      fill: #D2E3FC;\n",
              "    }\n",
              "\n",
              "    [theme=dark] .colab-df-convert:hover {\n",
              "      background-color: #434B5C;\n",
              "      box-shadow: 0px 1px 3px 1px rgba(0, 0, 0, 0.15);\n",
              "      filter: drop-shadow(0px 1px 2px rgba(0, 0, 0, 0.3));\n",
              "      fill: #FFFFFF;\n",
              "    }\n",
              "  </style>\n",
              "\n",
              "    <script>\n",
              "      const buttonEl =\n",
              "        document.querySelector('#df-60255431-e540-4ecf-9833-c2f7ed30308a button.colab-df-convert');\n",
              "      buttonEl.style.display =\n",
              "        google.colab.kernel.accessAllowed ? 'block' : 'none';\n",
              "\n",
              "      async function convertToInteractive(key) {\n",
              "        const element = document.querySelector('#df-60255431-e540-4ecf-9833-c2f7ed30308a');\n",
              "        const dataTable =\n",
              "          await google.colab.kernel.invokeFunction('convertToInteractive',\n",
              "                                                    [key], {});\n",
              "        if (!dataTable) return;\n",
              "\n",
              "        const docLinkHtml = 'Like what you see? Visit the ' +\n",
              "          '<a target=\"_blank\" href=https://colab.research.google.com/notebooks/data_table.ipynb>data table notebook</a>'\n",
              "          + ' to learn more about interactive tables.';\n",
              "        element.innerHTML = '';\n",
              "        dataTable['output_type'] = 'display_data';\n",
              "        await google.colab.output.renderOutput(dataTable, element);\n",
              "        const docLink = document.createElement('div');\n",
              "        docLink.innerHTML = docLinkHtml;\n",
              "        element.appendChild(docLink);\n",
              "      }\n",
              "    </script>\n",
              "  </div>\n",
              "\n",
              "\n",
              "<div id=\"df-7d65c1d1-35f8-4cba-aef0-f2399c889f08\">\n",
              "  <button class=\"colab-df-quickchart\" onclick=\"quickchart('df-7d65c1d1-35f8-4cba-aef0-f2399c889f08')\"\n",
              "            title=\"Suggest charts\"\n",
              "            style=\"display:none;\">\n",
              "\n",
              "<svg xmlns=\"http://www.w3.org/2000/svg\" height=\"24px\"viewBox=\"0 0 24 24\"\n",
              "     width=\"24px\">\n",
              "    <g>\n",
              "        <path d=\"M19 3H5c-1.1 0-2 .9-2 2v14c0 1.1.9 2 2 2h14c1.1 0 2-.9 2-2V5c0-1.1-.9-2-2-2zM9 17H7v-7h2v7zm4 0h-2V7h2v10zm4 0h-2v-4h2v4z\"/>\n",
              "    </g>\n",
              "</svg>\n",
              "  </button>\n",
              "\n",
              "<style>\n",
              "  .colab-df-quickchart {\n",
              "      --bg-color: #E8F0FE;\n",
              "      --fill-color: #1967D2;\n",
              "      --hover-bg-color: #E2EBFA;\n",
              "      --hover-fill-color: #174EA6;\n",
              "      --disabled-fill-color: #AAA;\n",
              "      --disabled-bg-color: #DDD;\n",
              "  }\n",
              "\n",
              "  [theme=dark] .colab-df-quickchart {\n",
              "      --bg-color: #3B4455;\n",
              "      --fill-color: #D2E3FC;\n",
              "      --hover-bg-color: #434B5C;\n",
              "      --hover-fill-color: #FFFFFF;\n",
              "      --disabled-bg-color: #3B4455;\n",
              "      --disabled-fill-color: #666;\n",
              "  }\n",
              "\n",
              "  .colab-df-quickchart {\n",
              "    background-color: var(--bg-color);\n",
              "    border: none;\n",
              "    border-radius: 50%;\n",
              "    cursor: pointer;\n",
              "    display: none;\n",
              "    fill: var(--fill-color);\n",
              "    height: 32px;\n",
              "    padding: 0;\n",
              "    width: 32px;\n",
              "  }\n",
              "\n",
              "  .colab-df-quickchart:hover {\n",
              "    background-color: var(--hover-bg-color);\n",
              "    box-shadow: 0 1px 2px rgba(60, 64, 67, 0.3), 0 1px 3px 1px rgba(60, 64, 67, 0.15);\n",
              "    fill: var(--button-hover-fill-color);\n",
              "  }\n",
              "\n",
              "  .colab-df-quickchart-complete:disabled,\n",
              "  .colab-df-quickchart-complete:disabled:hover {\n",
              "    background-color: var(--disabled-bg-color);\n",
              "    fill: var(--disabled-fill-color);\n",
              "    box-shadow: none;\n",
              "  }\n",
              "\n",
              "  .colab-df-spinner {\n",
              "    border: 2px solid var(--fill-color);\n",
              "    border-color: transparent;\n",
              "    border-bottom-color: var(--fill-color);\n",
              "    animation:\n",
              "      spin 1s steps(1) infinite;\n",
              "  }\n",
              "\n",
              "  @keyframes spin {\n",
              "    0% {\n",
              "      border-color: transparent;\n",
              "      border-bottom-color: var(--fill-color);\n",
              "      border-left-color: var(--fill-color);\n",
              "    }\n",
              "    20% {\n",
              "      border-color: transparent;\n",
              "      border-left-color: var(--fill-color);\n",
              "      border-top-color: var(--fill-color);\n",
              "    }\n",
              "    30% {\n",
              "      border-color: transparent;\n",
              "      border-left-color: var(--fill-color);\n",
              "      border-top-color: var(--fill-color);\n",
              "      border-right-color: var(--fill-color);\n",
              "    }\n",
              "    40% {\n",
              "      border-color: transparent;\n",
              "      border-right-color: var(--fill-color);\n",
              "      border-top-color: var(--fill-color);\n",
              "    }\n",
              "    60% {\n",
              "      border-color: transparent;\n",
              "      border-right-color: var(--fill-color);\n",
              "    }\n",
              "    80% {\n",
              "      border-color: transparent;\n",
              "      border-right-color: var(--fill-color);\n",
              "      border-bottom-color: var(--fill-color);\n",
              "    }\n",
              "    90% {\n",
              "      border-color: transparent;\n",
              "      border-bottom-color: var(--fill-color);\n",
              "    }\n",
              "  }\n",
              "</style>\n",
              "\n",
              "  <script>\n",
              "    async function quickchart(key) {\n",
              "      const quickchartButtonEl =\n",
              "        document.querySelector('#' + key + ' button');\n",
              "      quickchartButtonEl.disabled = true;  // To prevent multiple clicks.\n",
              "      quickchartButtonEl.classList.add('colab-df-spinner');\n",
              "      try {\n",
              "        const charts = await google.colab.kernel.invokeFunction(\n",
              "            'suggestCharts', [key], {});\n",
              "      } catch (error) {\n",
              "        console.error('Error during call to suggestCharts:', error);\n",
              "      }\n",
              "      quickchartButtonEl.classList.remove('colab-df-spinner');\n",
              "      quickchartButtonEl.classList.add('colab-df-quickchart-complete');\n",
              "    }\n",
              "    (() => {\n",
              "      let quickchartButtonEl =\n",
              "        document.querySelector('#df-7d65c1d1-35f8-4cba-aef0-f2399c889f08 button');\n",
              "      quickchartButtonEl.style.display =\n",
              "        google.colab.kernel.accessAllowed ? 'block' : 'none';\n",
              "    })();\n",
              "  </script>\n",
              "</div>\n",
              "    </div>\n",
              "  </div>\n"
            ],
            "application/vnd.google.colaboratory.intrinsic+json": {
              "type": "dataframe",
              "variable_name": "data_train"
            }
          },
          "metadata": {},
          "execution_count": 286
        }
      ]
    },
    {
      "cell_type": "code",
      "source": [
        "from sklearn.preprocessing import OneHotEncoder\n",
        "def OneHotEncoding(df,enc,categories):\n",
        "  transformed = pd.DataFrame(enc.transform(df[categories]).toarray(),columns=enc.get_feature_names_out(categories))\n",
        "  return pd.concat([df.reset_index(drop=True),transformed],axis=1).drop(categories,axis=1)\n",
        "\n",
        "categories = [\"arrival_date_month\"]\n",
        "enc_ohe = OneHotEncoder()\n",
        "enc_ohe.fit(X_train[categories])\n",
        "\n",
        "X_train=OneHotEncoding(X_train,enc_ohe,categories)\n",
        "X_test=OneHotEncoding(X_test,enc_ohe,categories)"
      ],
      "metadata": {
        "id": "0p9cZYgRDuwP"
      },
      "execution_count": 287,
      "outputs": []
    },
    {
      "cell_type": "code",
      "source": [
        "from sklearn.preprocessing import OrdinalEncoder\n",
        "categories_order = [['FB', 'HB', 'BB','SC']]\n",
        "enc_oe = OrdinalEncoder(categories=categories_order)\n",
        "enc_oe.fit(X_train[[\"meal\"]])\n",
        "\n",
        "X_train[\"meal_encoded\"] = enc_oe.transform(X_train[[\"meal\"]])\n",
        "X_test[\"meal_encoded\"] = enc_oe.transform(X_test[[\"meal\"]])"
      ],
      "metadata": {
        "id": "RzGfp4T1DjRF"
      },
      "execution_count": 288,
      "outputs": []
    },
    {
      "cell_type": "code",
      "source": [
        "from sklearn.preprocessing import StandardScaler\n",
        "scaler = StandardScaler()\n",
        "scaler.fit(data_train[num_cols])\n",
        "data_train[num_cols] = scaler.transform(data_train[num_cols])\n",
        "data_test[num_cols] = scaler.transform(data_test[num_cols])"
      ],
      "metadata": {
        "id": "dhfcDBVOz4pA"
      },
      "execution_count": 289,
      "outputs": []
    },
    {
      "cell_type": "code",
      "source": [
        "from sklearn.ensemble import RandomForestClassifier\n",
        "from sklearn.neighbors import KNeighborsClassifier\n",
        "from sklearn.linear_model import LogisticRegression\n",
        "classifier_logistic = LogisticRegression()\n",
        "classifier_KNN = KNeighborsClassifier()\n",
        "classifier_RF = RandomForestClassifier()"
      ],
      "metadata": {
        "id": "yTlwfIyS69VA"
      },
      "execution_count": 290,
      "outputs": []
    },
    {
      "cell_type": "code",
      "source": [
        "data_train_encoded = pd.get_dummies(data_train, columns=[\"arrival_date_month\",\"meal\"])\n",
        "data_test_encoded = pd.get_dummies(data_test, columns=[\"arrival_date_month\",\"meal\"])\n",
        "encoded_columns = data_train_encoded.columns\n",
        "print(encoded_columns)"
      ],
      "metadata": {
        "colab": {
          "base_uri": "https://localhost:8080/",
          "height": 0
        },
        "id": "uzv24-pK-or0",
        "outputId": "6cfbaf21-bb87-4d0e-b6a3-ed83785cb4da"
      },
      "execution_count": 292,
      "outputs": [
        {
          "output_type": "stream",
          "name": "stdout",
          "text": [
            "Index(['hotel', 'is_canceled', 'lead_time', 'arrival_date_year',\n",
            "       'arrival_date_week_number', 'arrival_date_day_of_month',\n",
            "       'stays_in_weekend_nights', 'stays_in_week_nights', 'adults', 'children',\n",
            "       'babies', 'country', 'distribution_channel', 'is_repeated_guest',\n",
            "       'previous_cancellations', 'previous_bookings_not_canceled',\n",
            "       'reserved_room_type', 'assigned_room_type', 'booking_changes',\n",
            "       'deposit_type', 'agent', 'company', 'days_in_waiting_list',\n",
            "       'customer_type', 'adr', 'required_car_parking_spaces',\n",
            "       'total_of_special_requests', 'reservation_status',\n",
            "       'reservation_status_date', 'market_segment_Complementary',\n",
            "       'market_segment_Corporate', 'market_segment_Direct',\n",
            "       'market_segment_Offline TA/TO', 'market_segment_Online TA',\n",
            "       'arrival_date_month_April', 'arrival_date_month_August',\n",
            "       'arrival_date_month_December', 'arrival_date_month_February',\n",
            "       'arrival_date_month_January', 'arrival_date_month_July',\n",
            "       'arrival_date_month_June', 'arrival_date_month_March',\n",
            "       'arrival_date_month_May', 'arrival_date_month_November',\n",
            "       'arrival_date_month_October', 'arrival_date_month_September', 'meal_BB',\n",
            "       'meal_HB', 'meal_SC'],\n",
            "      dtype='object')\n"
          ]
        }
      ]
    },
    {
      "cell_type": "code",
      "source": [
        "from sklearn.linear_model import LogisticRegression\n",
        "classifier_logistic = LogisticRegression()\n",
        "classifier_logistic.fit(X_train_processed, y_train)"
      ],
      "metadata": {
        "colab": {
          "base_uri": "https://localhost:8080/",
          "height": 238
        },
        "id": "7ktA03j1KBgd",
        "outputId": "a7082825-ea67-4ad7-fed2-f405972aaf58"
      },
      "execution_count": 298,
      "outputs": [
        {
          "output_type": "stream",
          "name": "stderr",
          "text": [
            "/usr/local/lib/python3.10/dist-packages/sklearn/linear_model/_logistic.py:458: ConvergenceWarning: lbfgs failed to converge (status=1):\n",
            "STOP: TOTAL NO. of ITERATIONS REACHED LIMIT.\n",
            "\n",
            "Increase the number of iterations (max_iter) or scale the data as shown in:\n",
            "    https://scikit-learn.org/stable/modules/preprocessing.html\n",
            "Please also refer to the documentation for alternative solver options:\n",
            "    https://scikit-learn.org/stable/modules/linear_model.html#logistic-regression\n",
            "  n_iter_i = _check_optimize_result(\n"
          ]
        },
        {
          "output_type": "execute_result",
          "data": {
            "text/plain": [
              "LogisticRegression()"
            ],
            "text/html": [
              "<style>#sk-container-id-7 {color: black;background-color: white;}#sk-container-id-7 pre{padding: 0;}#sk-container-id-7 div.sk-toggleable {background-color: white;}#sk-container-id-7 label.sk-toggleable__label {cursor: pointer;display: block;width: 100%;margin-bottom: 0;padding: 0.3em;box-sizing: border-box;text-align: center;}#sk-container-id-7 label.sk-toggleable__label-arrow:before {content: \"▸\";float: left;margin-right: 0.25em;color: #696969;}#sk-container-id-7 label.sk-toggleable__label-arrow:hover:before {color: black;}#sk-container-id-7 div.sk-estimator:hover label.sk-toggleable__label-arrow:before {color: black;}#sk-container-id-7 div.sk-toggleable__content {max-height: 0;max-width: 0;overflow: hidden;text-align: left;background-color: #f0f8ff;}#sk-container-id-7 div.sk-toggleable__content pre {margin: 0.2em;color: black;border-radius: 0.25em;background-color: #f0f8ff;}#sk-container-id-7 input.sk-toggleable__control:checked~div.sk-toggleable__content {max-height: 200px;max-width: 100%;overflow: auto;}#sk-container-id-7 input.sk-toggleable__control:checked~label.sk-toggleable__label-arrow:before {content: \"▾\";}#sk-container-id-7 div.sk-estimator input.sk-toggleable__control:checked~label.sk-toggleable__label {background-color: #d4ebff;}#sk-container-id-7 div.sk-label input.sk-toggleable__control:checked~label.sk-toggleable__label {background-color: #d4ebff;}#sk-container-id-7 input.sk-hidden--visually {border: 0;clip: rect(1px 1px 1px 1px);clip: rect(1px, 1px, 1px, 1px);height: 1px;margin: -1px;overflow: hidden;padding: 0;position: absolute;width: 1px;}#sk-container-id-7 div.sk-estimator {font-family: monospace;background-color: #f0f8ff;border: 1px dotted black;border-radius: 0.25em;box-sizing: border-box;margin-bottom: 0.5em;}#sk-container-id-7 div.sk-estimator:hover {background-color: #d4ebff;}#sk-container-id-7 div.sk-parallel-item::after {content: \"\";width: 100%;border-bottom: 1px solid gray;flex-grow: 1;}#sk-container-id-7 div.sk-label:hover label.sk-toggleable__label {background-color: #d4ebff;}#sk-container-id-7 div.sk-serial::before {content: \"\";position: absolute;border-left: 1px solid gray;box-sizing: border-box;top: 0;bottom: 0;left: 50%;z-index: 0;}#sk-container-id-7 div.sk-serial {display: flex;flex-direction: column;align-items: center;background-color: white;padding-right: 0.2em;padding-left: 0.2em;position: relative;}#sk-container-id-7 div.sk-item {position: relative;z-index: 1;}#sk-container-id-7 div.sk-parallel {display: flex;align-items: stretch;justify-content: center;background-color: white;position: relative;}#sk-container-id-7 div.sk-item::before, #sk-container-id-7 div.sk-parallel-item::before {content: \"\";position: absolute;border-left: 1px solid gray;box-sizing: border-box;top: 0;bottom: 0;left: 50%;z-index: -1;}#sk-container-id-7 div.sk-parallel-item {display: flex;flex-direction: column;z-index: 1;position: relative;background-color: white;}#sk-container-id-7 div.sk-parallel-item:first-child::after {align-self: flex-end;width: 50%;}#sk-container-id-7 div.sk-parallel-item:last-child::after {align-self: flex-start;width: 50%;}#sk-container-id-7 div.sk-parallel-item:only-child::after {width: 0;}#sk-container-id-7 div.sk-dashed-wrapped {border: 1px dashed gray;margin: 0 0.4em 0.5em 0.4em;box-sizing: border-box;padding-bottom: 0.4em;background-color: white;}#sk-container-id-7 div.sk-label label {font-family: monospace;font-weight: bold;display: inline-block;line-height: 1.2em;}#sk-container-id-7 div.sk-label-container {text-align: center;}#sk-container-id-7 div.sk-container {/* jupyter's `normalize.less` sets `[hidden] { display: none; }` but bootstrap.min.css set `[hidden] { display: none !important; }` so we also need the `!important` here to be able to override the default hidden behavior on the sphinx rendered scikit-learn.org. See: https://github.com/scikit-learn/scikit-learn/issues/21755 */display: inline-block !important;position: relative;}#sk-container-id-7 div.sk-text-repr-fallback {display: none;}</style><div id=\"sk-container-id-7\" class=\"sk-top-container\"><div class=\"sk-text-repr-fallback\"><pre>LogisticRegression()</pre><b>In a Jupyter environment, please rerun this cell to show the HTML representation or trust the notebook. <br />On GitHub, the HTML representation is unable to render, please try loading this page with nbviewer.org.</b></div><div class=\"sk-container\" hidden><div class=\"sk-item\"><div class=\"sk-estimator sk-toggleable\"><input class=\"sk-toggleable__control sk-hidden--visually\" id=\"sk-estimator-id-7\" type=\"checkbox\" checked><label for=\"sk-estimator-id-7\" class=\"sk-toggleable__label sk-toggleable__label-arrow\">LogisticRegression</label><div class=\"sk-toggleable__content\"><pre>LogisticRegression()</pre></div></div></div></div></div>"
            ]
          },
          "metadata": {},
          "execution_count": 298
        }
      ]
    },
    {
      "cell_type": "code",
      "source": [
        "X_test_processed = X_test.drop(columns=['meal'])\n",
        "predictions = classifier_logistic.predict(X_test_processed)"
      ],
      "metadata": {
        "id": "jTAVkrI9Q8VA"
      },
      "execution_count": 300,
      "outputs": []
    },
    {
      "cell_type": "code",
      "source": [
        "X_test_processed = X_test.drop(columns=['meal'])\n",
        "score = classifier_logistic.score(X_test_processed, y_test)\n",
        "print(\"Accuracy on test set:\", score)"
      ],
      "metadata": {
        "colab": {
          "base_uri": "https://localhost:8080/",
          "height": 0
        },
        "id": "qqoBVqnURJqy",
        "outputId": "b06abf6a-8752-4398-eb50-408829d2698f"
      },
      "execution_count": 304,
      "outputs": [
        {
          "output_type": "stream",
          "name": "stdout",
          "text": [
            "Accuracy on test set: 0.8541666666666666\n"
          ]
        }
      ]
    },
    {
      "cell_type": "code",
      "source": [
        "from sklearn.model_selection import GridSearchCV\n",
        "def print_grid_search_metrics(gs):\n",
        "  print(\"Best score:\"+str(gs.best_score_))\n",
        "  print(\"Best parameters set:\")\n",
        "  best_parameters = gs.best_params_\n",
        "  for param_name in sorted(best_parameters.keys()):\n",
        "    print(param_name+\":\"+str(best_parameters[param_name]))"
      ],
      "metadata": {
        "id": "H_0qmeXhR9uR"
      },
      "execution_count": 305,
      "outputs": []
    },
    {
      "cell_type": "code",
      "source": [
        "parameters = {\n",
        "    'penalty':('l2','l1'),\n",
        "    'C':(0.01, 0.05, 0.1, 0.2, 1)\n",
        "}\n",
        "Grid_LR = GridSearchCV(LogisticRegression(solver='liblinear'),parameters, cv=5)\n",
        "Grid_LR.fit(X_test_processed, y_test)"
      ],
      "metadata": {
        "colab": {
          "base_uri": "https://localhost:8080/",
          "height": 173
        },
        "id": "mA-0ZxS2SN-L",
        "outputId": "cc34f73c-ecf8-4bff-e5df-4a7f0ae57c25"
      },
      "execution_count": 309,
      "outputs": [
        {
          "output_type": "stream",
          "name": "stderr",
          "text": [
            "/usr/local/lib/python3.10/dist-packages/sklearn/model_selection/_split.py:700: UserWarning: The least populated class in y has only 4 members, which is less than n_splits=5.\n",
            "  warnings.warn(\n"
          ]
        },
        {
          "output_type": "execute_result",
          "data": {
            "text/plain": [
              "GridSearchCV(cv=5, estimator=LogisticRegression(solver='liblinear'),\n",
              "             param_grid={'C': (0.01, 0.05, 0.1, 0.2, 1),\n",
              "                         'penalty': ('l2', 'l1')})"
            ],
            "text/html": [
              "<style>#sk-container-id-8 {color: black;background-color: white;}#sk-container-id-8 pre{padding: 0;}#sk-container-id-8 div.sk-toggleable {background-color: white;}#sk-container-id-8 label.sk-toggleable__label {cursor: pointer;display: block;width: 100%;margin-bottom: 0;padding: 0.3em;box-sizing: border-box;text-align: center;}#sk-container-id-8 label.sk-toggleable__label-arrow:before {content: \"▸\";float: left;margin-right: 0.25em;color: #696969;}#sk-container-id-8 label.sk-toggleable__label-arrow:hover:before {color: black;}#sk-container-id-8 div.sk-estimator:hover label.sk-toggleable__label-arrow:before {color: black;}#sk-container-id-8 div.sk-toggleable__content {max-height: 0;max-width: 0;overflow: hidden;text-align: left;background-color: #f0f8ff;}#sk-container-id-8 div.sk-toggleable__content pre {margin: 0.2em;color: black;border-radius: 0.25em;background-color: #f0f8ff;}#sk-container-id-8 input.sk-toggleable__control:checked~div.sk-toggleable__content {max-height: 200px;max-width: 100%;overflow: auto;}#sk-container-id-8 input.sk-toggleable__control:checked~label.sk-toggleable__label-arrow:before {content: \"▾\";}#sk-container-id-8 div.sk-estimator input.sk-toggleable__control:checked~label.sk-toggleable__label {background-color: #d4ebff;}#sk-container-id-8 div.sk-label input.sk-toggleable__control:checked~label.sk-toggleable__label {background-color: #d4ebff;}#sk-container-id-8 input.sk-hidden--visually {border: 0;clip: rect(1px 1px 1px 1px);clip: rect(1px, 1px, 1px, 1px);height: 1px;margin: -1px;overflow: hidden;padding: 0;position: absolute;width: 1px;}#sk-container-id-8 div.sk-estimator {font-family: monospace;background-color: #f0f8ff;border: 1px dotted black;border-radius: 0.25em;box-sizing: border-box;margin-bottom: 0.5em;}#sk-container-id-8 div.sk-estimator:hover {background-color: #d4ebff;}#sk-container-id-8 div.sk-parallel-item::after {content: \"\";width: 100%;border-bottom: 1px solid gray;flex-grow: 1;}#sk-container-id-8 div.sk-label:hover label.sk-toggleable__label {background-color: #d4ebff;}#sk-container-id-8 div.sk-serial::before {content: \"\";position: absolute;border-left: 1px solid gray;box-sizing: border-box;top: 0;bottom: 0;left: 50%;z-index: 0;}#sk-container-id-8 div.sk-serial {display: flex;flex-direction: column;align-items: center;background-color: white;padding-right: 0.2em;padding-left: 0.2em;position: relative;}#sk-container-id-8 div.sk-item {position: relative;z-index: 1;}#sk-container-id-8 div.sk-parallel {display: flex;align-items: stretch;justify-content: center;background-color: white;position: relative;}#sk-container-id-8 div.sk-item::before, #sk-container-id-8 div.sk-parallel-item::before {content: \"\";position: absolute;border-left: 1px solid gray;box-sizing: border-box;top: 0;bottom: 0;left: 50%;z-index: -1;}#sk-container-id-8 div.sk-parallel-item {display: flex;flex-direction: column;z-index: 1;position: relative;background-color: white;}#sk-container-id-8 div.sk-parallel-item:first-child::after {align-self: flex-end;width: 50%;}#sk-container-id-8 div.sk-parallel-item:last-child::after {align-self: flex-start;width: 50%;}#sk-container-id-8 div.sk-parallel-item:only-child::after {width: 0;}#sk-container-id-8 div.sk-dashed-wrapped {border: 1px dashed gray;margin: 0 0.4em 0.5em 0.4em;box-sizing: border-box;padding-bottom: 0.4em;background-color: white;}#sk-container-id-8 div.sk-label label {font-family: monospace;font-weight: bold;display: inline-block;line-height: 1.2em;}#sk-container-id-8 div.sk-label-container {text-align: center;}#sk-container-id-8 div.sk-container {/* jupyter's `normalize.less` sets `[hidden] { display: none; }` but bootstrap.min.css set `[hidden] { display: none !important; }` so we also need the `!important` here to be able to override the default hidden behavior on the sphinx rendered scikit-learn.org. See: https://github.com/scikit-learn/scikit-learn/issues/21755 */display: inline-block !important;position: relative;}#sk-container-id-8 div.sk-text-repr-fallback {display: none;}</style><div id=\"sk-container-id-8\" class=\"sk-top-container\"><div class=\"sk-text-repr-fallback\"><pre>GridSearchCV(cv=5, estimator=LogisticRegression(solver=&#x27;liblinear&#x27;),\n",
              "             param_grid={&#x27;C&#x27;: (0.01, 0.05, 0.1, 0.2, 1),\n",
              "                         &#x27;penalty&#x27;: (&#x27;l2&#x27;, &#x27;l1&#x27;)})</pre><b>In a Jupyter environment, please rerun this cell to show the HTML representation or trust the notebook. <br />On GitHub, the HTML representation is unable to render, please try loading this page with nbviewer.org.</b></div><div class=\"sk-container\" hidden><div class=\"sk-item sk-dashed-wrapped\"><div class=\"sk-label-container\"><div class=\"sk-label sk-toggleable\"><input class=\"sk-toggleable__control sk-hidden--visually\" id=\"sk-estimator-id-8\" type=\"checkbox\" ><label for=\"sk-estimator-id-8\" class=\"sk-toggleable__label sk-toggleable__label-arrow\">GridSearchCV</label><div class=\"sk-toggleable__content\"><pre>GridSearchCV(cv=5, estimator=LogisticRegression(solver=&#x27;liblinear&#x27;),\n",
              "             param_grid={&#x27;C&#x27;: (0.01, 0.05, 0.1, 0.2, 1),\n",
              "                         &#x27;penalty&#x27;: (&#x27;l2&#x27;, &#x27;l1&#x27;)})</pre></div></div></div><div class=\"sk-parallel\"><div class=\"sk-parallel-item\"><div class=\"sk-item\"><div class=\"sk-label-container\"><div class=\"sk-label sk-toggleable\"><input class=\"sk-toggleable__control sk-hidden--visually\" id=\"sk-estimator-id-9\" type=\"checkbox\" ><label for=\"sk-estimator-id-9\" class=\"sk-toggleable__label sk-toggleable__label-arrow\">estimator: LogisticRegression</label><div class=\"sk-toggleable__content\"><pre>LogisticRegression(solver=&#x27;liblinear&#x27;)</pre></div></div></div><div class=\"sk-serial\"><div class=\"sk-item\"><div class=\"sk-estimator sk-toggleable\"><input class=\"sk-toggleable__control sk-hidden--visually\" id=\"sk-estimator-id-10\" type=\"checkbox\" ><label for=\"sk-estimator-id-10\" class=\"sk-toggleable__label sk-toggleable__label-arrow\">LogisticRegression</label><div class=\"sk-toggleable__content\"><pre>LogisticRegression(solver=&#x27;liblinear&#x27;)</pre></div></div></div></div></div></div></div></div></div></div>"
            ]
          },
          "metadata": {},
          "execution_count": 309
        }
      ]
    },
    {
      "cell_type": "code",
      "source": [
        "print_grid_search_metrics(Grid_LR)"
      ],
      "metadata": {
        "colab": {
          "base_uri": "https://localhost:8080/",
          "height": 0
        },
        "id": "Vd_xr2uPTdir",
        "outputId": "ff0e5863-9d9f-4791-9487-d7a564875f4f"
      },
      "execution_count": 310,
      "outputs": [
        {
          "output_type": "stream",
          "name": "stdout",
          "text": [
            "Best score:0.9177777777777777\n",
            "Best parameters set:\n",
            "C:0.01\n",
            "penalty:l2\n"
          ]
        }
      ]
    },
    {
      "cell_type": "code",
      "source": [
        "best_LR_model = Grid_LR.best_estimator_"
      ],
      "metadata": {
        "id": "pICl_BZ8Tmoc"
      },
      "execution_count": 311,
      "outputs": []
    },
    {
      "cell_type": "code",
      "source": [
        "best_LR_model.score(X_test_processed,y_test)"
      ],
      "metadata": {
        "colab": {
          "base_uri": "https://localhost:8080/",
          "height": 0
        },
        "id": "Y8U_hdi7T41C",
        "outputId": "b5a390fc-0bed-438b-9a68-4f21141fb094"
      },
      "execution_count": 318,
      "outputs": [
        {
          "output_type": "execute_result",
          "data": {
            "text/plain": [
              "0.9166666666666666"
            ]
          },
          "metadata": {},
          "execution_count": 318
        }
      ]
    },
    {
      "cell_type": "code",
      "source": [
        "LR_models = pd.DataFrame(Grid_LR.cv_results_)\n",
        "res = (LR_models.pivot(index=\"param_penalty\",columns=\"param_C\",values=\"mean_test_score\")\n",
        "          )\n",
        "_ =sns.heatmap(res, cmap=\"viridis\",color=\"red\")"
      ],
      "metadata": {
        "colab": {
          "base_uri": "https://localhost:8080/",
          "height": 450
        },
        "id": "7P7_T898UDml",
        "outputId": "fdf2b93a-8816-4518-abd2-ee576a218494"
      },
      "execution_count": 319,
      "outputs": [
        {
          "output_type": "display_data",
          "data": {
            "text/plain": [
              "<Figure size 640x480 with 2 Axes>"
            ],
            "image/png": "[encoded data removed]"
          },
          "metadata": {}
        }
      ]
    },
    {
      "cell_type": "code",
      "source": [
        "parameters = {\n",
        "    \"n_neighbors\":[1,3,5,7,9]\n",
        "}\n",
        "Grid_KNN = GridSearchCV(KNeighborsClassifier(),parameters,cv=5)\n",
        "X_train_processed = X_train.drop(columns=['meal'])\n",
        "Grid_KNN.fit(X_train_processed,y_train)"
      ],
      "metadata": {
        "colab": {
          "base_uri": "https://localhost:8080/",
          "height": 118
        },
        "id": "daP6q_pEUk4N",
        "outputId": "184ca0f4-ad00-4fd5-8f01-ce875b25cf7e"
      },
      "execution_count": 321,
      "outputs": [
        {
          "output_type": "execute_result",
          "data": {
            "text/plain": [
              "GridSearchCV(cv=5, estimator=KNeighborsClassifier(),\n",
              "             param_grid={'n_neighbors': [1, 3, 5, 7, 9]})"
            ],
            "text/html": [
              "<style>#sk-container-id-9 {color: black;background-color: white;}#sk-container-id-9 pre{padding: 0;}#sk-container-id-9 div.sk-toggleable {background-color: white;}#sk-container-id-9 label.sk-toggleable__label {cursor: pointer;display: block;width: 100%;margin-bottom: 0;padding: 0.3em;box-sizing: border-box;text-align: center;}#sk-container-id-9 label.sk-toggleable__label-arrow:before {content: \"▸\";float: left;margin-right: 0.25em;color: #696969;}#sk-container-id-9 label.sk-toggleable__label-arrow:hover:before {color: black;}#sk-container-id-9 div.sk-estimator:hover label.sk-toggleable__label-arrow:before {color: black;}#sk-container-id-9 div.sk-toggleable__content {max-height: 0;max-width: 0;overflow: hidden;text-align: left;background-color: #f0f8ff;}#sk-container-id-9 div.sk-toggleable__content pre {margin: 0.2em;color: black;border-radius: 0.25em;background-color: #f0f8ff;}#sk-container-id-9 input.sk-toggleable__control:checked~div.sk-toggleable__content {max-height: 200px;max-width: 100%;overflow: auto;}#sk-container-id-9 input.sk-toggleable__control:checked~label.sk-toggleable__label-arrow:before {content: \"▾\";}#sk-container-id-9 div.sk-estimator input.sk-toggleable__control:checked~label.sk-toggleable__label {background-color: #d4ebff;}#sk-container-id-9 div.sk-label input.sk-toggleable__control:checked~label.sk-toggleable__label {background-color: #d4ebff;}#sk-container-id-9 input.sk-hidden--visually {border: 0;clip: rect(1px 1px 1px 1px);clip: rect(1px, 1px, 1px, 1px);height: 1px;margin: -1px;overflow: hidden;padding: 0;position: absolute;width: 1px;}#sk-container-id-9 div.sk-estimator {font-family: monospace;background-color: #f0f8ff;border: 1px dotted black;border-radius: 0.25em;box-sizing: border-box;margin-bottom: 0.5em;}#sk-container-id-9 div.sk-estimator:hover {background-color: #d4ebff;}#sk-container-id-9 div.sk-parallel-item::after {content: \"\";width: 100%;border-bottom: 1px solid gray;flex-grow: 1;}#sk-container-id-9 div.sk-label:hover label.sk-toggleable__label {background-color: #d4ebff;}#sk-container-id-9 div.sk-serial::before {content: \"\";position: absolute;border-left: 1px solid gray;box-sizing: border-box;top: 0;bottom: 0;left: 50%;z-index: 0;}#sk-container-id-9 div.sk-serial {display: flex;flex-direction: column;align-items: center;background-color: white;padding-right: 0.2em;padding-left: 0.2em;position: relative;}#sk-container-id-9 div.sk-item {position: relative;z-index: 1;}#sk-container-id-9 div.sk-parallel {display: flex;align-items: stretch;justify-content: center;background-color: white;position: relative;}#sk-container-id-9 div.sk-item::before, #sk-container-id-9 div.sk-parallel-item::before {content: \"\";position: absolute;border-left: 1px solid gray;box-sizing: border-box;top: 0;bottom: 0;left: 50%;z-index: -1;}#sk-container-id-9 div.sk-parallel-item {display: flex;flex-direction: column;z-index: 1;position: relative;background-color: white;}#sk-container-id-9 div.sk-parallel-item:first-child::after {align-self: flex-end;width: 50%;}#sk-container-id-9 div.sk-parallel-item:last-child::after {align-self: flex-start;width: 50%;}#sk-container-id-9 div.sk-parallel-item:only-child::after {width: 0;}#sk-container-id-9 div.sk-dashed-wrapped {border: 1px dashed gray;margin: 0 0.4em 0.5em 0.4em;box-sizing: border-box;padding-bottom: 0.4em;background-color: white;}#sk-container-id-9 div.sk-label label {font-family: monospace;font-weight: bold;display: inline-block;line-height: 1.2em;}#sk-container-id-9 div.sk-label-container {text-align: center;}#sk-container-id-9 div.sk-container {/* jupyter's `normalize.less` sets `[hidden] { display: none; }` but bootstrap.min.css set `[hidden] { display: none !important; }` so we also need the `!important` here to be able to override the default hidden behavior on the sphinx rendered scikit-learn.org. See: https://github.com/scikit-learn/scikit-learn/issues/21755 */display: inline-block !important;position: relative;}#sk-container-id-9 div.sk-text-repr-fallback {display: none;}</style><div id=\"sk-container-id-9\" class=\"sk-top-container\"><div class=\"sk-text-repr-fallback\"><pre>GridSearchCV(cv=5, estimator=KNeighborsClassifier(),\n",
              "             param_grid={&#x27;n_neighbors&#x27;: [1, 3, 5, 7, 9]})</pre><b>In a Jupyter environment, please rerun this cell to show the HTML representation or trust the notebook. <br />On GitHub, the HTML representation is unable to render, please try loading this page with nbviewer.org.</b></div><div class=\"sk-container\" hidden><div class=\"sk-item sk-dashed-wrapped\"><div class=\"sk-label-container\"><div class=\"sk-label sk-toggleable\"><input class=\"sk-toggleable__control sk-hidden--visually\" id=\"sk-estimator-id-11\" type=\"checkbox\" ><label for=\"sk-estimator-id-11\" class=\"sk-toggleable__label sk-toggleable__label-arrow\">GridSearchCV</label><div class=\"sk-toggleable__content\"><pre>GridSearchCV(cv=5, estimator=KNeighborsClassifier(),\n",
              "             param_grid={&#x27;n_neighbors&#x27;: [1, 3, 5, 7, 9]})</pre></div></div></div><div class=\"sk-parallel\"><div class=\"sk-parallel-item\"><div class=\"sk-item\"><div class=\"sk-label-container\"><div class=\"sk-label sk-toggleable\"><input class=\"sk-toggleable__control sk-hidden--visually\" id=\"sk-estimator-id-12\" type=\"checkbox\" ><label for=\"sk-estimator-id-12\" class=\"sk-toggleable__label sk-toggleable__label-arrow\">estimator: KNeighborsClassifier</label><div class=\"sk-toggleable__content\"><pre>KNeighborsClassifier()</pre></div></div></div><div class=\"sk-serial\"><div class=\"sk-item\"><div class=\"sk-estimator sk-toggleable\"><input class=\"sk-toggleable__control sk-hidden--visually\" id=\"sk-estimator-id-13\" type=\"checkbox\" ><label for=\"sk-estimator-id-13\" class=\"sk-toggleable__label sk-toggleable__label-arrow\">KNeighborsClassifier</label><div class=\"sk-toggleable__content\"><pre>KNeighborsClassifier()</pre></div></div></div></div></div></div></div></div></div></div>"
            ]
          },
          "metadata": {},
          "execution_count": 321
        }
      ]
    },
    {
      "cell_type": "code",
      "source": [
        "print_grid_search_metrics(Grid_KNN)"
      ],
      "metadata": {
        "colab": {
          "base_uri": "https://localhost:8080/",
          "height": 0
        },
        "id": "Dtq9pRZEV3C5",
        "outputId": "08ed5aba-d4fd-4747-c186-1b6937d875fd"
      },
      "execution_count": 322,
      "outputs": [
        {
          "output_type": "stream",
          "name": "stdout",
          "text": [
            "Best score:0.9150246305418721\n",
            "Best parameters set:\n",
            "n_neighbors:7\n"
          ]
        }
      ]
    },
    {
      "cell_type": "code",
      "source": [
        "best_KNN_model=Grid_KNN.best_estimator_"
      ],
      "metadata": {
        "id": "HlIHNzXXV960"
      },
      "execution_count": 323,
      "outputs": []
    },
    {
      "cell_type": "code",
      "source": [
        "parameters = {\n",
        "    \"n_estimators\":[60,80,100],\n",
        "    \"max_depth\":[1,5,10]\n",
        "}\n",
        "Grid_RF = GridSearchCV(RandomForestClassifier(),parameters,cv=5)\n",
        "Grid_RF.fit(X_train_processed,y_train)"
      ],
      "metadata": {
        "colab": {
          "base_uri": "https://localhost:8080/",
          "height": 118
        },
        "id": "d0HldhzvWDWX",
        "outputId": "d557561e-7960-49be-c1dd-2df531be4fbd"
      },
      "execution_count": 324,
      "outputs": [
        {
          "output_type": "execute_result",
          "data": {
            "text/plain": [
              "GridSearchCV(cv=5, estimator=RandomForestClassifier(),\n",
              "             param_grid={'max_depth': [1, 5, 10],\n",
              "                         'n_estimators': [60, 80, 100]})"
            ],
            "text/html": [
              "<style>#sk-container-id-10 {color: black;background-color: white;}#sk-container-id-10 pre{padding: 0;}#sk-container-id-10 div.sk-toggleable {background-color: white;}#sk-container-id-10 label.sk-toggleable__label {cursor: pointer;display: block;width: 100%;margin-bottom: 0;padding: 0.3em;box-sizing: border-box;text-align: center;}#sk-container-id-10 label.sk-toggleable__label-arrow:before {content: \"▸\";float: left;margin-right: 0.25em;color: #696969;}#sk-container-id-10 label.sk-toggleable__label-arrow:hover:before {color: black;}#sk-container-id-10 div.sk-estimator:hover label.sk-toggleable__label-arrow:before {color: black;}#sk-container-id-10 div.sk-toggleable__content {max-height: 0;max-width: 0;overflow: hidden;text-align: left;background-color: #f0f8ff;}#sk-container-id-10 div.sk-toggleable__content pre {margin: 0.2em;color: black;border-radius: 0.25em;background-color: #f0f8ff;}#sk-container-id-10 input.sk-toggleable__control:checked~div.sk-toggleable__content {max-height: 200px;max-width: 100%;overflow: auto;}#sk-container-id-10 input.sk-toggleable__control:checked~label.sk-toggleable__label-arrow:before {content: \"▾\";}#sk-container-id-10 div.sk-estimator input.sk-toggleable__control:checked~label.sk-toggleable__label {background-color: #d4ebff;}#sk-container-id-10 div.sk-label input.sk-toggleable__control:checked~label.sk-toggleable__label {background-color: #d4ebff;}#sk-container-id-10 input.sk-hidden--visually {border: 0;clip: rect(1px 1px 1px 1px);clip: rect(1px, 1px, 1px, 1px);height: 1px;margin: -1px;overflow: hidden;padding: 0;position: absolute;width: 1px;}#sk-container-id-10 div.sk-estimator {font-family: monospace;background-color: #f0f8ff;border: 1px dotted black;border-radius: 0.25em;box-sizing: border-box;margin-bottom: 0.5em;}#sk-container-id-10 div.sk-estimator:hover {background-color: #d4ebff;}#sk-container-id-10 div.sk-parallel-item::after {content: \"\";width: 100%;border-bottom: 1px solid gray;flex-grow: 1;}#sk-container-id-10 div.sk-label:hover label.sk-toggleable__label {background-color: #d4ebff;}#sk-container-id-10 div.sk-serial::before {content: \"\";position: absolute;border-left: 1px solid gray;box-sizing: border-box;top: 0;bottom: 0;left: 50%;z-index: 0;}#sk-container-id-10 div.sk-serial {display: flex;flex-direction: column;align-items: center;background-color: white;padding-right: 0.2em;padding-left: 0.2em;position: relative;}#sk-container-id-10 div.sk-item {position: relative;z-index: 1;}#sk-container-id-10 div.sk-parallel {display: flex;align-items: stretch;justify-content: center;background-color: white;position: relative;}#sk-container-id-10 div.sk-item::before, #sk-container-id-10 div.sk-parallel-item::before {content: \"\";position: absolute;border-left: 1px solid gray;box-sizing: border-box;top: 0;bottom: 0;left: 50%;z-index: -1;}#sk-container-id-10 div.sk-parallel-item {display: flex;flex-direction: column;z-index: 1;position: relative;background-color: white;}#sk-container-id-10 div.sk-parallel-item:first-child::after {align-self: flex-end;width: 50%;}#sk-container-id-10 div.sk-parallel-item:last-child::after {align-self: flex-start;width: 50%;}#sk-container-id-10 div.sk-parallel-item:only-child::after {width: 0;}#sk-container-id-10 div.sk-dashed-wrapped {border: 1px dashed gray;margin: 0 0.4em 0.5em 0.4em;box-sizing: border-box;padding-bottom: 0.4em;background-color: white;}#sk-container-id-10 div.sk-label label {font-family: monospace;font-weight: bold;display: inline-block;line-height: 1.2em;}#sk-container-id-10 div.sk-label-container {text-align: center;}#sk-container-id-10 div.sk-container {/* jupyter's `normalize.less` sets `[hidden] { display: none; }` but bootstrap.min.css set `[hidden] { display: none !important; }` so we also need the `!important` here to be able to override the default hidden behavior on the sphinx rendered scikit-learn.org. See: https://github.com/scikit-learn/scikit-learn/issues/21755 */display: inline-block !important;position: relative;}#sk-container-id-10 div.sk-text-repr-fallback {display: none;}</style><div id=\"sk-container-id-10\" class=\"sk-top-container\"><div class=\"sk-text-repr-fallback\"><pre>GridSearchCV(cv=5, estimator=RandomForestClassifier(),\n",
              "             param_grid={&#x27;max_depth&#x27;: [1, 5, 10],\n",
              "                         &#x27;n_estimators&#x27;: [60, 80, 100]})</pre><b>In a Jupyter environment, please rerun this cell to show the HTML representation or trust the notebook. <br />On GitHub, the HTML representation is unable to render, please try loading this page with nbviewer.org.</b></div><div class=\"sk-container\" hidden><div class=\"sk-item sk-dashed-wrapped\"><div class=\"sk-label-container\"><div class=\"sk-label sk-toggleable\"><input class=\"sk-toggleable__control sk-hidden--visually\" id=\"sk-estimator-id-14\" type=\"checkbox\" ><label for=\"sk-estimator-id-14\" class=\"sk-toggleable__label sk-toggleable__label-arrow\">GridSearchCV</label><div class=\"sk-toggleable__content\"><pre>GridSearchCV(cv=5, estimator=RandomForestClassifier(),\n",
              "             param_grid={&#x27;max_depth&#x27;: [1, 5, 10],\n",
              "                         &#x27;n_estimators&#x27;: [60, 80, 100]})</pre></div></div></div><div class=\"sk-parallel\"><div class=\"sk-parallel-item\"><div class=\"sk-item\"><div class=\"sk-label-container\"><div class=\"sk-label sk-toggleable\"><input class=\"sk-toggleable__control sk-hidden--visually\" id=\"sk-estimator-id-15\" type=\"checkbox\" ><label for=\"sk-estimator-id-15\" class=\"sk-toggleable__label sk-toggleable__label-arrow\">estimator: RandomForestClassifier</label><div class=\"sk-toggleable__content\"><pre>RandomForestClassifier()</pre></div></div></div><div class=\"sk-serial\"><div class=\"sk-item\"><div class=\"sk-estimator sk-toggleable\"><input class=\"sk-toggleable__control sk-hidden--visually\" id=\"sk-estimator-id-16\" type=\"checkbox\" ><label for=\"sk-estimator-id-16\" class=\"sk-toggleable__label sk-toggleable__label-arrow\">RandomForestClassifier</label><div class=\"sk-toggleable__content\"><pre>RandomForestClassifier()</pre></div></div></div></div></div></div></div></div></div></div>"
            ]
          },
          "metadata": {},
          "execution_count": 324
        }
      ]
    },
    {
      "cell_type": "code",
      "source": [
        "print_grid_search_metrics(Grid_RF)"
      ],
      "metadata": {
        "colab": {
          "base_uri": "https://localhost:8080/",
          "height": 0
        },
        "id": "R-1fFWyQWMkE",
        "outputId": "34dca09b-4fb0-4dcd-f40b-80a9cfd870a7"
      },
      "execution_count": 325,
      "outputs": [
        {
          "output_type": "stream",
          "name": "stdout",
          "text": [
            "Best score:0.9647783251231526\n",
            "Best parameters set:\n",
            "max_depth:5\n",
            "n_estimators:60\n"
          ]
        }
      ]
    },
    {
      "cell_type": "code",
      "source": [
        "best_RF_model = Grid_RF.best_estimator_"
      ],
      "metadata": {
        "id": "Sdeh-kCHWT_h"
      },
      "execution_count": 326,
      "outputs": []
    },
    {
      "cell_type": "code",
      "source": [
        "best_RF_model"
      ],
      "metadata": {
        "colab": {
          "base_uri": "https://localhost:8080/",
          "height": 75
        },
        "id": "Eer3xSyRWb0M",
        "outputId": "8576cc41-82ec-400f-c21a-81f129a1805f"
      },
      "execution_count": 327,
      "outputs": [
        {
          "output_type": "execute_result",
          "data": {
            "text/plain": [
              "RandomForestClassifier(max_depth=5, n_estimators=60)"
            ],
            "text/html": [
              "<style>#sk-container-id-11 {color: black;background-color: white;}#sk-container-id-11 pre{padding: 0;}#sk-container-id-11 div.sk-toggleable {background-color: white;}#sk-container-id-11 label.sk-toggleable__label {cursor: pointer;display: block;width: 100%;margin-bottom: 0;padding: 0.3em;box-sizing: border-box;text-align: center;}#sk-container-id-11 label.sk-toggleable__label-arrow:before {content: \"▸\";float: left;margin-right: 0.25em;color: #696969;}#sk-container-id-11 label.sk-toggleable__label-arrow:hover:before {color: black;}#sk-container-id-11 div.sk-estimator:hover label.sk-toggleable__label-arrow:before {color: black;}#sk-container-id-11 div.sk-toggleable__content {max-height: 0;max-width: 0;overflow: hidden;text-align: left;background-color: #f0f8ff;}#sk-container-id-11 div.sk-toggleable__content pre {margin: 0.2em;color: black;border-radius: 0.25em;background-color: #f0f8ff;}#sk-container-id-11 input.sk-toggleable__control:checked~div.sk-toggleable__content {max-height: 200px;max-width: 100%;overflow: auto;}#sk-container-id-11 input.sk-toggleable__control:checked~label.sk-toggleable__label-arrow:before {content: \"▾\";}#sk-container-id-11 div.sk-estimator input.sk-toggleable__control:checked~label.sk-toggleable__label {background-color: #d4ebff;}#sk-container-id-11 div.sk-label input.sk-toggleable__control:checked~label.sk-toggleable__label {background-color: #d4ebff;}#sk-container-id-11 input.sk-hidden--visually {border: 0;clip: rect(1px 1px 1px 1px);clip: rect(1px, 1px, 1px, 1px);height: 1px;margin: -1px;overflow: hidden;padding: 0;position: absolute;width: 1px;}#sk-container-id-11 div.sk-estimator {font-family: monospace;background-color: #f0f8ff;border: 1px dotted black;border-radius: 0.25em;box-sizing: border-box;margin-bottom: 0.5em;}#sk-container-id-11 div.sk-estimator:hover {background-color: #d4ebff;}#sk-container-id-11 div.sk-parallel-item::after {content: \"\";width: 100%;border-bottom: 1px solid gray;flex-grow: 1;}#sk-container-id-11 div.sk-label:hover label.sk-toggleable__label {background-color: #d4ebff;}#sk-container-id-11 div.sk-serial::before {content: \"\";position: absolute;border-left: 1px solid gray;box-sizing: border-box;top: 0;bottom: 0;left: 50%;z-index: 0;}#sk-container-id-11 div.sk-serial {display: flex;flex-direction: column;align-items: center;background-color: white;padding-right: 0.2em;padding-left: 0.2em;position: relative;}#sk-container-id-11 div.sk-item {position: relative;z-index: 1;}#sk-container-id-11 div.sk-parallel {display: flex;align-items: stretch;justify-content: center;background-color: white;position: relative;}#sk-container-id-11 div.sk-item::before, #sk-container-id-11 div.sk-parallel-item::before {content: \"\";position: absolute;border-left: 1px solid gray;box-sizing: border-box;top: 0;bottom: 0;left: 50%;z-index: -1;}#sk-container-id-11 div.sk-parallel-item {display: flex;flex-direction: column;z-index: 1;position: relative;background-color: white;}#sk-container-id-11 div.sk-parallel-item:first-child::after {align-self: flex-end;width: 50%;}#sk-container-id-11 div.sk-parallel-item:last-child::after {align-self: flex-start;width: 50%;}#sk-container-id-11 div.sk-parallel-item:only-child::after {width: 0;}#sk-container-id-11 div.sk-dashed-wrapped {border: 1px dashed gray;margin: 0 0.4em 0.5em 0.4em;box-sizing: border-box;padding-bottom: 0.4em;background-color: white;}#sk-container-id-11 div.sk-label label {font-family: monospace;font-weight: bold;display: inline-block;line-height: 1.2em;}#sk-container-id-11 div.sk-label-container {text-align: center;}#sk-container-id-11 div.sk-container {/* jupyter's `normalize.less` sets `[hidden] { display: none; }` but bootstrap.min.css set `[hidden] { display: none !important; }` so we also need the `!important` here to be able to override the default hidden behavior on the sphinx rendered scikit-learn.org. See: https://github.com/scikit-learn/scikit-learn/issues/21755 */display: inline-block !important;position: relative;}#sk-container-id-11 div.sk-text-repr-fallback {display: none;}</style><div id=\"sk-container-id-11\" class=\"sk-top-container\"><div class=\"sk-text-repr-fallback\"><pre>RandomForestClassifier(max_depth=5, n_estimators=60)</pre><b>In a Jupyter environment, please rerun this cell to show the HTML representation or trust the notebook. <br />On GitHub, the HTML representation is unable to render, please try loading this page with nbviewer.org.</b></div><div class=\"sk-container\" hidden><div class=\"sk-item\"><div class=\"sk-estimator sk-toggleable\"><input class=\"sk-toggleable__control sk-hidden--visually\" id=\"sk-estimator-id-17\" type=\"checkbox\" checked><label for=\"sk-estimator-id-17\" class=\"sk-toggleable__label sk-toggleable__label-arrow\">RandomForestClassifier</label><div class=\"sk-toggleable__content\"><pre>RandomForestClassifier(max_depth=5, n_estimators=60)</pre></div></div></div></div></div>"
            ]
          },
          "metadata": {},
          "execution_count": 327
        }
      ]
    },
    {
      "cell_type": "code",
      "source": [
        "from sklearn.metrics import confusion_matrix\n",
        "from sklearn.metrics import classification_report\n",
        "from sklearn.metrics import precision_score\n",
        "from sklearn.metrics import recall_score\n",
        "\n",
        "def cal_evaluation(classifier,cm):\n",
        "  tn=cm[0][0]\n",
        "  fp=cm[0][1]\n",
        "  fn=cm[1][0]\n",
        "  tp=cm[1][1]\n",
        "  accuracy = (tp+tn)/(tp+fp+fn+tn+0.0)\n",
        "  precision = tp/(tp+fp+0.0)\n",
        "  recall= tp/(tp+fn+0.0)\n",
        "  print(classifier)\n",
        "  print(\"Accuracy is\" + str(accuracy))\n",
        "  print(\"precision is\" + str(precision))\n",
        "  print(\"recall is \" + str(recall))\n",
        "  print()"
      ],
      "metadata": {
        "id": "qDVGhMwqWkO9"
      },
      "execution_count": 328,
      "outputs": []
    },
    {
      "cell_type": "code",
      "source": [
        "def draw_confusion_matrices(confusion_matricies):\n",
        "    class_names = ['Not','Churn']\n",
        "    for cm in confusion_matrices:\n",
        "        classifier, cm = cm[0], cm[1]\n",
        "        cal_evaluation(classifier, cm)"
      ],
      "metadata": {
        "id": "Gmr1thunWoOb"
      },
      "execution_count": 329,
      "outputs": []
    },
    {
      "cell_type": "code",
      "source": [
        "confusion_matrices = [\n",
        "    (\"Random Forest\", confusion_matrix(y_test,best_RF_model.predict(X_test_processed))),\n",
        "    (\"Logistic Regression\", confusion_matrix(y_test,best_LR_model.predict(X_test_processed))),\n",
        "    (\"K nearest neighbor\", confusion_matrix(y_test, best_KNN_model.predict(X_test_processed)))\n",
        "]\n",
        "\n",
        "draw_confusion_matrices(confusion_matrices)"
      ],
      "metadata": {
        "colab": {
          "base_uri": "https://localhost:8080/",
          "height": 0
        },
        "id": "A8gvexM1Wry5",
        "outputId": "cdf8e61c-6917-410b-ea07-8f65e115472e"
      },
      "execution_count": 332,
      "outputs": [
        {
          "output_type": "stream",
          "name": "stdout",
          "text": [
            "Random Forest\n",
            "Accuracy is0.9791666666666666\n",
            "precision is1.0\n",
            "recall is 0.75\n",
            "\n",
            "Logistic Regression\n",
            "Accuracy is0.9166666666666666\n",
            "precision isnan\n",
            "recall is 0.0\n",
            "\n",
            "K nearest neighbor\n",
            "Accuracy is0.9166666666666666\n",
            "precision isnan\n",
            "recall is 0.0\n",
            "\n"
          ]
        },
        {
          "output_type": "stream",
          "name": "stderr",
          "text": [
            "<ipython-input-328-ac5c1f3f75c2>:12: RuntimeWarning: invalid value encountered in scalar divide\n",
            "  precision = tp/(tp+fp+0.0)\n"
          ]
        }
      ]
    },
    {
      "cell_type": "code",
      "source": [
        "def draw_confusion_matrices(confusion_matricies):\n",
        "  class_names = [\"Not\",\"Churn\"]\n",
        "  for cm in confusion_matrices:\n",
        "    classifier, cm = cm[0],cm[1]\n",
        "    cal_evaluation(classifier,cm)"
      ],
      "metadata": {
        "id": "O_MvVL8NXisb"
      },
      "execution_count": 333,
      "outputs": []
    },
    {
      "cell_type": "code",
      "source": [
        "from sklearn.metrics import roc_curve\n",
        "from sklearn import metrics\n",
        "\n",
        "y_pred_rf = best_RF_model.predict_proba(X_test_processed)[:, 1]\n",
        "fpr_rf, tpr_rf, _ = roc_curve(y_test, y_pred_rf)"
      ],
      "metadata": {
        "id": "VXmFhAz2XuDZ"
      },
      "execution_count": 337,
      "outputs": []
    },
    {
      "cell_type": "code",
      "source": [
        "best_RF_model.predict_proba(X_test_processed)"
      ],
      "metadata": {
        "colab": {
          "base_uri": "https://localhost:8080/",
          "height": 0
        },
        "id": "TGAmV0T2Xx3Z",
        "outputId": "ab9ab2f2-cff0-48bd-a4cb-e5cc9d255a1a"
      },
      "execution_count": 338,
      "outputs": [
        {
          "output_type": "execute_result",
          "data": {
            "text/plain": [
              "array([[0.99583158, 0.00416842],\n",
              "       [0.89324314, 0.10675686],\n",
              "       [0.89944444, 0.10055556],\n",
              "       [0.91198423, 0.08801577],\n",
              "       [0.95608406, 0.04391594],\n",
              "       [0.95608406, 0.04391594],\n",
              "       [0.96303186, 0.03696814],\n",
              "       [0.99764023, 0.00235977],\n",
              "       [0.98088384, 0.01911616],\n",
              "       [0.9890599 , 0.0109401 ],\n",
              "       [0.97832574, 0.02167426],\n",
              "       [0.96108197, 0.03891803],\n",
              "       [0.98050505, 0.01949495],\n",
              "       [0.98143764, 0.01856236],\n",
              "       [0.9393484 , 0.0606516 ],\n",
              "       [0.99155579, 0.00844421],\n",
              "       [0.97608753, 0.02391247],\n",
              "       [0.92858362, 0.07141638],\n",
              "       [0.29974248, 0.70025752],\n",
              "       [0.82808141, 0.17191859],\n",
              "       [0.99027581, 0.00972419],\n",
              "       [0.45463654, 0.54536346],\n",
              "       [0.9133699 , 0.0866301 ],\n",
              "       [0.91104847, 0.08895153],\n",
              "       [0.99504294, 0.00495706],\n",
              "       [0.98799129, 0.01200871],\n",
              "       [0.90027343, 0.09972657],\n",
              "       [0.98013954, 0.01986046],\n",
              "       [0.92435516, 0.07564484],\n",
              "       [0.97970684, 0.02029316],\n",
              "       [0.95664744, 0.04335256],\n",
              "       [0.4126695 , 0.5873305 ],\n",
              "       [0.9268484 , 0.0731516 ],\n",
              "       [0.97534126, 0.02465874],\n",
              "       [0.96238517, 0.03761483],\n",
              "       [0.95646262, 0.04353738],\n",
              "       [0.50668129, 0.49331871],\n",
              "       [0.94534272, 0.05465728],\n",
              "       [0.99323185, 0.00676815],\n",
              "       [0.91743779, 0.08256221],\n",
              "       [0.93949134, 0.06050866],\n",
              "       [0.98106061, 0.01893939],\n",
              "       [0.97192086, 0.02807914],\n",
              "       [0.89324314, 0.10675686],\n",
              "       [0.90729167, 0.09270833],\n",
              "       [0.90506298, 0.09493702],\n",
              "       [0.99146873, 0.00853127],\n",
              "       [0.93401533, 0.06598467]])"
            ]
          },
          "metadata": {},
          "execution_count": 338
        }
      ]
    },
    {
      "cell_type": "code",
      "source": [
        "import matplotlib.pyplot as plt\n",
        "plt.figure(1)\n",
        "plt.plot([0,1],[0,1],\"k--\")\n",
        "plt.plot(fpr_rf, tpr_rf,label=\"RF\")\n",
        "plt.xlabel(\"False positive rate\")\n",
        "plt.ylabel(\"True positive rate\")\n",
        "plt.title(\"ROC curve = RF model\")\n",
        "plt.legend(loc = \"best\")\n",
        "plt.show()"
      ],
      "metadata": {
        "colab": {
          "base_uri": "https://localhost:8080/",
          "height": 472
        },
        "id": "B1rwvE4_X1dx",
        "outputId": "4d21334f-7bea-4a10-e001-1538541a54c0"
      },
      "execution_count": 339,
      "outputs": [
        {
          "output_type": "display_data",
          "data": {
            "text/plain": [
              "<Figure size 640x480 with 1 Axes>"
            ],
            "image/png": "[encoded data removed]"
          },
          "metadata": {}
        }
      ]
    },
    {
      "cell_type": "code",
      "source": [
        "from sklearn import metrics\n",
        "metrics.auc(fpr_rf,tpr_rf)"
      ],
      "metadata": {
        "colab": {
          "base_uri": "https://localhost:8080/",
          "height": 0
        },
        "id": "aXfwdyfQYb9T",
        "outputId": "5a6f4cb2-274a-4d62-aa18-7a2f1ec5af3b"
      },
      "execution_count": 340,
      "outputs": [
        {
          "output_type": "execute_result",
          "data": {
            "text/plain": [
              "1.0"
            ]
          },
          "metadata": {},
          "execution_count": 340
        }
      ]
    },
    {
      "cell_type": "code",
      "source": [
        "y_pred_lr=best_LR_model.predict_proba(X_test_processed)[:,1]\n",
        "fpr_lr,tpr_lr, thresh = roc_curve(y_test, y_pred_lr)"
      ],
      "metadata": {
        "id": "x-kL1sxHYw3j"
      },
      "execution_count": 342,
      "outputs": []
    },
    {
      "cell_type": "code",
      "source": [
        "best_LR_model.predict_proba(X_test_processed)"
      ],
      "metadata": {
        "colab": {
          "base_uri": "https://localhost:8080/",
          "height": 0
        },
        "id": "YKu8xfAyY3nw",
        "outputId": "b0331eb7-b172-4114-a4a7-6c5c48d70bb8"
      },
      "execution_count": 344,
      "outputs": [
        {
          "output_type": "execute_result",
          "data": {
            "text/plain": [
              "array([[9.87239133e-01, 1.27608671e-02],\n",
              "       [8.47691625e-01, 1.52308375e-01],\n",
              "       [8.94441465e-01, 1.05558535e-01],\n",
              "       [9.77802243e-01, 2.21977574e-02],\n",
              "       [8.64704627e-01, 1.35295373e-01],\n",
              "       [8.64704627e-01, 1.35295373e-01],\n",
              "       [9.80547171e-01, 1.94528286e-02],\n",
              "       [9.13940659e-01, 8.60593412e-02],\n",
              "       [9.05397922e-01, 9.46020783e-02],\n",
              "       [9.46861640e-01, 5.31383598e-02],\n",
              "       [8.91401040e-01, 1.08598960e-01],\n",
              "       [8.46372308e-01, 1.53627692e-01],\n",
              "       [9.21034863e-01, 7.89651375e-02],\n",
              "       [9.41192245e-01, 5.88077548e-02],\n",
              "       [9.35711095e-01, 6.42889049e-02],\n",
              "       [9.65349997e-01, 3.46500032e-02],\n",
              "       [9.34013106e-01, 6.59868936e-02],\n",
              "       [9.38334315e-01, 6.16656848e-02],\n",
              "       [8.25637381e-01, 1.74362619e-01],\n",
              "       [8.43723225e-01, 1.56276775e-01],\n",
              "       [9.10683645e-01, 8.93163547e-02],\n",
              "       [8.96863190e-01, 1.03136810e-01],\n",
              "       [8.57051100e-01, 1.42948900e-01],\n",
              "       [8.61150640e-01, 1.38849360e-01],\n",
              "       [9.61546009e-01, 3.84539910e-02],\n",
              "       [9.17038174e-01, 8.29618262e-02],\n",
              "       [8.99207055e-01, 1.00792945e-01],\n",
              "       [9.80184073e-01, 1.98159265e-02],\n",
              "       [9.84855251e-01, 1.51447488e-02],\n",
              "       [9.51013173e-01, 4.89868271e-02],\n",
              "       [9.49128956e-01, 5.08710441e-02],\n",
              "       [8.17197296e-01, 1.82802704e-01],\n",
              "       [9.34439821e-01, 6.55601795e-02],\n",
              "       [9.32979522e-01, 6.70204783e-02],\n",
              "       [8.75432402e-01, 1.24567598e-01],\n",
              "       [8.86008026e-01, 1.13991974e-01],\n",
              "       [9.17893951e-01, 8.21060489e-02],\n",
              "       [8.62235968e-01, 1.37764032e-01],\n",
              "       [9.68257237e-01, 3.17427635e-02],\n",
              "       [9.99355235e-01, 6.44764749e-04],\n",
              "       [9.43561460e-01, 5.64385404e-02],\n",
              "       [9.57346750e-01, 4.26532503e-02],\n",
              "       [9.35292082e-01, 6.47079177e-02],\n",
              "       [8.47691625e-01, 1.52308375e-01],\n",
              "       [9.95317997e-01, 4.68200265e-03],\n",
              "       [8.30706734e-01, 1.69293266e-01],\n",
              "       [9.69221505e-01, 3.07784955e-02],\n",
              "       [9.32373291e-01, 6.76267090e-02]])"
            ]
          },
          "metadata": {},
          "execution_count": 344
        }
      ]
    },
    {
      "cell_type": "code",
      "source": [
        "plt.figure(1)\n",
        "plt.plot([0,1],[0,1],\"k--\")\n",
        "plt.plot(fpr_lr,tpr_lr,label = \"LR\")\n",
        "plt.xlabel(\"False positive rate\")\n",
        "plt.ylabel(\"True positive rate\")\n",
        "plt.title(\"ROC curve - LR Model\")\n",
        "plt.legend(loc=\"best\")\n",
        "plt.show()"
      ],
      "metadata": {
        "colab": {
          "base_uri": "https://localhost:8080/",
          "height": 472
        },
        "id": "XN6-qeIqZAi-",
        "outputId": "ab13b9c1-4d7f-4b4b-8886-e560bd73afb5"
      },
      "execution_count": 345,
      "outputs": [
        {
          "output_type": "display_data",
          "data": {
            "text/plain": [
              "<Figure size 640x480 with 1 Axes>"
            ],
            "image/png": "[encoded data removed]"
          },
          "metadata": {}
        }
      ]
    },
    {
      "cell_type": "code",
      "source": [
        "metrics.auc(fpr_lr,tpr_lr)"
      ],
      "metadata": {
        "colab": {
          "base_uri": "https://localhost:8080/",
          "height": 0
        },
        "id": "-Kty8n7dZEaM",
        "outputId": "8769e785-5a4d-445b-826e-7a8c9c5e6744"
      },
      "execution_count": 346,
      "outputs": [
        {
          "output_type": "execute_result",
          "data": {
            "text/plain": [
              "0.8125"
            ]
          },
          "metadata": {},
          "execution_count": 346
        }
      ]
    },
    {
      "cell_type": "code",
      "source": [
        "forest = RandomForestClassifier()\n",
        "forest.fit(X_train_processed, y_train)\n",
        "\n",
        "importances = forest.feature_importances_\n",
        "\n",
        "indices = np.argsort(importances)[::-1]\n",
        "\n",
        "print(\"Feature importance ranking by Random Forest Model:\")\n",
        "for ind in range(X.shape[1]):\n",
        "  print (\"{0} : {1}\".format(X_train_processed.columns[indices[ind]],round(importances[indices[ind]], 4)))"
      ],
      "metadata": {
        "colab": {
          "base_uri": "https://localhost:8080/",
          "height": 0
        },
        "id": "4skIa7UhZVZc",
        "outputId": "fceaf278-135e-44fb-81b4-546d98611763"
      },
      "execution_count": 352,
      "outputs": [
        {
          "output_type": "stream",
          "name": "stdout",
          "text": [
            "Feature importance ranking by Random Forest Model:\n",
            "is_canceled : 0.5446\n",
            "lead_time : 0.0924\n",
            "agent : 0.0475\n",
            "arrival_date_week_number : 0.0375\n",
            "stays_in_weekend_nights : 0.0329\n",
            "booking_changes : 0.0322\n",
            "arrival_date_day_of_month : 0.0316\n",
            "adr : 0.0275\n",
            "adults : 0.027\n",
            "stays_in_week_nights : 0.0217\n",
            "arrival_date_month_April : 0.0181\n",
            "company : 0.0159\n",
            "meal_encoded : 0.0149\n",
            "arrival_date_month_June : 0.0103\n",
            "is_repeated_guest : 0.0082\n",
            "arrival_date_month_May : 0.0076\n",
            "arrival_date_year : 0.0064\n",
            "arrival_date_month_November : 0.0056\n",
            "required_car_parking_spaces : 0.0049\n",
            "total_of_special_requests : 0.0033\n",
            "arrival_date_month_January : 0.0029\n",
            "previous_bookings_not_canceled : 0.0025\n"
          ]
        }
      ]
    },
    {
      "cell_type": "code",
      "source": [
        "import matplotlib.pyplot as plt\n",
        "top_features = 10\n",
        "feature_names = X_train_processed.columns[indices][:top_features]\n",
        "importances = importances[:top_features]\n",
        "\n",
        "plt.figure(figsize=(10, 6))\n",
        "plt.bar(range(len(importances)), importances, color='skyblue', align='center')\n",
        "plt.xticks(range(len(importances)), feature_names, rotation=45)\n",
        "plt.xlabel('Feature')\n",
        "plt.ylabel('Importance')\n",
        "plt.title('Top 10 Feature Importance by Random Forest Model')\n",
        "plt.tight_layout()\n",
        "plt.show()"
      ],
      "metadata": {
        "colab": {
          "base_uri": "https://localhost:8080/",
          "height": 507
        },
        "id": "oJDappfSaAKc",
        "outputId": "9317a5fa-bcc3-49e3-996d-49a5583370a1"
      },
      "execution_count": 358,
      "outputs": [
        {
          "output_type": "display_data",
          "data": {
            "text/plain": [
              "<Figure size 1000x600 with 1 Axes>"
            ],
            "image/png": "[encoded data removed]"
          },
          "metadata": {}
        }
      ]
    }
  ]
}